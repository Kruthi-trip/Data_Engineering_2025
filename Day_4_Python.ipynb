{
  "nbformat": 4,
  "nbformat_minor": 0,
  "metadata": {
    "colab": {
      "provenance": [],
      "authorship_tag": "ABX9TyOllgao++EcUNpJ4zzB1SAn",
      "include_colab_link": true
    },
    "kernelspec": {
      "name": "python3",
      "display_name": "Python 3"
    },
    "language_info": {
      "name": "python"
    }
  },
  "cells": [
    {
      "cell_type": "markdown",
      "metadata": {
        "id": "view-in-github",
        "colab_type": "text"
      },
      "source": [
        "<a href=\"https://colab.research.google.com/github/Kruthi-trip/Data_Engineering_2025/blob/main/Day_4_Python.ipynb\" target=\"_parent\"><img src=\"https://colab.research.google.com/assets/colab-badge.svg\" alt=\"Open In Colab\"/></a>"
      ]
    },
    {
      "cell_type": "markdown",
      "source": [
        "# Functions\n",
        "## Defining functions"
      ],
      "metadata": {
        "id": "UFtbmbAN_YOD"
      }
    },
    {
      "cell_type": "code",
      "source": [
        "def add(a,b):\n",
        "  return a+b"
      ],
      "metadata": {
        "id": "WGDmZec2_a9o"
      },
      "execution_count": 2,
      "outputs": []
    },
    {
      "cell_type": "code",
      "source": [
        "add(54,23)"
      ],
      "metadata": {
        "colab": {
          "base_uri": "https://localhost:8080/"
        },
        "id": "P0KZZy8T_hqK",
        "outputId": "c2e12f9d-f1dc-434b-ecab-f333353c48c5"
      },
      "execution_count": 3,
      "outputs": [
        {
          "output_type": "execute_result",
          "data": {
            "text/plain": [
              "77"
            ]
          },
          "metadata": {},
          "execution_count": 3
        }
      ]
    },
    {
      "cell_type": "code",
      "source": [
        "def power(num, pow):\n",
        "  return num**pow"
      ],
      "metadata": {
        "id": "1wOxzLLC_mnw"
      },
      "execution_count": 4,
      "outputs": []
    },
    {
      "cell_type": "code",
      "source": [
        "power(5, 2)"
      ],
      "metadata": {
        "colab": {
          "base_uri": "https://localhost:8080/"
        },
        "id": "hEMlL4eE_tQi",
        "outputId": "bec4eabc-8e29-4f51-8d21-1c0cf13d277a"
      },
      "execution_count": 5,
      "outputs": [
        {
          "output_type": "execute_result",
          "data": {
            "text/plain": [
              "25"
            ]
          },
          "metadata": {},
          "execution_count": 5
        }
      ]
    },
    {
      "cell_type": "markdown",
      "source": [
        "# Functions in Python\n",
        "### Outline:\n",
        "\n",
        "1. Introduction to Functions\n",
        "2. Defining Functions\n",
        "3. Calling Functions\n",
        "4. Function Parameters\n",
        "5. Default Parameters\n",
        "6. Variable-Length Arguments\n",
        "7. Return Statement"
      ],
      "metadata": {
        "id": "XA0Qu4mG_4Xd"
      }
    },
    {
      "cell_type": "markdown",
      "source": [
        "# Introduction to Functions\n",
        "### Definition:\n",
        "\n",
        "A function is a block of code that performs a specific task. Functions help in organizing code, reusing code, and improving readability."
      ],
      "metadata": {
        "id": "bGPxtnesACE1"
      }
    },
    {
      "cell_type": "code",
      "source": [
        "'''\n",
        "## syntax\n",
        "\n",
        "def function_name(parameters):\n",
        "    \"\"\"Docstring\"\"\"\n",
        "    # Function body\n",
        "    return expression\n",
        "'''"
      ],
      "metadata": {
        "colab": {
          "base_uri": "https://localhost:8080/",
          "height": 52
        },
        "id": "l80OWhQ1ALhr",
        "outputId": "09ecc205-8381-4fdc-b697-11f397a18f60"
      },
      "execution_count": 6,
      "outputs": [
        {
          "output_type": "execute_result",
          "data": {
            "text/plain": [
              "'\\n## syntax\\n\\ndef function_name(parameters):\\n    \"\"\"Docstring\"\"\"\\n    # Function body\\n    return expression\\n'"
            ],
            "application/vnd.google.colaboratory.intrinsic+json": {
              "type": "string"
            }
          },
          "metadata": {},
          "execution_count": 6
        }
      ]
    },
    {
      "cell_type": "markdown",
      "source": [
        "# Why Functions\n"
      ],
      "metadata": {
        "id": "4Sdo1J7yATx3"
      }
    },
    {
      "cell_type": "code",
      "source": [
        "num=24\n",
        "if num%2==0:\n",
        "    print(\"the number is even\")\n",
        "else:\n",
        "    print(\"the number is odd\")"
      ],
      "metadata": {
        "colab": {
          "base_uri": "https://localhost:8080/"
        },
        "id": "nYXyvAzLAXMZ",
        "outputId": "086fad48-f30b-4c5f-d2cf-bf3c913d385e"
      },
      "execution_count": 7,
      "outputs": [
        {
          "output_type": "stream",
          "name": "stdout",
          "text": [
            "the number is even\n"
          ]
        }
      ]
    },
    {
      "cell_type": "code",
      "source": [
        "def even_or_odd(num):\n",
        "  \"\"\"\n",
        "  This function finds even or odd\n",
        "  \"\"\"\n",
        "  if num%2==0:\n",
        "    print(\"the number is even\")\n",
        "  else:\n",
        "    print(\"the number is odd\")"
      ],
      "metadata": {
        "id": "VjSoJq6uAxbg"
      },
      "execution_count": 8,
      "outputs": []
    },
    {
      "cell_type": "code",
      "source": [
        "even_or_odd(34)"
      ],
      "metadata": {
        "colab": {
          "base_uri": "https://localhost:8080/"
        },
        "id": "0J7SrNXZA5Ai",
        "outputId": "7e377990-d8f8-479f-8b9f-a8c137d03ecb"
      },
      "execution_count": 9,
      "outputs": [
        {
          "output_type": "stream",
          "name": "stdout",
          "text": [
            "the number is even\n"
          ]
        }
      ]
    },
    {
      "cell_type": "markdown",
      "source": [
        "## function with multiple parameters"
      ],
      "metadata": {
        "id": "Bcn3RR3YBCmI"
      }
    },
    {
      "cell_type": "code",
      "source": [
        "def add(a,b):\n",
        "    return a+b\n",
        "\n",
        "result=add(2,4)\n",
        "print(result)"
      ],
      "metadata": {
        "colab": {
          "base_uri": "https://localhost:8080/"
        },
        "id": "cj00dcIkA9ju",
        "outputId": "e2a450c7-a1a4-468a-8d18-32dd5d200a90"
      },
      "execution_count": 10,
      "outputs": [
        {
          "output_type": "stream",
          "name": "stdout",
          "text": [
            "6\n"
          ]
        }
      ]
    },
    {
      "cell_type": "markdown",
      "source": [
        "## Default Parameters"
      ],
      "metadata": {
        "id": "1TZ1uUvwBimJ"
      }
    },
    {
      "cell_type": "code",
      "source": [
        "def greet(name):\n",
        "    print(f\"Hello {name}, Welcome To the paradise\")\n",
        "\n",
        "greet()"
      ],
      "metadata": {
        "colab": {
          "base_uri": "https://localhost:8080/",
          "height": 176
        },
        "id": "2hoxwAjtBjOr",
        "outputId": "d9b7fdaf-d9d6-45c3-b1e5-84f09f6ede80"
      },
      "execution_count": 11,
      "outputs": [
        {
          "output_type": "error",
          "ename": "TypeError",
          "evalue": "greet() missing 1 required positional argument: 'name'",
          "traceback": [
            "\u001b[0;31m---------------------------------------------------------------------------\u001b[0m",
            "\u001b[0;31mTypeError\u001b[0m                                 Traceback (most recent call last)",
            "\u001b[0;32m/tmp/ipython-input-11-1860385940.py\u001b[0m in \u001b[0;36m<cell line: 0>\u001b[0;34m()\u001b[0m\n\u001b[1;32m      2\u001b[0m     \u001b[0mprint\u001b[0m\u001b[0;34m(\u001b[0m\u001b[0;34mf\"Hello {name}, Welcome To the paradise\"\u001b[0m\u001b[0;34m)\u001b[0m\u001b[0;34m\u001b[0m\u001b[0;34m\u001b[0m\u001b[0m\n\u001b[1;32m      3\u001b[0m \u001b[0;34m\u001b[0m\u001b[0m\n\u001b[0;32m----> 4\u001b[0;31m \u001b[0mgreet\u001b[0m\u001b[0;34m(\u001b[0m\u001b[0;34m)\u001b[0m\u001b[0;34m\u001b[0m\u001b[0;34m\u001b[0m\u001b[0m\n\u001b[0m",
            "\u001b[0;31mTypeError\u001b[0m: greet() missing 1 required positional argument: 'name'"
          ]
        }
      ]
    },
    {
      "cell_type": "code",
      "source": [
        "def greet(name='User'):\n",
        "    print(f\"Hello {name}, Welcome To the paradise\")\n",
        "\n",
        "greet()"
      ],
      "metadata": {
        "colab": {
          "base_uri": "https://localhost:8080/"
        },
        "id": "KwLPj1DRCPTk",
        "outputId": "41fec12c-4053-4c5c-c3c3-6365304af58e"
      },
      "execution_count": 12,
      "outputs": [
        {
          "output_type": "stream",
          "name": "stdout",
          "text": [
            "Hello User, Welcome To the paradise\n"
          ]
        }
      ]
    },
    {
      "cell_type": "code",
      "source": [
        "def greet(name):\n",
        "    print(f\"Hello {name}, Welcome to the paradise!\")\n",
        "\n",
        "greet('Kruthi')"
      ],
      "metadata": {
        "colab": {
          "base_uri": "https://localhost:8080/"
        },
        "id": "Hi0RbudlCUc8",
        "outputId": "345dc146-aea6-4496-8366-f7f89b65cf99"
      },
      "execution_count": 13,
      "outputs": [
        {
          "output_type": "stream",
          "name": "stdout",
          "text": [
            "Hello Kruthi, Welcome to the paradise!\n"
          ]
        }
      ]
    },
    {
      "cell_type": "code",
      "source": [
        "def greet(name, age):\n",
        "    print(f\"Hello {name}, Welcome to the paradise! You are {age} years old.\")"
      ],
      "metadata": {
        "id": "t-O4W2MkCaUs"
      },
      "execution_count": 14,
      "outputs": []
    },
    {
      "cell_type": "code",
      "source": [
        "greet(\"Kruthi\", 27)"
      ],
      "metadata": {
        "colab": {
          "base_uri": "https://localhost:8080/"
        },
        "id": "nOytwQqxCeGV",
        "outputId": "8aa32f75-5e51-49d6-cf11-540f25231eb7"
      },
      "execution_count": 15,
      "outputs": [
        {
          "output_type": "stream",
          "name": "stdout",
          "text": [
            "Hello Kruthi, Welcome to the paradise! You are 27 years old.\n"
          ]
        }
      ]
    },
    {
      "cell_type": "markdown",
      "source": [
        "### Variable Length Arguments\n",
        "## Positional And Keywords arguments\n"
      ],
      "metadata": {
        "id": "12PYwxNqCsgF"
      }
    },
    {
      "cell_type": "code",
      "source": [
        "def print_numbers(*args):\n",
        "  print(type(args))\n",
        "  print(args)\n",
        "  for number in args:\n",
        "      print(number)\n",
        "\n",
        "\n",
        "print_numbers(1,2,3,4,5,6,7,8,\"Nikhil\")"
      ],
      "metadata": {
        "colab": {
          "base_uri": "https://localhost:8080/"
        },
        "id": "jPaydXJ-CtMb",
        "outputId": "ddf22e8e-2c3f-4129-ca38-5da16796518c"
      },
      "execution_count": 16,
      "outputs": [
        {
          "output_type": "stream",
          "name": "stdout",
          "text": [
            "<class 'tuple'>\n",
            "(1, 2, 3, 4, 5, 6, 7, 8, 'Nikhil')\n",
            "1\n",
            "2\n",
            "3\n",
            "4\n",
            "5\n",
            "6\n",
            "7\n",
            "8\n",
            "Nikhil\n"
          ]
        }
      ]
    },
    {
      "cell_type": "code",
      "source": [
        "def add(*nums):\n",
        "  return sum(nums)\n",
        "\n",
        "add(1,2,3,4,5)"
      ],
      "metadata": {
        "colab": {
          "base_uri": "https://localhost:8080/"
        },
        "id": "pBhW2PYkZ1-j",
        "outputId": "a65e024f-7882-46d1-f200-6202f2518496"
      },
      "execution_count": 17,
      "outputs": [
        {
          "output_type": "execute_result",
          "data": {
            "text/plain": [
              "15"
            ]
          },
          "metadata": {},
          "execution_count": 17
        }
      ]
    },
    {
      "cell_type": "markdown",
      "source": [
        "This is where *args can be really useful, because it allows you to pass a\n",
        "varying number of positional arguments. Take the following example:\n"
      ],
      "metadata": {
        "id": "w4zfmPNiaG6N"
      }
    },
    {
      "cell_type": "code",
      "source": [
        "def my_sum(*args):\n",
        "  print(type(args))\n",
        "  result = 0\n",
        "  # Iterating over the Python args tuple\n",
        "  for x in args:\n",
        "      result += x\n",
        "  return result\n",
        "\n",
        "print(my_sum(1, 2, 3))"
      ],
      "metadata": {
        "colab": {
          "base_uri": "https://localhost:8080/"
        },
        "id": "eQVpqyYBaKhF",
        "outputId": "aadb1d9e-4860-4ad3-ee99-c0dfe059e111"
      },
      "execution_count": 18,
      "outputs": [
        {
          "output_type": "stream",
          "name": "stdout",
          "text": [
            "<class 'tuple'>\n",
            "6\n"
          ]
        }
      ]
    },
    {
      "cell_type": "markdown",
      "source": [
        "### Keywords Arguments"
      ],
      "metadata": {
        "id": "evm8WUpIa36m"
      }
    },
    {
      "cell_type": "code",
      "source": [
        "def print_details(**kwargs):\n",
        "  print(type(kwargs))\n",
        "  print(kwargs)\n",
        "  for key, value in kwargs.items():\n",
        "    print(f\"{key}: {value}\")\n",
        "\n",
        "\n",
        "print_details(name=\"Kruthi\", age=27, city=\"Hyderabad\")"
      ],
      "metadata": {
        "colab": {
          "base_uri": "https://localhost:8080/"
        },
        "id": "-_pEP70Oa4xY",
        "outputId": "a5fdd57d-858a-4d9c-eeb5-bdd06fe9dcca"
      },
      "execution_count": 19,
      "outputs": [
        {
          "output_type": "stream",
          "name": "stdout",
          "text": [
            "<class 'dict'>\n",
            "{'name': 'Kruthi', 'age': 27, 'city': 'Hyderabad'}\n",
            "name: Kruthi\n",
            "age: 27\n",
            "city: Hyderabad\n"
          ]
        }
      ]
    },
    {
      "cell_type": "code",
      "source": [
        "def print_details(**details):\n",
        "    for key, value in details.items():\n",
        "        print(f\"{key}: {value}\")\n",
        "\n",
        "print_details()"
      ],
      "metadata": {
        "id": "mZIsQm71c6dM"
      },
      "execution_count": 20,
      "outputs": []
    },
    {
      "cell_type": "code",
      "source": [
        "student_details = {\n",
        "    \"name\": \"Kruthi\",\n",
        "    \"age\": 27,\n",
        "    \"city\": \"Hyderabad\"\n",
        "}\n",
        "\n",
        "print_details(**student_details)"
      ],
      "metadata": {
        "colab": {
          "base_uri": "https://localhost:8080/"
        },
        "id": "8ImpvzdAfMC9",
        "outputId": "97c628e0-9ae5-4bc7-ec6f-9338e5cd79f9"
      },
      "execution_count": 21,
      "outputs": [
        {
          "output_type": "stream",
          "name": "stdout",
          "text": [
            "name: Kruthi\n",
            "age: 27\n",
            "city: Hyderabad\n"
          ]
        }
      ]
    },
    {
      "cell_type": "markdown",
      "source": [
        "## Side Note on :Unpacking With the Asterisk Operators: * & **\n",
        "The unpacking operators are operators that unpack the values from iterable objects in Python. The single asterisk operator * can be used on any iterable that Python provides, while the double asterisk operator ** can only be used on dictionaries."
      ],
      "metadata": {
        "id": "EoOGN587fWJY"
      }
    },
    {
      "cell_type": "markdown",
      "source": [
        "When you use the * operator to unpack a list and pass arguments to a function, it’s exactly as though you’re passing every single argument alone. This means that you can use multiple unpacking operators to get values from several lists and pass them all to a single function."
      ],
      "metadata": {
        "id": "BPr5Ssk8feH4"
      }
    },
    {
      "cell_type": "code",
      "source": [
        "def my_sum(*args):\n",
        "    result = 0\n",
        "    for x in args:\n",
        "        result += x\n",
        "    return result\n",
        "\n",
        "list1 = [1, 2, 3]\n",
        "list2 = [4, 5]\n",
        "list3 = [6, 7, 8, 9]\n",
        "\n",
        "print(my_sum(*list1, *list2, *list3))"
      ],
      "metadata": {
        "colab": {
          "base_uri": "https://localhost:8080/"
        },
        "id": "6l3AysCffn4M",
        "outputId": "c00b321b-e166-470d-b673-aa2e2bcc455b"
      },
      "execution_count": 22,
      "outputs": [
        {
          "output_type": "stream",
          "name": "stdout",
          "text": [
            "45\n"
          ]
        }
      ]
    },
    {
      "cell_type": "code",
      "source": [
        "my_list = [1, 2, 3, 4, 5, 6]\n",
        "\n",
        "a, *b, c = my_list # The first variable is assigned to a, the last to c, and all other values are packed into a new list b.\n",
        "\n",
        "print(a)\n",
        "print(b)\n",
        "print(c)"
      ],
      "metadata": {
        "colab": {
          "base_uri": "https://localhost:8080/"
        },
        "id": "6oWZ6Zfzf9-l",
        "outputId": "8deff5a7-5e1b-40bb-8f88-4842fa6c1c58"
      },
      "execution_count": 23,
      "outputs": [
        {
          "output_type": "stream",
          "name": "stdout",
          "text": [
            "1\n",
            "[2, 3, 4, 5]\n",
            "6\n"
          ]
        }
      ]
    },
    {
      "cell_type": "code",
      "source": [
        "my_first_list = [1, 2, 3]\n",
        "my_second_list = [4, 5, 6]\n",
        "my_merged_list = [*my_first_list, *my_second_list] # The unpacking operator * is prepended to both my_first_list and my_second_list.\n",
        "\n",
        "print(my_merged_list)"
      ],
      "metadata": {
        "colab": {
          "base_uri": "https://localhost:8080/"
        },
        "id": "pARzRG3lgFuy",
        "outputId": "8f8460c8-3f09-42e1-87d8-e601ffb40c6e"
      },
      "execution_count": 24,
      "outputs": [
        {
          "output_type": "stream",
          "name": "stdout",
          "text": [
            "[1, 2, 3, 4, 5, 6]\n"
          ]
        }
      ]
    },
    {
      "cell_type": "code",
      "source": [
        "## You can even merge two different dictionaries by using the unpacking operator **:\n",
        "my_first_dict = {\"A\": 1, \"B\": 2}\n",
        "my_second_dict = {\"C\": 3, \"D\": 4}\n",
        "my_merged_dict = {**my_first_dict, **my_second_dict}\n",
        "\n",
        "print(my_merged_dict)"
      ],
      "metadata": {
        "colab": {
          "base_uri": "https://localhost:8080/"
        },
        "id": "NrClZvOMgOFY",
        "outputId": "03a1089c-225e-4643-8df7-ff9a9da37913"
      },
      "execution_count": 25,
      "outputs": [
        {
          "output_type": "stream",
          "name": "stdout",
          "text": [
            "{'A': 1, 'B': 2, 'C': 3, 'D': 4}\n"
          ]
        }
      ]
    },
    {
      "cell_type": "markdown",
      "source": [
        "# Functions Examples\n",
        "### Example 1: Temperature Conversion"
      ],
      "metadata": {
        "id": "xMkwVanXgYUB"
      }
    },
    {
      "cell_type": "markdown",
      "source": [
        "## converts temperature between Celsius and Fahrenheit"
      ],
      "metadata": {
        "id": "q0urWVRkhVwK"
      }
    },
    {
      "cell_type": "code",
      "source": [
        "def convert_temperature(temp,unit):\n",
        "    \"\"\"This function converts temperature between Celsius and Fahrenheit\"\"\"\n",
        "    if unit=='C':\n",
        "        return temp * 9/5 + 32  ## Celsius To Fahrenheit\n",
        "    elif unit==\"F\":\n",
        "        return (temp-32)*5/9 ## Fahrenheit to celsius\n",
        "    else:\n",
        "        return None"
      ],
      "metadata": {
        "id": "K-GLc7ItgWRG"
      },
      "execution_count": 26,
      "outputs": []
    },
    {
      "cell_type": "code",
      "source": [
        "convert_temperature(75,\"F\")"
      ],
      "metadata": {
        "colab": {
          "base_uri": "https://localhost:8080/"
        },
        "id": "asb5yW46gpWp",
        "outputId": "221c7bde-4a0c-4281-8127-1ea2e98a6484"
      },
      "execution_count": 27,
      "outputs": [
        {
          "output_type": "execute_result",
          "data": {
            "text/plain": [
              "23.88888888888889"
            ]
          },
          "metadata": {},
          "execution_count": 27
        }
      ]
    },
    {
      "cell_type": "markdown",
      "source": [
        "## Example 2: Password Strength Checker"
      ],
      "metadata": {
        "id": "y2qUlIQPhSM9"
      }
    },
    {
      "cell_type": "code",
      "source": [
        "\n",
        "def is_strong_password(password):\n",
        "    \"\"\"This function checks if the password is strong or not\"\"\"\n",
        "    pass"
      ],
      "metadata": {
        "id": "04ZsjY40gxYM"
      },
      "execution_count": 28,
      "outputs": []
    },
    {
      "cell_type": "markdown",
      "source": [
        "## Example 3: Check IF a String Is Palindrome"
      ],
      "metadata": {
        "id": "mHk1xjLVhZUj"
      }
    },
    {
      "cell_type": "code",
      "source": [
        "def is_palindrome(s):\n",
        "  pass"
      ],
      "metadata": {
        "id": "CAYUu61jhbwQ"
      },
      "execution_count": 29,
      "outputs": []
    },
    {
      "cell_type": "markdown",
      "source": [
        "## Lambda Functions in Python\n",
        "Lambda functions are small anonymous functions defined using the lambda keyword. They can have any number of arguments but only one expression. They are commonly used for short operations or as arguments to higher-order functions.\n",
        "\n",
        "There can only be one expressin in lambda function, no multiple functions are possible"
      ],
      "metadata": {
        "id": "LlT3uVBYhgAp"
      }
    },
    {
      "cell_type": "code",
      "source": [
        "#Syntax\n",
        "'''\n",
        "lambda arguments: expression\n",
        "\n",
        "'''"
      ],
      "metadata": {
        "colab": {
          "base_uri": "https://localhost:8080/",
          "height": 35
        },
        "id": "KAqvjZuXhdv8",
        "outputId": "408c5879-e9d4-4127-ef68-6d058f246f44"
      },
      "execution_count": 30,
      "outputs": [
        {
          "output_type": "execute_result",
          "data": {
            "text/plain": [
              "'\\nlambda arguments: expression\\n\\n'"
            ],
            "application/vnd.google.colaboratory.intrinsic+json": {
              "type": "string"
            }
          },
          "metadata": {},
          "execution_count": 30
        }
      ]
    },
    {
      "cell_type": "code",
      "source": [
        "def addition(a,b):\n",
        "    return a+b"
      ],
      "metadata": {
        "id": "epv7WXJFoFUN"
      },
      "execution_count": 31,
      "outputs": []
    },
    {
      "cell_type": "code",
      "source": [
        "addition(2,3)"
      ],
      "metadata": {
        "colab": {
          "base_uri": "https://localhost:8080/"
        },
        "id": "77njMJb4oRQa",
        "outputId": "6e352610-8621-456a-e15e-151d044ea9b2"
      },
      "execution_count": 32,
      "outputs": [
        {
          "output_type": "execute_result",
          "data": {
            "text/plain": [
              "5"
            ]
          },
          "metadata": {},
          "execution_count": 32
        }
      ]
    },
    {
      "cell_type": "code",
      "source": [
        "add = lambda a,b : a+b"
      ],
      "metadata": {
        "id": "2a5bH0TdoTgv"
      },
      "execution_count": 33,
      "outputs": []
    },
    {
      "cell_type": "code",
      "source": [
        "add(6,9)"
      ],
      "metadata": {
        "colab": {
          "base_uri": "https://localhost:8080/"
        },
        "id": "ny-xqQv_oWcI",
        "outputId": "6ce196fe-f07e-45a6-cc32-6cb64676fbfa"
      },
      "execution_count": 34,
      "outputs": [
        {
          "output_type": "execute_result",
          "data": {
            "text/plain": [
              "15"
            ]
          },
          "metadata": {},
          "execution_count": 34
        }
      ]
    },
    {
      "cell_type": "code",
      "source": [
        "power = lambda x,y: x**y\n",
        "\n",
        "power(9,2)"
      ],
      "metadata": {
        "colab": {
          "base_uri": "https://localhost:8080/"
        },
        "id": "C4-G97lQoX9Z",
        "outputId": "4e1b1ebf-7b82-474b-98a4-8014b5a08b50"
      },
      "execution_count": 35,
      "outputs": [
        {
          "output_type": "execute_result",
          "data": {
            "text/plain": [
              "81"
            ]
          },
          "metadata": {},
          "execution_count": 35
        }
      ]
    },
    {
      "cell_type": "code",
      "source": [
        "type(addition)"
      ],
      "metadata": {
        "colab": {
          "base_uri": "https://localhost:8080/"
        },
        "id": "nC3dsGrfot60",
        "outputId": "832c747f-16ce-4b36-ed17-15c35713f840"
      },
      "execution_count": 36,
      "outputs": [
        {
          "output_type": "execute_result",
          "data": {
            "text/plain": [
              "function"
            ]
          },
          "metadata": {},
          "execution_count": 36
        }
      ]
    },
    {
      "cell_type": "code",
      "source": [
        "addition=lambda a,b:a+b\n",
        "print(type(addition))\n",
        "print(addition(5,6))"
      ],
      "metadata": {
        "colab": {
          "base_uri": "https://localhost:8080/"
        },
        "id": "gKffy_ogow--",
        "outputId": "25f9c941-9b0c-4bcd-a382-23ee24414484"
      },
      "execution_count": 37,
      "outputs": [
        {
          "output_type": "stream",
          "name": "stdout",
          "text": [
            "<class 'function'>\n",
            "11\n"
          ]
        }
      ]
    },
    {
      "cell_type": "markdown",
      "source": [
        "## determining even or odd using lambda"
      ],
      "metadata": {
        "id": "ps2DXpl6pAN8"
      }
    },
    {
      "cell_type": "code",
      "source": [
        "def is_even(num):\n",
        "    if num%2==0:\n",
        "        return True\n",
        "    else:\n",
        "      return False\n",
        "is_even(31)"
      ],
      "metadata": {
        "colab": {
          "base_uri": "https://localhost:8080/"
        },
        "id": "LfnR8sLIo3BT",
        "outputId": "0013f4c5-0a5b-4ca1-d789-cbcff6d16069"
      },
      "execution_count": 38,
      "outputs": [
        {
          "output_type": "execute_result",
          "data": {
            "text/plain": [
              "False"
            ]
          },
          "metadata": {},
          "execution_count": 38
        }
      ]
    },
    {
      "cell_type": "code",
      "source": [
        "even1=lambda num:num%2==0\n",
        "even1(31)"
      ],
      "metadata": {
        "colab": {
          "base_uri": "https://localhost:8080/"
        },
        "id": "QFYAi0Uno8Al",
        "outputId": "4afcbc0e-8419-4885-9f90-fdfc22bebcdf"
      },
      "execution_count": 39,
      "outputs": [
        {
          "output_type": "execute_result",
          "data": {
            "text/plain": [
              "False"
            ]
          },
          "metadata": {},
          "execution_count": 39
        }
      ]
    },
    {
      "cell_type": "code",
      "source": [
        "addition1=lambda x,y,z:x+y+z\n",
        "addition1(12,13,14)"
      ],
      "metadata": {
        "colab": {
          "base_uri": "https://localhost:8080/"
        },
        "id": "f2QH96uTpHrn",
        "outputId": "5beba4ba-d9c6-4f8e-89f0-ef5a2df473a3"
      },
      "execution_count": 40,
      "outputs": [
        {
          "output_type": "execute_result",
          "data": {
            "text/plain": [
              "39"
            ]
          },
          "metadata": {},
          "execution_count": 40
        }
      ]
    },
    {
      "cell_type": "code",
      "source": [
        "addition1=lambda lst:sum(lst)\n",
        "addition1([12,13,14])"
      ],
      "metadata": {
        "colab": {
          "base_uri": "https://localhost:8080/"
        },
        "id": "XccRLk7upMgU",
        "outputId": "da5e3b89-66d8-4a4c-ad9b-a729603d1350"
      },
      "execution_count": 41,
      "outputs": [
        {
          "output_type": "execute_result",
          "data": {
            "text/plain": [
              "39"
            ]
          },
          "metadata": {},
          "execution_count": 41
        }
      ]
    },
    {
      "cell_type": "code",
      "source": [
        "nums = [1,2,3,4,5,6]\n",
        "evens = [i for i in nums if i%2==0]\n",
        "evens"
      ],
      "metadata": {
        "colab": {
          "base_uri": "https://localhost:8080/"
        },
        "id": "XS44vBJwpQ_s",
        "outputId": "07497638-5778-4f7e-b124-5a4eabcc1e24"
      },
      "execution_count": 42,
      "outputs": [
        {
          "output_type": "execute_result",
          "data": {
            "text/plain": [
              "[2, 4, 6]"
            ]
          },
          "metadata": {},
          "execution_count": 42
        }
      ]
    },
    {
      "cell_type": "markdown",
      "source": [
        "## element wise operations\n",
        " adding values based on index and zip() function does that"
      ],
      "metadata": {
        "id": "xJUrkX8yqlne"
      }
    },
    {
      "cell_type": "code",
      "source": [
        "a = [1,2,3,4,5]\n",
        "b = [1,2,3,4,5]\n",
        "\n",
        "c = [i+j for i,j in zip(a,b)]\n",
        "c"
      ],
      "metadata": {
        "colab": {
          "base_uri": "https://localhost:8080/"
        },
        "id": "xMOhax_9qaJn",
        "outputId": "9e7e0664-1e51-4164-c4cb-354f0faefa8e"
      },
      "execution_count": 43,
      "outputs": [
        {
          "output_type": "execute_result",
          "data": {
            "text/plain": [
              "[2, 4, 6, 8, 10]"
            ]
          },
          "metadata": {},
          "execution_count": 43
        }
      ]
    },
    {
      "cell_type": "code",
      "source": [
        "result = []\n",
        "# This ensures that the loop only iterates as\n",
        "# many times as the shorter list has elements,\n",
        "# preventing an IndexError if the lists are of different lengths.\n",
        "for i in range(min(len(a), len(b))):\n",
        "  result.append(a[i]+b[i])\n",
        "result"
      ],
      "metadata": {
        "colab": {
          "base_uri": "https://localhost:8080/"
        },
        "id": "iX18X9Kuq7vf",
        "outputId": "4beb9625-44e0-4548-d3db-0854d38427fb"
      },
      "execution_count": 44,
      "outputs": [
        {
          "output_type": "execute_result",
          "data": {
            "text/plain": [
              "[2, 4, 6, 8, 10]"
            ]
          },
          "metadata": {},
          "execution_count": 44
        }
      ]
    },
    {
      "cell_type": "markdown",
      "source": [
        "## The map() Function in Python\n",
        "The map() function applies a given function to all items in an input list (or any other iterable) and returns a map object (an iterator). This is particularly useful for transforming data in a list comprehensively."
      ],
      "metadata": {
        "id": "uROjy5jIr1Fm"
      }
    },
    {
      "cell_type": "code",
      "source": [
        "def square(x):\n",
        "    return x*x\n",
        "\n",
        "square(10)"
      ],
      "metadata": {
        "colab": {
          "base_uri": "https://localhost:8080/"
        },
        "id": "X4H3plPNr-OG",
        "outputId": "d411117a-c58a-4f1d-a419-117d471aca8d"
      },
      "execution_count": 45,
      "outputs": [
        {
          "output_type": "execute_result",
          "data": {
            "text/plain": [
              "100"
            ]
          },
          "metadata": {},
          "execution_count": 45
        }
      ]
    },
    {
      "cell_type": "code",
      "source": [
        "numbers=[1,2,3,4,5,6,7,8]\n",
        "\n",
        "list(map(square,numbers))"
      ],
      "metadata": {
        "colab": {
          "base_uri": "https://localhost:8080/"
        },
        "id": "xTXlQcyqr_A3",
        "outputId": "d39571f2-1563-43d8-fbd1-41c332598135"
      },
      "execution_count": 46,
      "outputs": [
        {
          "output_type": "execute_result",
          "data": {
            "text/plain": [
              "[1, 4, 9, 16, 25, 36, 49, 64]"
            ]
          },
          "metadata": {},
          "execution_count": 46
        }
      ]
    },
    {
      "cell_type": "code",
      "source": [
        "## map() to convert a list of strings to integers\n",
        "# Use map to convert strings to integers\n",
        "str_numbers = ['1', '2', '3', '4', '5']\n",
        "int_numbers = list(map(int, str_numbers))\n",
        "\n",
        "\n",
        "print(int_numbers)  # Output: [1, 2, 3, 4, 5]"
      ],
      "metadata": {
        "colab": {
          "base_uri": "https://localhost:8080/"
        },
        "id": "cQmjb-sysMXB",
        "outputId": "5f689c51-6407-48a6-e292-c52c50652b40"
      },
      "execution_count": 47,
      "outputs": [
        {
          "output_type": "stream",
          "name": "stdout",
          "text": [
            "[1, 2, 3, 4, 5]\n"
          ]
        }
      ]
    },
    {
      "cell_type": "markdown",
      "source": [
        "## changing to upper case"
      ],
      "metadata": {
        "id": "eC-yMlHOshHb"
      }
    },
    {
      "cell_type": "code",
      "source": [
        "words=['apple','banana','cherry']\n",
        "upper_word=list(map(str.upper,words))\n",
        "print(upper_word)"
      ],
      "metadata": {
        "colab": {
          "base_uri": "https://localhost:8080/"
        },
        "id": "hp3dIysIsVMz",
        "outputId": "ace820f6-a134-473b-b0d5-9162c9fd9481"
      },
      "execution_count": 48,
      "outputs": [
        {
          "output_type": "stream",
          "name": "stdout",
          "text": [
            "['APPLE', 'BANANA', 'CHERRY']\n"
          ]
        }
      ]
    },
    {
      "cell_type": "markdown",
      "source": [
        "## The filter() Function in Python\n",
        "The filter() function constructs an iterator from elements of an iterable for which a function returns true. It is used to filter out items from a list (or any other iterable) based on a condition."
      ],
      "metadata": {
        "id": "M-Bfh8POsmb7"
      }
    },
    {
      "cell_type": "code",
      "source": [
        "def even(num):\n",
        "    if num%2==0:\n",
        "        return True\n",
        "    else:\n",
        "        return False"
      ],
      "metadata": {
        "id": "0_l-jthvsf4a"
      },
      "execution_count": 49,
      "outputs": []
    },
    {
      "cell_type": "code",
      "source": [
        "even(45)"
      ],
      "metadata": {
        "colab": {
          "base_uri": "https://localhost:8080/"
        },
        "id": "Slb0n_KKstkH",
        "outputId": "0eaa8c98-40b1-434a-b1ee-8284ec46b455"
      },
      "execution_count": 50,
      "outputs": [
        {
          "output_type": "execute_result",
          "data": {
            "text/plain": [
              "False"
            ]
          },
          "metadata": {},
          "execution_count": 50
        }
      ]
    },
    {
      "cell_type": "code",
      "source": [
        "lst=[1,2,3,4,5,6,7,8,9,10,11,12]\n",
        "\n",
        "list(filter(even, lst))"
      ],
      "metadata": {
        "colab": {
          "base_uri": "https://localhost:8080/"
        },
        "id": "xJNlBwFsswRv",
        "outputId": "1425b60f-5acf-47ab-d483-5925ce0320b7"
      },
      "execution_count": 51,
      "outputs": [
        {
          "output_type": "execute_result",
          "data": {
            "text/plain": [
              "[2, 4, 6, 8, 10, 12]"
            ]
          },
          "metadata": {},
          "execution_count": 51
        }
      ]
    },
    {
      "cell_type": "markdown",
      "source": [
        "## Filter with a lambda function and multiple conditions"
      ],
      "metadata": {
        "id": "JrEzA5OPtFfy"
      }
    },
    {
      "cell_type": "code",
      "source": [
        "numbers=[1,2,3,4,5,6,7,8,9]\n",
        "even_and_greater_than_five=list(filter(lambda x:x>5 and x%2==0,numbers))\n",
        "print(even_and_greater_than_five)"
      ],
      "metadata": {
        "colab": {
          "base_uri": "https://localhost:8080/"
        },
        "id": "2eR-fB7DtBpH",
        "outputId": "efdb1b7e-5487-488d-ba2d-cc4ab640f301"
      },
      "execution_count": 52,
      "outputs": [
        {
          "output_type": "stream",
          "name": "stdout",
          "text": [
            "[6, 8]\n"
          ]
        }
      ]
    },
    {
      "cell_type": "markdown",
      "source": [
        "# Homework"
      ],
      "metadata": {
        "id": "lBt2kC6_taoU"
      }
    },
    {
      "cell_type": "code",
      "source": [
        "## learn reduce function in python\n",
        "# First, import the reduce function from the functools module\n",
        "from functools import reduce\n",
        "\n",
        "# Define a list of numbers\n",
        "numbers = [1, 2, 3, 4, 5]\n",
        "\n",
        "# Define a function to add two numbers\n",
        "def add_two_numbers(x, y):\n",
        "  return x + y\n",
        "\n",
        "# Use reduce to apply the add_two_numbers function cumulatively\n",
        "# to the numbers list. The result will be the sum of all elements.\n",
        "sum_of_numbers = reduce(add_two_numbers, numbers)\n",
        "\n",
        "# Print the result\n",
        "print(f\"The sum of the numbers in the list is: {sum_of_numbers}\")"
      ],
      "metadata": {
        "colab": {
          "base_uri": "https://localhost:8080/"
        },
        "id": "RxlD3YgatNOc",
        "outputId": "086b8a05-046b-4e18-b1eb-65e724fe427c"
      },
      "execution_count": 53,
      "outputs": [
        {
          "output_type": "stream",
          "name": "stdout",
          "text": [
            "The sum of the numbers in the list is: 15\n"
          ]
        }
      ]
    },
    {
      "cell_type": "markdown",
      "source": [
        "# File Operation- Read And Write Files\n",
        "File handling is a crucial part of any programming language. Python provides built-in functions and methods to read from and write to files, both text and binary. This lesson will cover the basics of file handling, including reading and writing text files and binary files."
      ],
      "metadata": {
        "id": "m24aOByjuBVp"
      }
    },
    {
      "cell_type": "code",
      "source": [
        "file = open(\"/opt/google/drive/drive-filter.py\", 'r')\n",
        "content =file.read()\n",
        "print(content)\n",
        "file.close()"
      ],
      "metadata": {
        "colab": {
          "base_uri": "https://localhost:8080/"
        },
        "id": "Baf8Pj5Ht-KL",
        "outputId": "09195e0e-2131-4c70-97d8-e6827995b5cc"
      },
      "execution_count": 54,
      "outputs": [
        {
          "output_type": "stream",
          "name": "stdout",
          "text": [
            "\"\"\"Picks error messages out of drive logs for surfacing to users.\"\"\"\n",
            "\n",
            "import json\n",
            "import re\n",
            "import sys\n",
            "\n",
            "if len(sys.argv) != 1:\n",
            "  print(f'Usage: {sys.argv[0]} (send drive logs on stdin)')\n",
            "  sys.exit(1)\n",
            "\n",
            "# LINT.IfChange(drivetimeout)\n",
            "timeout_pattern = 'QueryManager timed out'\n",
            "# LINT.ThenChange()\n",
            "\n",
            "log_prefix_re = re.compile(\n",
            "    r'^([0-9]{4}-[0-9]{2}-[0-9]{2}T[0-9]{2}:[0-9]{2}:[0-9]{2}\\.[0-9]{3}Z[IWEF]) '\n",
            ")\n",
            "\n",
            "suppressed_errors = (\n",
            "    # Internal errors, should be silently retried inside DriveFS.\n",
            "    'internalError Internal Error',\n",
            "    'conflict File ID already exists',\n",
            "    'deadlineExceeded A deadline was exceeded',\n",
            "    'transientError Transient failure',\n",
            "\n",
            "    # User-triggerable & surfaced as specific errors (EACCESS, ENOENT, etc).\n",
            "    'conditionNotMet Precondition Failed',\n",
            "    'authError Invalid Credentials',\n",
            "    'forbidden File not mutable',\n",
            "    'forbidden Insufficient permissions for this file',\n",
            "    'notFound File not found',\n",
            ")\n",
            "\n",
            "acc = ''\n",
            "last_stamp = ''\n",
            "for line in sys.stdin:\n",
            "  if not acc:\n",
            "    if timeout_pattern in line:\n",
            "      print(line, end='', flush=True)\n",
            "      continue\n",
            "    maybe_stamp = log_prefix_re.match(line)\n",
            "    if maybe_stamp:\n",
            "      last_stamp = maybe_stamp.group(1)\n",
            "  # pylint: disable=line-too-long\n",
            "  # An example logged value is:\n",
            "  # 2021-03-23T15:58:56.231ZE [201:core_117860867942433405545] drive_v2_cloud_store.cc:424242:FAKE FAKE FAKE\n",
            "  # {\n",
            "  #  \"error\": {\n",
            "  #   \"errors\": [\n",
            "  #    {\n",
            "  #     \"domain\": \"usageLimits\",\n",
            "  #     \"reason\": \"quotaExceeded\",\n",
            "  #     \"message\": \"The download quota for this file has been exceeded\",\n",
            "  #     \"locationType\": \"other\",\n",
            "  #     \"location\": \"quota.download\"\n",
            "  #    }\n",
            "  #   ],\n",
            "  #   \"code\": 403,\n",
            "  #   \"message\": \"The download quota for this file has been exceeded\"\n",
            "  #  }\n",
            "  # }\n",
            "  # Or\n",
            "  # 2021-03-23T15:58:56.231ZE [201:core_117860867942433405545] drive_v2_cloud_store_no_apiary.cc:3593:DumpToLog Response body 0x56f3ff6554b8: {\n",
            "  #  \"error\": {\n",
            "  #   \"errors\": [\n",
            "  #    {\n",
            "  #     \"domain\": \"usageLimits\",\n",
            "  #     \"reason\": \"quotaExceeded\",\n",
            "  #     \"message\": \"The download quota for this file has been exceeded\",\n",
            "  #     \"locationType\": \"other\",\n",
            "  #     \"loca...\n",
            "  # (with truncation)\n",
            "  # pylint: enable=line-too-long\n",
            "\n",
            "  def emit(r, m):\n",
            "    if r and m:\n",
            "      msg = f'{r} {m}'\n",
            "      if not any(x in msg for x in suppressed_errors):\n",
            "        print(f'{last_stamp} {msg}', flush=True)\n",
            "\n",
            "  if line.rstrip() == '{' or ('DumpToLog Response body' in line and\n",
            "                              line.rstrip().endswith('{')):\n",
            "    acc = '{'\n",
            "  elif acc:\n",
            "    acc += line\n",
            "  if acc and line.rstrip().endswith('...'):  # b/183502229\n",
            "    reason, message = '', ''\n",
            "    for l in acc.split('\\n'):\n",
            "      if '\"reason\":' in l:\n",
            "        reason = l.split(':', 2)[1].strip(' \\t\\n\\r,\"')\n",
            "      if '\"message\":' in l:\n",
            "        message = l.split(':', 2)[1].strip(' \\t\\n\\r,\"')\n",
            "    emit(reason, message)\n",
            "    acc = ''\n",
            "  if acc and line.rstrip() == '}':\n",
            "    try:\n",
            "      parsed = json.loads(acc)\n",
            "    except json.JSONDecodeError:\n",
            "      acc = ''\n",
            "      continue\n",
            "    try:\n",
            "      e = parsed['error']['errors'][0]\n",
            "    except:  # pylint: disable=bare-except\n",
            "      acc = ''\n",
            "      continue\n",
            "    emit(e['reason'], e['message'])\n",
            "    acc = ''\n",
            "\n"
          ]
        }
      ]
    },
    {
      "cell_type": "markdown",
      "source": [
        "An absolute path provides a complete, unambiguous path from the root of the file system to the target, while a relative path specifies a location relative to the current working directory."
      ],
      "metadata": {
        "id": "cHZQQmvj2s6B"
      }
    },
    {
      "cell_type": "markdown",
      "source": [
        "# current working directory"
      ],
      "metadata": {
        "id": "52UovaQd3KB6"
      }
    },
    {
      "cell_type": "code",
      "source": [
        "import os\n",
        "\n",
        "print(os.getcwd())"
      ],
      "metadata": {
        "colab": {
          "base_uri": "https://localhost:8080/"
        },
        "id": "T78xbBCHvPiA",
        "outputId": "5683c509-ec13-4c0d-8316-6f5969187670"
      },
      "execution_count": 55,
      "outputs": [
        {
          "output_type": "stream",
          "name": "stdout",
          "text": [
            "/content\n"
          ]
        }
      ]
    },
    {
      "cell_type": "code",
      "source": [
        "file = open(\"sample_data/README.md\", 'r')\n",
        "content =file.read()\n",
        "print(content)\n",
        "file.close()"
      ],
      "metadata": {
        "colab": {
          "base_uri": "https://localhost:8080/"
        },
        "id": "X99eZTGQ2_li",
        "outputId": "1f07760f-8e4a-4f5c-fc8f-13a806563922"
      },
      "execution_count": 56,
      "outputs": [
        {
          "output_type": "stream",
          "name": "stdout",
          "text": [
            "This directory includes a few sample datasets to get you started.\n",
            "\n",
            "*   `california_housing_data*.csv` is California housing data from the 1990 US\n",
            "    Census; more information is available at:\n",
            "    https://docs.google.com/document/d/e/2PACX-1vRhYtsvc5eOR2FWNCwaBiKL6suIOrxJig8LcSBbmCbyYsayia_DvPOOBlXZ4CAlQ5nlDD8kTaIDRwrN/pub\n",
            "\n",
            "*   `mnist_*.csv` is a small sample of the\n",
            "    [MNIST database](https://en.wikipedia.org/wiki/MNIST_database), which is\n",
            "    described at: http://yann.lecun.com/exdb/mnist/\n",
            "\n",
            "*   `anscombe.json` contains a copy of\n",
            "    [Anscombe's quartet](https://en.wikipedia.org/wiki/Anscombe%27s_quartet); it\n",
            "    was originally described in\n",
            "\n",
            "    Anscombe, F. J. (1973). 'Graphs in Statistical Analysis'. American\n",
            "    Statistician. 27 (1): 17-21. JSTOR 2682899.\n",
            "\n",
            "    and our copy was prepared by the\n",
            "    [vega_datasets library](https://github.com/altair-viz/vega_datasets/blob/4f67bdaad10f45e3549984e17e1b3088c731503d/vega_datasets/_data/anscombe.json).\n",
            "\n"
          ]
        }
      ]
    },
    {
      "cell_type": "code",
      "source": [
        "with open(\"sample_data/README.md\", 'r') as file:\n",
        "  print(file.read())"
      ],
      "metadata": {
        "colab": {
          "base_uri": "https://localhost:8080/"
        },
        "id": "uzb2V74T3j_C",
        "outputId": "98f67e18-a13a-41f4-cc25-a75d792a7a49"
      },
      "execution_count": 57,
      "outputs": [
        {
          "output_type": "stream",
          "name": "stdout",
          "text": [
            "This directory includes a few sample datasets to get you started.\n",
            "\n",
            "*   `california_housing_data*.csv` is California housing data from the 1990 US\n",
            "    Census; more information is available at:\n",
            "    https://docs.google.com/document/d/e/2PACX-1vRhYtsvc5eOR2FWNCwaBiKL6suIOrxJig8LcSBbmCbyYsayia_DvPOOBlXZ4CAlQ5nlDD8kTaIDRwrN/pub\n",
            "\n",
            "*   `mnist_*.csv` is a small sample of the\n",
            "    [MNIST database](https://en.wikipedia.org/wiki/MNIST_database), which is\n",
            "    described at: http://yann.lecun.com/exdb/mnist/\n",
            "\n",
            "*   `anscombe.json` contains a copy of\n",
            "    [Anscombe's quartet](https://en.wikipedia.org/wiki/Anscombe%27s_quartet); it\n",
            "    was originally described in\n",
            "\n",
            "    Anscombe, F. J. (1973). 'Graphs in Statistical Analysis'. American\n",
            "    Statistician. 27 (1): 17-21. JSTOR 2682899.\n",
            "\n",
            "    and our copy was prepared by the\n",
            "    [vega_datasets library](https://github.com/altair-viz/vega_datasets/blob/4f67bdaad10f45e3549984e17e1b3088c731503d/vega_datasets/_data/anscombe.json).\n",
            "\n"
          ]
        }
      ]
    },
    {
      "cell_type": "markdown",
      "source": [
        "## Read a file line by line\n"
      ],
      "metadata": {
        "id": "4nL2w1bL3-nk"
      }
    },
    {
      "cell_type": "code",
      "source": [
        "with open(\"sample_data/README.md\", 'r') as file:\n",
        "  for line in file:\n",
        "    print(line.strip())"
      ],
      "metadata": {
        "colab": {
          "base_uri": "https://localhost:8080/"
        },
        "id": "6txi7tXw37TT",
        "outputId": "42539103-bece-4979-e8cd-7f6023379804"
      },
      "execution_count": 58,
      "outputs": [
        {
          "output_type": "stream",
          "name": "stdout",
          "text": [
            "This directory includes a few sample datasets to get you started.\n",
            "\n",
            "*   `california_housing_data*.csv` is California housing data from the 1990 US\n",
            "Census; more information is available at:\n",
            "https://docs.google.com/document/d/e/2PACX-1vRhYtsvc5eOR2FWNCwaBiKL6suIOrxJig8LcSBbmCbyYsayia_DvPOOBlXZ4CAlQ5nlDD8kTaIDRwrN/pub\n",
            "\n",
            "*   `mnist_*.csv` is a small sample of the\n",
            "[MNIST database](https://en.wikipedia.org/wiki/MNIST_database), which is\n",
            "described at: http://yann.lecun.com/exdb/mnist/\n",
            "\n",
            "*   `anscombe.json` contains a copy of\n",
            "[Anscombe's quartet](https://en.wikipedia.org/wiki/Anscombe%27s_quartet); it\n",
            "was originally described in\n",
            "\n",
            "Anscombe, F. J. (1973). 'Graphs in Statistical Analysis'. American\n",
            "Statistician. 27 (1): 17-21. JSTOR 2682899.\n",
            "\n",
            "and our copy was prepared by the\n",
            "[vega_datasets library](https://github.com/altair-viz/vega_datasets/blob/4f67bdaad10f45e3549984e17e1b3088c731503d/vega_datasets/_data/anscombe.json).\n"
          ]
        }
      ]
    },
    {
      "cell_type": "markdown",
      "source": [
        "### for single line only"
      ],
      "metadata": {
        "id": "Rgl6oj8i4gKR"
      }
    },
    {
      "cell_type": "code",
      "source": [
        "with open(\"sample_data/README.md\", 'r') as file:\n",
        "  print(file.readline())"
      ],
      "metadata": {
        "colab": {
          "base_uri": "https://localhost:8080/"
        },
        "id": "qjoQ_rwb4B5v",
        "outputId": "5d8ed405-9009-45b9-d8b5-b6b93a83b4fe"
      },
      "execution_count": 59,
      "outputs": [
        {
          "output_type": "stream",
          "name": "stdout",
          "text": [
            "This directory includes a few sample datasets to get you started.\n",
            "\n"
          ]
        }
      ]
    },
    {
      "cell_type": "markdown",
      "source": [
        "## creating a file"
      ],
      "metadata": {
        "id": "Q94Js2734n1_"
      }
    },
    {
      "cell_type": "code",
      "source": [
        "with open(\"sample_data/README27.md\", 'r') as file:\n",
        "  print(file.readline())"
      ],
      "metadata": {
        "colab": {
          "base_uri": "https://localhost:8080/",
          "height": 158
        },
        "id": "vdXKgWiV4pyq",
        "outputId": "85c5b1d5-fe50-482f-c8e5-70d5fc4b6d25"
      },
      "execution_count": 60,
      "outputs": [
        {
          "output_type": "error",
          "ename": "FileNotFoundError",
          "evalue": "[Errno 2] No such file or directory: 'sample_data/README27.md'",
          "traceback": [
            "\u001b[0;31m---------------------------------------------------------------------------\u001b[0m",
            "\u001b[0;31mFileNotFoundError\u001b[0m                         Traceback (most recent call last)",
            "\u001b[0;32m/tmp/ipython-input-60-830087327.py\u001b[0m in \u001b[0;36m<cell line: 0>\u001b[0;34m()\u001b[0m\n\u001b[0;32m----> 1\u001b[0;31m \u001b[0;32mwith\u001b[0m \u001b[0mopen\u001b[0m\u001b[0;34m(\u001b[0m\u001b[0;34m\"sample_data/README27.md\"\u001b[0m\u001b[0;34m,\u001b[0m \u001b[0;34m'r'\u001b[0m\u001b[0;34m)\u001b[0m \u001b[0;32mas\u001b[0m \u001b[0mfile\u001b[0m\u001b[0;34m:\u001b[0m\u001b[0;34m\u001b[0m\u001b[0;34m\u001b[0m\u001b[0m\n\u001b[0m\u001b[1;32m      2\u001b[0m   \u001b[0mprint\u001b[0m\u001b[0;34m(\u001b[0m\u001b[0mfile\u001b[0m\u001b[0;34m.\u001b[0m\u001b[0mreadline\u001b[0m\u001b[0;34m(\u001b[0m\u001b[0;34m)\u001b[0m\u001b[0;34m)\u001b[0m\u001b[0;34m\u001b[0m\u001b[0;34m\u001b[0m\u001b[0m\n",
            "\u001b[0;31mFileNotFoundError\u001b[0m: [Errno 2] No such file or directory: 'sample_data/README27.md'"
          ]
        }
      ]
    },
    {
      "cell_type": "markdown",
      "source": [
        "## Writing a file(Overwriting)\n",
        "\n",
        "- 'w' is the mode, it is used to write\n",
        "- if the file is not present, it will create one\n",
        "- if the file is already there, it will overwrite it"
      ],
      "metadata": {
        "id": "2na-55Zi45Ny"
      }
    },
    {
      "cell_type": "code",
      "source": [
        "\n",
        "\n",
        "with open('example.txt','w') as file:\n",
        "    file.write('Hello World!\\n')\n",
        "    file.write('this is a new line.')"
      ],
      "metadata": {
        "id": "vajN4_qB4toi"
      },
      "execution_count": 61,
      "outputs": []
    },
    {
      "cell_type": "markdown",
      "source": [
        "## Write a file(without Overwriting)"
      ],
      "metadata": {
        "id": "U0lHJYueV7BM"
      }
    },
    {
      "cell_type": "markdown",
      "source": [
        "- \\n means next line"
      ],
      "metadata": {
        "id": "6eD2IMCoXvMV"
      }
    },
    {
      "cell_type": "code",
      "source": [
        "with open('example.txt','a') as file:\n",
        "    file.write(\"\\nAppend operation taking place!\\n\")"
      ],
      "metadata": {
        "id": "RO42t_fy46uI"
      },
      "execution_count": 62,
      "outputs": []
    },
    {
      "cell_type": "markdown",
      "source": [
        "## Binary Files"
      ],
      "metadata": {
        "id": "acUSzI9dX2oB"
      }
    },
    {
      "cell_type": "markdown",
      "source": [
        "### Writing to a binary file"
      ],
      "metadata": {
        "id": "tDbh6jMIX9Ev"
      }
    },
    {
      "cell_type": "code",
      "source": [
        "data = b'\\x00\\x01\\x02\\x03\\x04'\n",
        "with open('example.bin', 'wb') as file:\n",
        "    file.write(data)"
      ],
      "metadata": {
        "id": "o24APVC6XBoN"
      },
      "execution_count": 63,
      "outputs": []
    },
    {
      "cell_type": "markdown",
      "source": [
        "### Reading a binary file"
      ],
      "metadata": {
        "id": "nKiOS8rbYRbj"
      }
    },
    {
      "cell_type": "code",
      "source": [
        "with open('example.bin', 'rb') as file:\n",
        "    content = file.read()\n",
        "    print(content)"
      ],
      "metadata": {
        "colab": {
          "base_uri": "https://localhost:8080/"
        },
        "id": "zGoORl5dYMeb",
        "outputId": "ecac6b95-90e9-4c3d-ff12-77d51b21074f"
      },
      "execution_count": 64,
      "outputs": [
        {
          "output_type": "stream",
          "name": "stdout",
          "text": [
            "b'\\x00\\x01\\x02\\x03\\x04'\n"
          ]
        }
      ]
    },
    {
      "cell_type": "markdown",
      "source": [
        "## Read the content froma  source text fiile and write to a destination text file\n",
        "### Copying a text file"
      ],
      "metadata": {
        "id": "DO8mc82nYbu0"
      }
    },
    {
      "cell_type": "code",
      "source": [
        "with open('example.txt', 'r') as source_file:\n",
        "    content = source_file.read()\n",
        "\n",
        "with open('destination.txt', 'w') as destination_file:\n",
        "    destination_file.write(content)"
      ],
      "metadata": {
        "id": "mX0L_eJ_YYvM"
      },
      "execution_count": 65,
      "outputs": []
    },
    {
      "cell_type": "code",
      "source": [
        "with open('example.txt', 'r') as file:\n",
        "        lines = file.readlines()\n",
        "print(type(lines))\n",
        "len(lines)\n",
        "list((len(line.split()) for line in lines))"
      ],
      "metadata": {
        "colab": {
          "base_uri": "https://localhost:8080/"
        },
        "id": "qNxgaPWWYyNp",
        "outputId": "5e3afd14-cc97-4264-c179-f62e3f3640a8"
      },
      "execution_count": 67,
      "outputs": [
        {
          "output_type": "stream",
          "name": "stdout",
          "text": [
            "<class 'list'>\n"
          ]
        },
        {
          "output_type": "execute_result",
          "data": {
            "text/plain": [
              "[2, 5, 4]"
            ]
          },
          "metadata": {},
          "execution_count": 67
        }
      ]
    },
    {
      "cell_type": "markdown",
      "source": [
        "## Read a text file and count the number of lines, words, and characters."
      ],
      "metadata": {
        "id": "136Mh1gx9bDe"
      }
    },
    {
      "cell_type": "markdown",
      "source": [
        "\n",
        "### Counting lines, words, and characters in a text file"
      ],
      "metadata": {
        "id": "ZniobF1d9eqt"
      }
    },
    {
      "cell_type": "code",
      "source": [
        "\n",
        "def count_text_file(file_path):\n",
        "    with open(file_path, 'r') as file:\n",
        "        lines = file.readlines()\n",
        "        line_count = len(lines)\n",
        "        word_count = sum(len(line.split()) for line in lines)\n",
        "        char_count = sum(len(line) for line in lines)\n",
        "    return line_count, word_count, char_count\n",
        "\n",
        "file_path = 'example.txt'\n",
        "lines, words, characters = count_text_file(file_path)\n",
        "print(f'Lines: {lines}, Words: {words}, Characters: {characters}')"
      ],
      "metadata": {
        "colab": {
          "base_uri": "https://localhost:8080/"
        },
        "id": "9yRcySm8ZBWF",
        "outputId": "99ba0fe9-1fea-4aac-f184-0d0b9c5f1ea1"
      },
      "execution_count": 68,
      "outputs": [
        {
          "output_type": "stream",
          "name": "stdout",
          "text": [
            "Lines: 3, Words: 11, Characters: 64\n"
          ]
        }
      ]
    },
    {
      "cell_type": "code",
      "source": [],
      "metadata": {
        "id": "exyhoNYa9nBx"
      },
      "execution_count": null,
      "outputs": []
    }
  ]
}