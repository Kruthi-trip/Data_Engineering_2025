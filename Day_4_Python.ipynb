{
  "nbformat": 4,
  "nbformat_minor": 0,
  "metadata": {
    "colab": {
      "provenance": [],
      "authorship_tag": "ABX9TyP50qe+iBb6zCbwKg1p7V1Z",
      "include_colab_link": true
    },
    "kernelspec": {
      "name": "python3",
      "display_name": "Python 3"
    },
    "language_info": {
      "name": "python"
    }
  },
  "cells": [
    {
      "cell_type": "markdown",
      "metadata": {
        "id": "view-in-github",
        "colab_type": "text"
      },
      "source": [
        "<a href=\"https://colab.research.google.com/github/Kruthi-trip/Data_Engineering_2025/blob/main/Day_4_Python.ipynb\" target=\"_parent\"><img src=\"https://colab.research.google.com/assets/colab-badge.svg\" alt=\"Open In Colab\"/></a>"
      ]
    },
    {
      "cell_type": "markdown",
      "source": [
        "# Functions\n",
        "## Defining functions"
      ],
      "metadata": {
        "id": "UFtbmbAN_YOD"
      }
    },
    {
      "cell_type": "code",
      "source": [
        "def add(a,b):\n",
        "  return a+b"
      ],
      "metadata": {
        "id": "WGDmZec2_a9o"
      },
      "execution_count": 1,
      "outputs": []
    },
    {
      "cell_type": "code",
      "source": [
        "add(54,23)"
      ],
      "metadata": {
        "colab": {
          "base_uri": "https://localhost:8080/"
        },
        "id": "P0KZZy8T_hqK",
        "outputId": "1db9c1e8-9148-43e2-8698-9f65c7689e1a"
      },
      "execution_count": 2,
      "outputs": [
        {
          "output_type": "execute_result",
          "data": {
            "text/plain": [
              "77"
            ]
          },
          "metadata": {},
          "execution_count": 2
        }
      ]
    },
    {
      "cell_type": "code",
      "source": [
        "def power(num, pow):\n",
        "  return num**pow"
      ],
      "metadata": {
        "id": "1wOxzLLC_mnw"
      },
      "execution_count": 3,
      "outputs": []
    },
    {
      "cell_type": "code",
      "source": [
        "power(5, 2)"
      ],
      "metadata": {
        "colab": {
          "base_uri": "https://localhost:8080/"
        },
        "id": "hEMlL4eE_tQi",
        "outputId": "90c1372e-33d7-4633-ca0d-f4c5210d8f9a"
      },
      "execution_count": 5,
      "outputs": [
        {
          "output_type": "execute_result",
          "data": {
            "text/plain": [
              "25"
            ]
          },
          "metadata": {},
          "execution_count": 5
        }
      ]
    },
    {
      "cell_type": "markdown",
      "source": [
        "# Functions in Python\n",
        "### Outline:\n",
        "\n",
        "1. Introduction to Functions\n",
        "2. Defining Functions\n",
        "3. Calling Functions\n",
        "4. Function Parameters\n",
        "5. Default Parameters\n",
        "6. Variable-Length Arguments\n",
        "7. Return Statement"
      ],
      "metadata": {
        "id": "XA0Qu4mG_4Xd"
      }
    },
    {
      "cell_type": "markdown",
      "source": [
        "# Introduction to Functions\n",
        "### Definition:\n",
        "\n",
        "A function is a block of code that performs a specific task. Functions help in organizing code, reusing code, and improving readability."
      ],
      "metadata": {
        "id": "bGPxtnesACE1"
      }
    },
    {
      "cell_type": "code",
      "source": [
        "'''\n",
        "## syntax\n",
        "\n",
        "def function_name(parameters):\n",
        "    \"\"\"Docstring\"\"\"\n",
        "    # Function body\n",
        "    return expression\n",
        "'''"
      ],
      "metadata": {
        "id": "l80OWhQ1ALhr"
      },
      "execution_count": null,
      "outputs": []
    },
    {
      "cell_type": "markdown",
      "source": [
        "# Why Functions\n"
      ],
      "metadata": {
        "id": "4Sdo1J7yATx3"
      }
    },
    {
      "cell_type": "code",
      "source": [
        "num=24\n",
        "if num%2==0:\n",
        "    print(\"the number is even\")\n",
        "else:\n",
        "    print(\"the number is odd\")"
      ],
      "metadata": {
        "id": "nYXyvAzLAXMZ"
      },
      "execution_count": null,
      "outputs": []
    },
    {
      "cell_type": "code",
      "source": [
        "def even_or_odd(num):\n",
        "  \"\"\"\n",
        "  This function finds even or odd\n",
        "  \"\"\"\n",
        "  if num%2==0:\n",
        "    print(\"the number is even\")\n",
        "  else:\n",
        "    print(\"the number is odd\")"
      ],
      "metadata": {
        "id": "VjSoJq6uAxbg"
      },
      "execution_count": 6,
      "outputs": []
    },
    {
      "cell_type": "code",
      "source": [
        "even_or_odd(34)"
      ],
      "metadata": {
        "colab": {
          "base_uri": "https://localhost:8080/"
        },
        "id": "0J7SrNXZA5Ai",
        "outputId": "ed65509e-bc7e-4282-9e51-1a1cce6c69d1"
      },
      "execution_count": 8,
      "outputs": [
        {
          "output_type": "stream",
          "name": "stdout",
          "text": [
            "the number is even\n"
          ]
        }
      ]
    },
    {
      "cell_type": "markdown",
      "source": [
        "## function with multiple parameters"
      ],
      "metadata": {
        "id": "Bcn3RR3YBCmI"
      }
    },
    {
      "cell_type": "code",
      "source": [
        "def add(a,b):\n",
        "    return a+b\n",
        "\n",
        "result=add(2,4)\n",
        "print(result)"
      ],
      "metadata": {
        "colab": {
          "base_uri": "https://localhost:8080/"
        },
        "id": "cj00dcIkA9ju",
        "outputId": "ca687e02-2013-4007-dd65-255f1ce5ca66"
      },
      "execution_count": 9,
      "outputs": [
        {
          "output_type": "stream",
          "name": "stdout",
          "text": [
            "6\n"
          ]
        }
      ]
    },
    {
      "cell_type": "markdown",
      "source": [
        "## Default Parameters"
      ],
      "metadata": {
        "id": "1TZ1uUvwBimJ"
      }
    },
    {
      "cell_type": "code",
      "source": [
        "def greet(name):\n",
        "    print(f\"Hello {name}, Welcome To the paradise\")\n",
        "\n",
        "greet()"
      ],
      "metadata": {
        "colab": {
          "base_uri": "https://localhost:8080/",
          "height": 176
        },
        "id": "2hoxwAjtBjOr",
        "outputId": "3044ed2b-23ab-4c32-b0cb-ec55d47606d7"
      },
      "execution_count": 17,
      "outputs": [
        {
          "output_type": "error",
          "ename": "TypeError",
          "evalue": "greet() missing 1 required positional argument: 'name'",
          "traceback": [
            "\u001b[0;31m---------------------------------------------------------------------------\u001b[0m",
            "\u001b[0;31mTypeError\u001b[0m                                 Traceback (most recent call last)",
            "\u001b[0;32m<ipython-input-17-1860385940>\u001b[0m in \u001b[0;36m<cell line: 0>\u001b[0;34m()\u001b[0m\n\u001b[1;32m      2\u001b[0m     \u001b[0mprint\u001b[0m\u001b[0;34m(\u001b[0m\u001b[0;34mf\"Hello {name}, Welcome To the paradise\"\u001b[0m\u001b[0;34m)\u001b[0m\u001b[0;34m\u001b[0m\u001b[0;34m\u001b[0m\u001b[0m\n\u001b[1;32m      3\u001b[0m \u001b[0;34m\u001b[0m\u001b[0m\n\u001b[0;32m----> 4\u001b[0;31m \u001b[0mgreet\u001b[0m\u001b[0;34m(\u001b[0m\u001b[0;34m)\u001b[0m\u001b[0;34m\u001b[0m\u001b[0;34m\u001b[0m\u001b[0m\n\u001b[0m",
            "\u001b[0;31mTypeError\u001b[0m: greet() missing 1 required positional argument: 'name'"
          ]
        }
      ]
    },
    {
      "cell_type": "code",
      "source": [
        "def greet(name='User'):\n",
        "    print(f\"Hello {name}, Welcome To the paradise\")\n",
        "\n",
        "greet()"
      ],
      "metadata": {
        "colab": {
          "base_uri": "https://localhost:8080/"
        },
        "id": "KwLPj1DRCPTk",
        "outputId": "de2badbc-6d56-4849-e56d-96869252a3d9"
      },
      "execution_count": 18,
      "outputs": [
        {
          "output_type": "stream",
          "name": "stdout",
          "text": [
            "Hello User, Welcome To the paradise\n"
          ]
        }
      ]
    },
    {
      "cell_type": "code",
      "source": [
        "def greet(name):\n",
        "    print(f\"Hello {name}, Welcome to the paradise!\")\n",
        "\n",
        "greet('Kruthi')"
      ],
      "metadata": {
        "colab": {
          "base_uri": "https://localhost:8080/"
        },
        "id": "Hi0RbudlCUc8",
        "outputId": "f01ca55c-dc6e-4128-b2dc-f534763a29ee"
      },
      "execution_count": 19,
      "outputs": [
        {
          "output_type": "stream",
          "name": "stdout",
          "text": [
            "Hello Kruthi, Welcome to the paradise!\n"
          ]
        }
      ]
    },
    {
      "cell_type": "code",
      "source": [
        "def greet(name, age):\n",
        "    print(f\"Hello {name}, Welcome to the paradise! You are {age} years old.\")"
      ],
      "metadata": {
        "id": "t-O4W2MkCaUs"
      },
      "execution_count": 20,
      "outputs": []
    },
    {
      "cell_type": "code",
      "source": [
        "greet(\"Kruthi\", 27)"
      ],
      "metadata": {
        "colab": {
          "base_uri": "https://localhost:8080/"
        },
        "id": "nOytwQqxCeGV",
        "outputId": "0a2295eb-d6dd-41bd-e999-21a398ecf0b6"
      },
      "execution_count": 22,
      "outputs": [
        {
          "output_type": "stream",
          "name": "stdout",
          "text": [
            "Hello Kruthi, Welcome to the paradise! You are 27 years old.\n"
          ]
        }
      ]
    },
    {
      "cell_type": "markdown",
      "source": [
        "### Variable Length Arguments\n",
        "## Positional And Keywords arguments\n"
      ],
      "metadata": {
        "id": "12PYwxNqCsgF"
      }
    },
    {
      "cell_type": "code",
      "source": [
        "def print_numbers(*args):\n",
        "  print(type(args))\n",
        "  print(args)\n",
        "  for number in args:\n",
        "      print(number)\n",
        "\n",
        "\n",
        "print_numbers(1,2,3,4,5,6,7,8,\"Nikhil\")"
      ],
      "metadata": {
        "colab": {
          "base_uri": "https://localhost:8080/"
        },
        "id": "jPaydXJ-CtMb",
        "outputId": "643e7822-5d3a-4ba0-9d1b-aa4e7a2d9e3e"
      },
      "execution_count": 23,
      "outputs": [
        {
          "output_type": "stream",
          "name": "stdout",
          "text": [
            "<class 'tuple'>\n",
            "(1, 2, 3, 4, 5, 6, 7, 8, 'Nikhil')\n",
            "1\n",
            "2\n",
            "3\n",
            "4\n",
            "5\n",
            "6\n",
            "7\n",
            "8\n",
            "Nikhil\n"
          ]
        }
      ]
    },
    {
      "cell_type": "code",
      "source": [
        "def add(*nums):\n",
        "  return sum(nums)\n",
        "\n",
        "add(1,2,3,4,5)"
      ],
      "metadata": {
        "colab": {
          "base_uri": "https://localhost:8080/"
        },
        "id": "pBhW2PYkZ1-j",
        "outputId": "838cf92a-2c02-4efe-f114-cda71df1e47f"
      },
      "execution_count": 1,
      "outputs": [
        {
          "output_type": "execute_result",
          "data": {
            "text/plain": [
              "15"
            ]
          },
          "metadata": {},
          "execution_count": 1
        }
      ]
    },
    {
      "cell_type": "markdown",
      "source": [
        "This is where *args can be really useful, because it allows you to pass a\n",
        "varying number of positional arguments. Take the following example:\n"
      ],
      "metadata": {
        "id": "w4zfmPNiaG6N"
      }
    },
    {
      "cell_type": "code",
      "source": [
        "def my_sum(*args):\n",
        "  print(type(args))\n",
        "  result = 0\n",
        "  # Iterating over the Python args tuple\n",
        "  for x in args:\n",
        "      result += x\n",
        "  return result\n",
        "\n",
        "print(my_sum(1, 2, 3))"
      ],
      "metadata": {
        "colab": {
          "base_uri": "https://localhost:8080/"
        },
        "id": "eQVpqyYBaKhF",
        "outputId": "2fc43950-0e16-4287-d57d-dcd5a1795780"
      },
      "execution_count": 4,
      "outputs": [
        {
          "output_type": "stream",
          "name": "stdout",
          "text": [
            "<class 'tuple'>\n",
            "6\n"
          ]
        }
      ]
    },
    {
      "cell_type": "markdown",
      "source": [
        "### Keywords Arguments"
      ],
      "metadata": {
        "id": "evm8WUpIa36m"
      }
    },
    {
      "cell_type": "code",
      "source": [
        "def print_details(**kwargs):\n",
        "  print(type(kwargs))\n",
        "  print(kwargs)\n",
        "  for key, value in kwargs.items():\n",
        "    print(f\"{key}: {value}\")\n",
        "\n",
        "\n",
        "print_details(name=\"Kruthi\", age=27, city=\"Hyderabad\")"
      ],
      "metadata": {
        "colab": {
          "base_uri": "https://localhost:8080/"
        },
        "id": "-_pEP70Oa4xY",
        "outputId": "44756839-b31e-4a2d-8c24-3e14b1bf59bd"
      },
      "execution_count": 5,
      "outputs": [
        {
          "output_type": "stream",
          "name": "stdout",
          "text": [
            "<class 'dict'>\n",
            "{'name': 'Kruthi', 'age': 27, 'city': 'Hyderabad'}\n",
            "name: Kruthi\n",
            "age: 27\n",
            "city: Hyderabad\n"
          ]
        }
      ]
    },
    {
      "cell_type": "code",
      "source": [
        "def print_details(**details):\n",
        "    for key, value in details.items():\n",
        "        print(f\"{key}: {value}\")\n",
        "\n",
        "print_details()"
      ],
      "metadata": {
        "id": "mZIsQm71c6dM"
      },
      "execution_count": 12,
      "outputs": []
    },
    {
      "cell_type": "code",
      "source": [
        "student_details = {\n",
        "    \"name\": \"Kruthi\",\n",
        "    \"age\": 27,\n",
        "    \"city\": \"Hyderabad\"\n",
        "}\n",
        "\n",
        "print_details(**student_details)"
      ],
      "metadata": {
        "colab": {
          "base_uri": "https://localhost:8080/"
        },
        "id": "8ImpvzdAfMC9",
        "outputId": "0405a13a-a6b2-456b-e4e7-68ad877001a3"
      },
      "execution_count": 13,
      "outputs": [
        {
          "output_type": "stream",
          "name": "stdout",
          "text": [
            "name: Kruthi\n",
            "age: 27\n",
            "city: Hyderabad\n"
          ]
        }
      ]
    },
    {
      "cell_type": "markdown",
      "source": [
        "## Side Note on :Unpacking With the Asterisk Operators: * & **\n",
        "The unpacking operators are operators that unpack the values from iterable objects in Python. The single asterisk operator * can be used on any iterable that Python provides, while the double asterisk operator ** can only be used on dictionaries."
      ],
      "metadata": {
        "id": "EoOGN587fWJY"
      }
    },
    {
      "cell_type": "markdown",
      "source": [
        "When you use the * operator to unpack a list and pass arguments to a function, it’s exactly as though you’re passing every single argument alone. This means that you can use multiple unpacking operators to get values from several lists and pass them all to a single function."
      ],
      "metadata": {
        "id": "BPr5Ssk8feH4"
      }
    },
    {
      "cell_type": "code",
      "source": [
        "def my_sum(*args):\n",
        "    result = 0\n",
        "    for x in args:\n",
        "        result += x\n",
        "    return result\n",
        "\n",
        "list1 = [1, 2, 3]\n",
        "list2 = [4, 5]\n",
        "list3 = [6, 7, 8, 9]\n",
        "\n",
        "print(my_sum(*list1, *list2, *list3))"
      ],
      "metadata": {
        "colab": {
          "base_uri": "https://localhost:8080/"
        },
        "id": "6l3AysCffn4M",
        "outputId": "440e51f3-dc40-4c3e-9d25-41e2945906d1"
      },
      "execution_count": 14,
      "outputs": [
        {
          "output_type": "stream",
          "name": "stdout",
          "text": [
            "45\n"
          ]
        }
      ]
    },
    {
      "cell_type": "code",
      "source": [
        "my_list = [1, 2, 3, 4, 5, 6]\n",
        "\n",
        "a, *b, c = my_list # The first variable is assigned to a, the last to c, and all other values are packed into a new list b.\n",
        "\n",
        "print(a)\n",
        "print(b)\n",
        "print(c)"
      ],
      "metadata": {
        "colab": {
          "base_uri": "https://localhost:8080/"
        },
        "id": "6oWZ6Zfzf9-l",
        "outputId": "0b2c499e-8e14-4757-94ef-80d899def15e"
      },
      "execution_count": 15,
      "outputs": [
        {
          "output_type": "stream",
          "name": "stdout",
          "text": [
            "1\n",
            "[2, 3, 4, 5]\n",
            "6\n"
          ]
        }
      ]
    },
    {
      "cell_type": "code",
      "source": [
        "my_first_list = [1, 2, 3]\n",
        "my_second_list = [4, 5, 6]\n",
        "my_merged_list = [*my_first_list, *my_second_list] # The unpacking operator * is prepended to both my_first_list and my_second_list.\n",
        "\n",
        "print(my_merged_list)"
      ],
      "metadata": {
        "colab": {
          "base_uri": "https://localhost:8080/"
        },
        "id": "pARzRG3lgFuy",
        "outputId": "2e8cac97-55cd-4f5f-bfa5-08903507d866"
      },
      "execution_count": 16,
      "outputs": [
        {
          "output_type": "stream",
          "name": "stdout",
          "text": [
            "[1, 2, 3, 4, 5, 6]\n"
          ]
        }
      ]
    },
    {
      "cell_type": "code",
      "source": [
        "## You can even merge two different dictionaries by using the unpacking operator **:\n",
        "my_first_dict = {\"A\": 1, \"B\": 2}\n",
        "my_second_dict = {\"C\": 3, \"D\": 4}\n",
        "my_merged_dict = {**my_first_dict, **my_second_dict}\n",
        "\n",
        "print(my_merged_dict)"
      ],
      "metadata": {
        "colab": {
          "base_uri": "https://localhost:8080/"
        },
        "id": "NrClZvOMgOFY",
        "outputId": "deba6d63-41ac-4759-9735-fb6045c0a4b3"
      },
      "execution_count": 17,
      "outputs": [
        {
          "output_type": "stream",
          "name": "stdout",
          "text": [
            "{'A': 1, 'B': 2, 'C': 3, 'D': 4}\n"
          ]
        }
      ]
    },
    {
      "cell_type": "markdown",
      "source": [
        "# Functions Examples\n",
        "### Example 1: Temperature Conversion"
      ],
      "metadata": {
        "id": "xMkwVanXgYUB"
      }
    },
    {
      "cell_type": "markdown",
      "source": [
        "## converts temperature between Celsius and Fahrenheit"
      ],
      "metadata": {
        "id": "q0urWVRkhVwK"
      }
    },
    {
      "cell_type": "code",
      "source": [
        "def convert_temperature(temp,unit):\n",
        "    \"\"\"This function converts temperature between Celsius and Fahrenheit\"\"\"\n",
        "    if unit=='C':\n",
        "        return temp * 9/5 + 32  ## Celsius To Fahrenheit\n",
        "    elif unit==\"F\":\n",
        "        return (temp-32)*5/9 ## Fahrenheit to celsius\n",
        "    else:\n",
        "        return None"
      ],
      "metadata": {
        "id": "K-GLc7ItgWRG"
      },
      "execution_count": 19,
      "outputs": []
    },
    {
      "cell_type": "code",
      "source": [
        "convert_temperature(75,\"F\")"
      ],
      "metadata": {
        "colab": {
          "base_uri": "https://localhost:8080/"
        },
        "id": "asb5yW46gpWp",
        "outputId": "992b44d3-2598-4411-8269-e3c1b152a4ea"
      },
      "execution_count": 20,
      "outputs": [
        {
          "output_type": "execute_result",
          "data": {
            "text/plain": [
              "23.88888888888889"
            ]
          },
          "metadata": {},
          "execution_count": 20
        }
      ]
    },
    {
      "cell_type": "markdown",
      "source": [
        "## Example 2: Password Strength Checker"
      ],
      "metadata": {
        "id": "y2qUlIQPhSM9"
      }
    },
    {
      "cell_type": "code",
      "source": [
        "\n",
        "def is_strong_password(password):\n",
        "    \"\"\"This function checks if the password is strong or not\"\"\"\n",
        "    pass"
      ],
      "metadata": {
        "id": "04ZsjY40gxYM"
      },
      "execution_count": 23,
      "outputs": []
    },
    {
      "cell_type": "markdown",
      "source": [
        "## Example 3: Check IF a String Is Palindrome"
      ],
      "metadata": {
        "id": "mHk1xjLVhZUj"
      }
    },
    {
      "cell_type": "code",
      "source": [
        "def is_palindrome(s):\n",
        "  pass"
      ],
      "metadata": {
        "id": "CAYUu61jhbwQ"
      },
      "execution_count": 22,
      "outputs": []
    },
    {
      "cell_type": "markdown",
      "source": [
        "## Lambda Functions in Python\n",
        "Lambda functions are small anonymous functions defined using the lambda keyword. They can have any number of arguments but only one expression. They are commonly used for short operations or as arguments to higher-order functions.\n",
        "\n",
        "There can only be one expressin in lambda function, no multiple functions are possible"
      ],
      "metadata": {
        "id": "LlT3uVBYhgAp"
      }
    },
    {
      "cell_type": "code",
      "source": [
        "#Syntax\n",
        "'''\n",
        "lambda arguments: expression\n",
        "\n",
        "'''"
      ],
      "metadata": {
        "colab": {
          "base_uri": "https://localhost:8080/",
          "height": 35
        },
        "id": "KAqvjZuXhdv8",
        "outputId": "242e6ee9-4f43-417d-ffb2-428b4a4a0584"
      },
      "execution_count": 24,
      "outputs": [
        {
          "output_type": "execute_result",
          "data": {
            "text/plain": [
              "'\\nlambda arguments: expression\\n\\n'"
            ],
            "application/vnd.google.colaboratory.intrinsic+json": {
              "type": "string"
            }
          },
          "metadata": {},
          "execution_count": 24
        }
      ]
    },
    {
      "cell_type": "code",
      "source": [
        "def addition(a,b):\n",
        "    return a+b"
      ],
      "metadata": {
        "id": "epv7WXJFoFUN"
      },
      "execution_count": 25,
      "outputs": []
    },
    {
      "cell_type": "code",
      "source": [
        "addition(2,3)"
      ],
      "metadata": {
        "colab": {
          "base_uri": "https://localhost:8080/"
        },
        "id": "77njMJb4oRQa",
        "outputId": "60bf0738-5e5f-4afe-bac4-cf70a102bc62"
      },
      "execution_count": 26,
      "outputs": [
        {
          "output_type": "execute_result",
          "data": {
            "text/plain": [
              "5"
            ]
          },
          "metadata": {},
          "execution_count": 26
        }
      ]
    },
    {
      "cell_type": "code",
      "source": [
        "add = lambda a,b : a+b"
      ],
      "metadata": {
        "id": "2a5bH0TdoTgv"
      },
      "execution_count": 27,
      "outputs": []
    },
    {
      "cell_type": "code",
      "source": [
        "add(6,9)"
      ],
      "metadata": {
        "colab": {
          "base_uri": "https://localhost:8080/"
        },
        "id": "ny-xqQv_oWcI",
        "outputId": "072aa5e1-31ee-4815-acae-c96dda74ee44"
      },
      "execution_count": 28,
      "outputs": [
        {
          "output_type": "execute_result",
          "data": {
            "text/plain": [
              "15"
            ]
          },
          "metadata": {},
          "execution_count": 28
        }
      ]
    },
    {
      "cell_type": "code",
      "source": [
        "power = lambda x,y: x**y\n",
        "\n",
        "power(9,2)"
      ],
      "metadata": {
        "colab": {
          "base_uri": "https://localhost:8080/"
        },
        "id": "C4-G97lQoX9Z",
        "outputId": "4a23808f-5ef4-44d5-efb2-7029196fc75f"
      },
      "execution_count": 29,
      "outputs": [
        {
          "output_type": "execute_result",
          "data": {
            "text/plain": [
              "81"
            ]
          },
          "metadata": {},
          "execution_count": 29
        }
      ]
    },
    {
      "cell_type": "code",
      "source": [
        "type(addition)"
      ],
      "metadata": {
        "colab": {
          "base_uri": "https://localhost:8080/"
        },
        "id": "nC3dsGrfot60",
        "outputId": "f16e4445-1766-4cb6-ae38-817b0b244cee"
      },
      "execution_count": 30,
      "outputs": [
        {
          "output_type": "execute_result",
          "data": {
            "text/plain": [
              "function"
            ]
          },
          "metadata": {},
          "execution_count": 30
        }
      ]
    },
    {
      "cell_type": "code",
      "source": [
        "addition=lambda a,b:a+b\n",
        "print(type(addition))\n",
        "print(addition(5,6))"
      ],
      "metadata": {
        "colab": {
          "base_uri": "https://localhost:8080/"
        },
        "id": "gKffy_ogow--",
        "outputId": "5c86d2c0-35ea-43d7-f908-78c695317322"
      },
      "execution_count": 31,
      "outputs": [
        {
          "output_type": "stream",
          "name": "stdout",
          "text": [
            "<class 'function'>\n",
            "11\n"
          ]
        }
      ]
    },
    {
      "cell_type": "markdown",
      "source": [
        "## determining even or odd using lambda"
      ],
      "metadata": {
        "id": "ps2DXpl6pAN8"
      }
    },
    {
      "cell_type": "code",
      "source": [
        "def is_even(num):\n",
        "    if num%2==0:\n",
        "        return True\n",
        "    else:\n",
        "      return False\n",
        "is_even(31)"
      ],
      "metadata": {
        "colab": {
          "base_uri": "https://localhost:8080/"
        },
        "id": "LfnR8sLIo3BT",
        "outputId": "aa2d6b83-bc3d-4320-f7c4-8aeef2df4906"
      },
      "execution_count": 32,
      "outputs": [
        {
          "output_type": "execute_result",
          "data": {
            "text/plain": [
              "False"
            ]
          },
          "metadata": {},
          "execution_count": 32
        }
      ]
    },
    {
      "cell_type": "code",
      "source": [
        "even1=lambda num:num%2==0\n",
        "even1(31)"
      ],
      "metadata": {
        "colab": {
          "base_uri": "https://localhost:8080/"
        },
        "id": "QFYAi0Uno8Al",
        "outputId": "ee172e90-3a45-42e1-d395-5e8056b83abb"
      },
      "execution_count": 33,
      "outputs": [
        {
          "output_type": "execute_result",
          "data": {
            "text/plain": [
              "False"
            ]
          },
          "metadata": {},
          "execution_count": 33
        }
      ]
    },
    {
      "cell_type": "code",
      "source": [
        "addition1=lambda x,y,z:x+y+z\n",
        "addition1(12,13,14)"
      ],
      "metadata": {
        "colab": {
          "base_uri": "https://localhost:8080/"
        },
        "id": "f2QH96uTpHrn",
        "outputId": "f50cab3f-eabc-4de3-f17b-3f197fc2421f"
      },
      "execution_count": 34,
      "outputs": [
        {
          "output_type": "execute_result",
          "data": {
            "text/plain": [
              "39"
            ]
          },
          "metadata": {},
          "execution_count": 34
        }
      ]
    },
    {
      "cell_type": "code",
      "source": [
        "addition1=lambda lst:sum(lst)\n",
        "addition1([12,13,14])"
      ],
      "metadata": {
        "colab": {
          "base_uri": "https://localhost:8080/"
        },
        "id": "XccRLk7upMgU",
        "outputId": "e0b529d5-7c85-48e3-ac07-b179d3ac36b4"
      },
      "execution_count": 36,
      "outputs": [
        {
          "output_type": "execute_result",
          "data": {
            "text/plain": [
              "39"
            ]
          },
          "metadata": {},
          "execution_count": 36
        }
      ]
    },
    {
      "cell_type": "code",
      "source": [
        "nums = [1,2,3,4,5,6]\n",
        "evens = [i for i in nums if i%2==0]\n",
        "evens"
      ],
      "metadata": {
        "colab": {
          "base_uri": "https://localhost:8080/"
        },
        "id": "XS44vBJwpQ_s",
        "outputId": "585aca1e-5f56-4a41-cc3c-864c7be19597"
      },
      "execution_count": 37,
      "outputs": [
        {
          "output_type": "execute_result",
          "data": {
            "text/plain": [
              "[2, 4, 6]"
            ]
          },
          "metadata": {},
          "execution_count": 37
        }
      ]
    },
    {
      "cell_type": "markdown",
      "source": [
        "## element wise operations\n",
        " adding values based on index and zip() function does that"
      ],
      "metadata": {
        "id": "xJUrkX8yqlne"
      }
    },
    {
      "cell_type": "code",
      "source": [
        "a = [1,2,3,4,5]\n",
        "b = [1,2,3,4,5]\n",
        "\n",
        "c = [i+j for i,j in zip(a,b)]\n",
        "c"
      ],
      "metadata": {
        "colab": {
          "base_uri": "https://localhost:8080/"
        },
        "id": "xMOhax_9qaJn",
        "outputId": "64c7ddcd-135c-4cc9-e162-80b9d9c7616d"
      },
      "execution_count": 38,
      "outputs": [
        {
          "output_type": "execute_result",
          "data": {
            "text/plain": [
              "[2, 4, 6, 8, 10]"
            ]
          },
          "metadata": {},
          "execution_count": 38
        }
      ]
    },
    {
      "cell_type": "code",
      "source": [
        "result = []\n",
        "# This ensures that the loop only iterates as\n",
        "# many times as the shorter list has elements,\n",
        "# preventing an IndexError if the lists are of different lengths.\n",
        "for i in range(min(len(a), len(b))):\n",
        "  result.append(a[i]+b[i])\n",
        "result"
      ],
      "metadata": {
        "id": "iX18X9Kuq7vf"
      },
      "execution_count": null,
      "outputs": []
    },
    {
      "cell_type": "markdown",
      "source": [
        "## The map() Function in Python\n",
        "The map() function applies a given function to all items in an input list (or any other iterable) and returns a map object (an iterator). This is particularly useful for transforming data in a list comprehensively."
      ],
      "metadata": {
        "id": "uROjy5jIr1Fm"
      }
    },
    {
      "cell_type": "code",
      "source": [
        "def square(x):\n",
        "    return x*x\n",
        "\n",
        "square(10)"
      ],
      "metadata": {
        "colab": {
          "base_uri": "https://localhost:8080/"
        },
        "id": "X4H3plPNr-OG",
        "outputId": "8c745185-2c7f-4247-85b2-61f7f4fdda95"
      },
      "execution_count": 40,
      "outputs": [
        {
          "output_type": "execute_result",
          "data": {
            "text/plain": [
              "100"
            ]
          },
          "metadata": {},
          "execution_count": 40
        }
      ]
    },
    {
      "cell_type": "code",
      "source": [
        "numbers=[1,2,3,4,5,6,7,8]\n",
        "\n",
        "list(map(square,numbers))"
      ],
      "metadata": {
        "colab": {
          "base_uri": "https://localhost:8080/"
        },
        "id": "xTXlQcyqr_A3",
        "outputId": "c69cd937-db53-40da-a9cc-3dad00047623"
      },
      "execution_count": 41,
      "outputs": [
        {
          "output_type": "execute_result",
          "data": {
            "text/plain": [
              "[1, 4, 9, 16, 25, 36, 49, 64]"
            ]
          },
          "metadata": {},
          "execution_count": 41
        }
      ]
    },
    {
      "cell_type": "code",
      "source": [
        "## map() to convert a list of strings to integers\n",
        "# Use map to convert strings to integers\n",
        "str_numbers = ['1', '2', '3', '4', '5']\n",
        "int_numbers = list(map(int, str_numbers))\n",
        "\n",
        "\n",
        "print(int_numbers)  # Output: [1, 2, 3, 4, 5]"
      ],
      "metadata": {
        "colab": {
          "base_uri": "https://localhost:8080/"
        },
        "id": "cQmjb-sysMXB",
        "outputId": "12c80121-14d1-4c17-fe7b-23101892f543"
      },
      "execution_count": 42,
      "outputs": [
        {
          "output_type": "stream",
          "name": "stdout",
          "text": [
            "[1, 2, 3, 4, 5]\n"
          ]
        }
      ]
    },
    {
      "cell_type": "markdown",
      "source": [
        "## changing to upper case"
      ],
      "metadata": {
        "id": "eC-yMlHOshHb"
      }
    },
    {
      "cell_type": "code",
      "source": [
        "words=['apple','banana','cherry']\n",
        "upper_word=list(map(str.upper,words))\n",
        "print(upper_word)"
      ],
      "metadata": {
        "colab": {
          "base_uri": "https://localhost:8080/"
        },
        "id": "hp3dIysIsVMz",
        "outputId": "953b1376-4be7-42ee-f3d1-dd1a48a05eaa"
      },
      "execution_count": 43,
      "outputs": [
        {
          "output_type": "stream",
          "name": "stdout",
          "text": [
            "['APPLE', 'BANANA', 'CHERRY']\n"
          ]
        }
      ]
    },
    {
      "cell_type": "markdown",
      "source": [
        "## The filter() Function in Python\n",
        "The filter() function constructs an iterator from elements of an iterable for which a function returns true. It is used to filter out items from a list (or any other iterable) based on a condition."
      ],
      "metadata": {
        "id": "M-Bfh8POsmb7"
      }
    },
    {
      "cell_type": "code",
      "source": [
        "def even(num):\n",
        "    if num%2==0:\n",
        "        return True\n",
        "    else:\n",
        "        return False"
      ],
      "metadata": {
        "id": "0_l-jthvsf4a"
      },
      "execution_count": 47,
      "outputs": []
    },
    {
      "cell_type": "code",
      "source": [
        "even(45)"
      ],
      "metadata": {
        "colab": {
          "base_uri": "https://localhost:8080/"
        },
        "id": "Slb0n_KKstkH",
        "outputId": "b0799800-df74-42ed-bd9e-8b74e926bf9c"
      },
      "execution_count": 48,
      "outputs": [
        {
          "output_type": "execute_result",
          "data": {
            "text/plain": [
              "False"
            ]
          },
          "metadata": {},
          "execution_count": 48
        }
      ]
    },
    {
      "cell_type": "code",
      "source": [
        "lst=[1,2,3,4,5,6,7,8,9,10,11,12]\n",
        "\n",
        "list(filter(even, lst))"
      ],
      "metadata": {
        "colab": {
          "base_uri": "https://localhost:8080/"
        },
        "id": "xJNlBwFsswRv",
        "outputId": "cbfa992f-6625-4463-faa1-b3fc356c6e3a"
      },
      "execution_count": 49,
      "outputs": [
        {
          "output_type": "execute_result",
          "data": {
            "text/plain": [
              "[2, 4, 6, 8, 10, 12]"
            ]
          },
          "metadata": {},
          "execution_count": 49
        }
      ]
    },
    {
      "cell_type": "markdown",
      "source": [
        "## Filter with a lambda function and multiple conditions"
      ],
      "metadata": {
        "id": "JrEzA5OPtFfy"
      }
    },
    {
      "cell_type": "code",
      "source": [
        "numbers=[1,2,3,4,5,6,7,8,9]\n",
        "even_and_greater_than_five=list(filter(lambda x:x>5 and x%2==0,numbers))\n",
        "print(even_and_greater_than_five)"
      ],
      "metadata": {
        "colab": {
          "base_uri": "https://localhost:8080/"
        },
        "id": "2eR-fB7DtBpH",
        "outputId": "32842f29-6836-4e81-dcfb-099ba4d5f15a"
      },
      "execution_count": 50,
      "outputs": [
        {
          "output_type": "stream",
          "name": "stdout",
          "text": [
            "[6, 8]\n"
          ]
        }
      ]
    },
    {
      "cell_type": "markdown",
      "source": [
        "# Homework"
      ],
      "metadata": {
        "id": "lBt2kC6_taoU"
      }
    },
    {
      "cell_type": "code",
      "source": [
        "## learn reduce function in python\n",
        "# First, import the reduce function from the functools module\n",
        "from functools import reduce\n",
        "\n",
        "# Define a list of numbers\n",
        "numbers = [1, 2, 3, 4, 5]\n",
        "\n",
        "# Define a function to add two numbers\n",
        "def add_two_numbers(x, y):\n",
        "  return x + y\n",
        "\n",
        "# Use reduce to apply the add_two_numbers function cumulatively\n",
        "# to the numbers list. The result will be the sum of all elements.\n",
        "sum_of_numbers = reduce(add_two_numbers, numbers)\n",
        "\n",
        "# Print the result\n",
        "print(f\"The sum of the numbers in the list is: {sum_of_numbers}\")"
      ],
      "metadata": {
        "colab": {
          "base_uri": "https://localhost:8080/"
        },
        "id": "RxlD3YgatNOc",
        "outputId": "5dbd6c50-add2-407f-cdbe-8b8fa11b8f73"
      },
      "execution_count": 51,
      "outputs": [
        {
          "output_type": "stream",
          "name": "stdout",
          "text": [
            "The sum of the numbers in the list is: 15\n"
          ]
        }
      ]
    },
    {
      "cell_type": "markdown",
      "source": [
        "# File Operation- Read And Write Files\n",
        "File handling is a crucial part of any programming language. Python provides built-in functions and methods to read from and write to files, both text and binary. This lesson will cover the basics of file handling, including reading and writing text files and binary files."
      ],
      "metadata": {
        "id": "m24aOByjuBVp"
      }
    },
    {
      "cell_type": "code",
      "source": [
        "file = open(\"/opt/google/drive/drive-filter.py\", 'r')\n",
        "content =file.read()\n",
        "print(content)\n",
        "file.close()"
      ],
      "metadata": {
        "colab": {
          "base_uri": "https://localhost:8080/"
        },
        "id": "Baf8Pj5Ht-KL",
        "outputId": "7563d6d0-8b43-4cf6-e553-77016e57234d"
      },
      "execution_count": 52,
      "outputs": [
        {
          "output_type": "stream",
          "name": "stdout",
          "text": [
            "\"\"\"Picks error messages out of drive logs for surfacing to users.\"\"\"\n",
            "\n",
            "import json\n",
            "import re\n",
            "import sys\n",
            "\n",
            "if len(sys.argv) != 1:\n",
            "  print(f'Usage: {sys.argv[0]} (send drive logs on stdin)')\n",
            "  sys.exit(1)\n",
            "\n",
            "# LINT.IfChange(drivetimeout)\n",
            "timeout_pattern = 'QueryManager timed out'\n",
            "# LINT.ThenChange()\n",
            "\n",
            "log_prefix_re = re.compile(\n",
            "    r'^([0-9]{4}-[0-9]{2}-[0-9]{2}T[0-9]{2}:[0-9]{2}:[0-9]{2}\\.[0-9]{3}Z[IWEF]) '\n",
            ")\n",
            "\n",
            "suppressed_errors = (\n",
            "    # Internal errors, should be silently retried inside DriveFS.\n",
            "    'internalError Internal Error',\n",
            "    'conflict File ID already exists',\n",
            "    'deadlineExceeded A deadline was exceeded',\n",
            "    'transientError Transient failure',\n",
            "\n",
            "    # User-triggerable & surfaced as specific errors (EACCESS, ENOENT, etc).\n",
            "    'conditionNotMet Precondition Failed',\n",
            "    'authError Invalid Credentials',\n",
            "    'forbidden File not mutable',\n",
            "    'forbidden Insufficient permissions for this file',\n",
            "    'notFound File not found',\n",
            ")\n",
            "\n",
            "acc = ''\n",
            "last_stamp = ''\n",
            "for line in sys.stdin:\n",
            "  if not acc:\n",
            "    if timeout_pattern in line:\n",
            "      print(line, end='', flush=True)\n",
            "      continue\n",
            "    maybe_stamp = log_prefix_re.match(line)\n",
            "    if maybe_stamp:\n",
            "      last_stamp = maybe_stamp.group(1)\n",
            "  # pylint: disable=line-too-long\n",
            "  # An example logged value is:\n",
            "  # 2021-03-23T15:58:56.231ZE [201:core_117860867942433405545] drive_v2_cloud_store.cc:424242:FAKE FAKE FAKE\n",
            "  # {\n",
            "  #  \"error\": {\n",
            "  #   \"errors\": [\n",
            "  #    {\n",
            "  #     \"domain\": \"usageLimits\",\n",
            "  #     \"reason\": \"quotaExceeded\",\n",
            "  #     \"message\": \"The download quota for this file has been exceeded\",\n",
            "  #     \"locationType\": \"other\",\n",
            "  #     \"location\": \"quota.download\"\n",
            "  #    }\n",
            "  #   ],\n",
            "  #   \"code\": 403,\n",
            "  #   \"message\": \"The download quota for this file has been exceeded\"\n",
            "  #  }\n",
            "  # }\n",
            "  # Or\n",
            "  # 2021-03-23T15:58:56.231ZE [201:core_117860867942433405545] drive_v2_cloud_store_no_apiary.cc:3593:DumpToLog Response body 0x56f3ff6554b8: {\n",
            "  #  \"error\": {\n",
            "  #   \"errors\": [\n",
            "  #    {\n",
            "  #     \"domain\": \"usageLimits\",\n",
            "  #     \"reason\": \"quotaExceeded\",\n",
            "  #     \"message\": \"The download quota for this file has been exceeded\",\n",
            "  #     \"locationType\": \"other\",\n",
            "  #     \"loca...\n",
            "  # (with truncation)\n",
            "  # pylint: enable=line-too-long\n",
            "\n",
            "  def emit(r, m):\n",
            "    if r and m:\n",
            "      msg = f'{r} {m}'\n",
            "      if not any(x in msg for x in suppressed_errors):\n",
            "        print(f'{last_stamp} {msg}', flush=True)\n",
            "\n",
            "  if line.rstrip() == '{' or ('DumpToLog Response body' in line and\n",
            "                              line.rstrip().endswith('{')):\n",
            "    acc = '{'\n",
            "  elif acc:\n",
            "    acc += line\n",
            "  if acc and line.rstrip().endswith('...'):  # b/183502229\n",
            "    reason, message = '', ''\n",
            "    for l in acc.split('\\n'):\n",
            "      if '\"reason\":' in l:\n",
            "        reason = l.split(':', 2)[1].strip(' \\t\\n\\r,\"')\n",
            "      if '\"message\":' in l:\n",
            "        message = l.split(':', 2)[1].strip(' \\t\\n\\r,\"')\n",
            "    emit(reason, message)\n",
            "    acc = ''\n",
            "  if acc and line.rstrip() == '}':\n",
            "    try:\n",
            "      parsed = json.loads(acc)\n",
            "    except json.JSONDecodeError:\n",
            "      acc = ''\n",
            "      continue\n",
            "    try:\n",
            "      e = parsed['error']['errors'][0]\n",
            "    except:  # pylint: disable=bare-except\n",
            "      acc = ''\n",
            "      continue\n",
            "    emit(e['reason'], e['message'])\n",
            "    acc = ''\n",
            "\n"
          ]
        }
      ]
    },
    {
      "cell_type": "markdown",
      "source": [
        "An absolute path provides a complete, unambiguous path from the root of the file system to the target, while a relative path specifies a location relative to the current working directory."
      ],
      "metadata": {
        "id": "cHZQQmvj2s6B"
      }
    },
    {
      "cell_type": "markdown",
      "source": [
        "# current working directory"
      ],
      "metadata": {
        "id": "52UovaQd3KB6"
      }
    },
    {
      "cell_type": "code",
      "source": [
        "import os\n",
        "\n",
        "print(os.getcwd())"
      ],
      "metadata": {
        "colab": {
          "base_uri": "https://localhost:8080/"
        },
        "id": "T78xbBCHvPiA",
        "outputId": "1306961d-ddee-4a1c-c87a-a1b9bc8e0fa5"
      },
      "execution_count": 53,
      "outputs": [
        {
          "output_type": "stream",
          "name": "stdout",
          "text": [
            "/content\n"
          ]
        }
      ]
    },
    {
      "cell_type": "code",
      "source": [
        "file = open(\"sample_data/README.md\", 'r')\n",
        "content =file.read()\n",
        "print(content)\n",
        "file.close()"
      ],
      "metadata": {
        "colab": {
          "base_uri": "https://localhost:8080/"
        },
        "id": "X99eZTGQ2_li",
        "outputId": "805cd9a1-43b0-47d1-80b6-dea2d0e73433"
      },
      "execution_count": 54,
      "outputs": [
        {
          "output_type": "stream",
          "name": "stdout",
          "text": [
            "This directory includes a few sample datasets to get you started.\n",
            "\n",
            "*   `california_housing_data*.csv` is California housing data from the 1990 US\n",
            "    Census; more information is available at:\n",
            "    https://docs.google.com/document/d/e/2PACX-1vRhYtsvc5eOR2FWNCwaBiKL6suIOrxJig8LcSBbmCbyYsayia_DvPOOBlXZ4CAlQ5nlDD8kTaIDRwrN/pub\n",
            "\n",
            "*   `mnist_*.csv` is a small sample of the\n",
            "    [MNIST database](https://en.wikipedia.org/wiki/MNIST_database), which is\n",
            "    described at: http://yann.lecun.com/exdb/mnist/\n",
            "\n",
            "*   `anscombe.json` contains a copy of\n",
            "    [Anscombe's quartet](https://en.wikipedia.org/wiki/Anscombe%27s_quartet); it\n",
            "    was originally described in\n",
            "\n",
            "    Anscombe, F. J. (1973). 'Graphs in Statistical Analysis'. American\n",
            "    Statistician. 27 (1): 17-21. JSTOR 2682899.\n",
            "\n",
            "    and our copy was prepared by the\n",
            "    [vega_datasets library](https://github.com/altair-viz/vega_datasets/blob/4f67bdaad10f45e3549984e17e1b3088c731503d/vega_datasets/_data/anscombe.json).\n",
            "\n"
          ]
        }
      ]
    },
    {
      "cell_type": "code",
      "source": [
        "with open(\"sample_data/README.md\", 'r') as file:\n",
        "  print(file.read())"
      ],
      "metadata": {
        "colab": {
          "base_uri": "https://localhost:8080/"
        },
        "id": "uzb2V74T3j_C",
        "outputId": "bf50e85c-c18c-4d1f-c137-6f9f66f4971a"
      },
      "execution_count": 55,
      "outputs": [
        {
          "output_type": "stream",
          "name": "stdout",
          "text": [
            "This directory includes a few sample datasets to get you started.\n",
            "\n",
            "*   `california_housing_data*.csv` is California housing data from the 1990 US\n",
            "    Census; more information is available at:\n",
            "    https://docs.google.com/document/d/e/2PACX-1vRhYtsvc5eOR2FWNCwaBiKL6suIOrxJig8LcSBbmCbyYsayia_DvPOOBlXZ4CAlQ5nlDD8kTaIDRwrN/pub\n",
            "\n",
            "*   `mnist_*.csv` is a small sample of the\n",
            "    [MNIST database](https://en.wikipedia.org/wiki/MNIST_database), which is\n",
            "    described at: http://yann.lecun.com/exdb/mnist/\n",
            "\n",
            "*   `anscombe.json` contains a copy of\n",
            "    [Anscombe's quartet](https://en.wikipedia.org/wiki/Anscombe%27s_quartet); it\n",
            "    was originally described in\n",
            "\n",
            "    Anscombe, F. J. (1973). 'Graphs in Statistical Analysis'. American\n",
            "    Statistician. 27 (1): 17-21. JSTOR 2682899.\n",
            "\n",
            "    and our copy was prepared by the\n",
            "    [vega_datasets library](https://github.com/altair-viz/vega_datasets/blob/4f67bdaad10f45e3549984e17e1b3088c731503d/vega_datasets/_data/anscombe.json).\n",
            "\n"
          ]
        }
      ]
    },
    {
      "cell_type": "markdown",
      "source": [
        "## Read a file line by line\n"
      ],
      "metadata": {
        "id": "4nL2w1bL3-nk"
      }
    },
    {
      "cell_type": "code",
      "source": [
        "with open(\"sample_data/README.md\", 'r') as file:\n",
        "  for line in file:\n",
        "    print(line.strip())"
      ],
      "metadata": {
        "colab": {
          "base_uri": "https://localhost:8080/"
        },
        "id": "6txi7tXw37TT",
        "outputId": "78cd37dc-c6fa-4646-d975-a21c7458559b"
      },
      "execution_count": 57,
      "outputs": [
        {
          "output_type": "stream",
          "name": "stdout",
          "text": [
            "This directory includes a few sample datasets to get you started.\n",
            "\n",
            "*   `california_housing_data*.csv` is California housing data from the 1990 US\n",
            "Census; more information is available at:\n",
            "https://docs.google.com/document/d/e/2PACX-1vRhYtsvc5eOR2FWNCwaBiKL6suIOrxJig8LcSBbmCbyYsayia_DvPOOBlXZ4CAlQ5nlDD8kTaIDRwrN/pub\n",
            "\n",
            "*   `mnist_*.csv` is a small sample of the\n",
            "[MNIST database](https://en.wikipedia.org/wiki/MNIST_database), which is\n",
            "described at: http://yann.lecun.com/exdb/mnist/\n",
            "\n",
            "*   `anscombe.json` contains a copy of\n",
            "[Anscombe's quartet](https://en.wikipedia.org/wiki/Anscombe%27s_quartet); it\n",
            "was originally described in\n",
            "\n",
            "Anscombe, F. J. (1973). 'Graphs in Statistical Analysis'. American\n",
            "Statistician. 27 (1): 17-21. JSTOR 2682899.\n",
            "\n",
            "and our copy was prepared by the\n",
            "[vega_datasets library](https://github.com/altair-viz/vega_datasets/blob/4f67bdaad10f45e3549984e17e1b3088c731503d/vega_datasets/_data/anscombe.json).\n"
          ]
        }
      ]
    },
    {
      "cell_type": "markdown",
      "source": [
        "### for single line only"
      ],
      "metadata": {
        "id": "Rgl6oj8i4gKR"
      }
    },
    {
      "cell_type": "code",
      "source": [
        "with open(\"sample_data/README.md\", 'r') as file:\n",
        "  print(file.readline())"
      ],
      "metadata": {
        "colab": {
          "base_uri": "https://localhost:8080/"
        },
        "id": "qjoQ_rwb4B5v",
        "outputId": "54ba006a-9ce9-4590-a1e3-d31c687ef630"
      },
      "execution_count": 58,
      "outputs": [
        {
          "output_type": "stream",
          "name": "stdout",
          "text": [
            "This directory includes a few sample datasets to get you started.\n",
            "\n"
          ]
        }
      ]
    },
    {
      "cell_type": "markdown",
      "source": [
        "## creating a file"
      ],
      "metadata": {
        "id": "Q94Js2734n1_"
      }
    },
    {
      "cell_type": "code",
      "source": [
        "with open(\"sample_data/README27.md\", 'r') as file:\n",
        "  print(file.readline())"
      ],
      "metadata": {
        "colab": {
          "base_uri": "https://localhost:8080/",
          "height": 158
        },
        "id": "vdXKgWiV4pyq",
        "outputId": "68739e7a-5397-4e0c-ea43-e8b76aa5db98"
      },
      "execution_count": 59,
      "outputs": [
        {
          "output_type": "error",
          "ename": "FileNotFoundError",
          "evalue": "[Errno 2] No such file or directory: 'sample_data/README27.md'",
          "traceback": [
            "\u001b[0;31m---------------------------------------------------------------------------\u001b[0m",
            "\u001b[0;31mFileNotFoundError\u001b[0m                         Traceback (most recent call last)",
            "\u001b[0;32m<ipython-input-59-830087327>\u001b[0m in \u001b[0;36m<cell line: 0>\u001b[0;34m()\u001b[0m\n\u001b[0;32m----> 1\u001b[0;31m \u001b[0;32mwith\u001b[0m \u001b[0mopen\u001b[0m\u001b[0;34m(\u001b[0m\u001b[0;34m\"sample_data/README27.md\"\u001b[0m\u001b[0;34m,\u001b[0m \u001b[0;34m'r'\u001b[0m\u001b[0;34m)\u001b[0m \u001b[0;32mas\u001b[0m \u001b[0mfile\u001b[0m\u001b[0;34m:\u001b[0m\u001b[0;34m\u001b[0m\u001b[0;34m\u001b[0m\u001b[0m\n\u001b[0m\u001b[1;32m      2\u001b[0m   \u001b[0mprint\u001b[0m\u001b[0;34m(\u001b[0m\u001b[0mfile\u001b[0m\u001b[0;34m.\u001b[0m\u001b[0mreadline\u001b[0m\u001b[0;34m(\u001b[0m\u001b[0;34m)\u001b[0m\u001b[0;34m)\u001b[0m\u001b[0;34m\u001b[0m\u001b[0;34m\u001b[0m\u001b[0m\n",
            "\u001b[0;31mFileNotFoundError\u001b[0m: [Errno 2] No such file or directory: 'sample_data/README27.md'"
          ]
        }
      ]
    },
    {
      "cell_type": "markdown",
      "source": [
        "## Writing a file(Overwriting)\n",
        "\n",
        "- 'w' is the mode, it is used to write\n",
        "- if the file is not present, it will create one\n",
        "- if the file is already there, it will overwrite it"
      ],
      "metadata": {
        "id": "2na-55Zi45Ny"
      }
    },
    {
      "cell_type": "code",
      "source": [
        "\n",
        "\n",
        "with open('example.txt','w') as file:\n",
        "    file.write('Hello World!\\n')\n",
        "    file.write('this is a new line.')"
      ],
      "metadata": {
        "id": "vajN4_qB4toi"
      },
      "execution_count": 60,
      "outputs": []
    },
    {
      "cell_type": "code",
      "source": [],
      "metadata": {
        "id": "RO42t_fy46uI"
      },
      "execution_count": null,
      "outputs": []
    }
  ]
}