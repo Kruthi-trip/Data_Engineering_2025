{
  "nbformat": 4,
  "nbformat_minor": 0,
  "metadata": {
    "colab": {
      "provenance": [],
      "authorship_tag": "ABX9TyMTZixMjVYD17XKsBq/U2Bu",
      "include_colab_link": true
    },
    "kernelspec": {
      "name": "python3",
      "display_name": "Python 3"
    },
    "language_info": {
      "name": "python"
    }
  },
  "cells": [
    {
      "cell_type": "markdown",
      "metadata": {
        "id": "view-in-github",
        "colab_type": "text"
      },
      "source": [
        "<a href=\"https://colab.research.google.com/github/Kruthi-trip/Data_Engineering_2025/blob/main/Day_1_Python.ipynb\" target=\"_parent\"><img src=\"https://colab.research.google.com/assets/colab-badge.svg\" alt=\"Open In Colab\"/></a>"
      ]
    },
    {
      "cell_type": "markdown",
      "source": [
        "\n",
        "##Syntax and semantics in Python\n",
        "\n",
        "\n",
        "- Single line comments and multi-line comments\n",
        "- Definition of Syntax and Semantics\n",
        "- Basic syntax rules in Python\n",
        "- Understanding semantics in Python\n",
        "- Common syntax errors and how to avoid them\n",
        "- Practical code examples\n",
        "\n",
        "## Syntax:\n",
        "Syntax refers to the set of rules that define the combinations of symbols that are considered to be correctly structured programs in a language. In simpler terms, syntax is about the correct arrangement of words and symbols in a code.\n",
        "\n",
        "## Semantics:\n",
        "Semantics refers to the meaning or the interpretation of the symbols, characters, and commands in a language. It is about what the code is supposed to do when it runs.\n",
        "\n",
        "\n",
        "## Basic syntax rules in Python\n",
        "Python is case sensitive\n",
        "## Indentation:\n",
        "It is the space at the beginning of a line of writing when it starts further away from the edge of the paper than all the other lines.\n",
        "\n",
        "In python it is used to define the structure and heirarchy of the code.\n",
        "\n",
        "## example\n",
        "\n",
        "age = 27\n",
        "\n",
        "if age > 25:\n",
        "  print(\"You are above 25\")\n",
        "else:\n",
        "  print(\"You are below 25\")\n",
        "\n",
        "print(age)\n",
        "You are above 25\n",
        "\n"
      ],
      "metadata": {
        "id": "y8pm8qqE7Dx8"
      }
    },
    {
      "cell_type": "markdown",
      "source": [
        "\n",
        "## Line continuation:\n",
        "- ' \\ '\n",
        "- back-slash\n",
        "- this consideres both the lines of code as a single line, but makes it easy to look at the entire line of code without having to scroll to the side.\n",
        "\n",
        "## Multiple statements in a single line\n",
        "- ' ; '\n",
        "- semi-colan\n",
        "- alows writing multiple statements in a single line\n",
        "- eg: x=5;y=3;z=x+y\n",
        "\n",
        "## Multi-line strings\n",
        "these need to be put in between \"\"\" or ''' to not get an error\n"
      ],
      "metadata": {
        "id": "M1scEscg7gis"
      }
    },
    {
      "cell_type": "markdown",
      "source": [
        "\n",
        "## DataTypes\n",
        "### 1. Definition:\n",
        "Data types are a classification of data which tell the compiler or interpreter how the program intends to use the date.\n",
        "They determine the type of operations that can be performed on the data, the values that data can take, and the amount of memory needed to store the data.\n",
        "### 2. Importance of Data Types in Programming\n",
        "Data Types ensure that data is stores in an efficient way.\n",
        "They help in performing correct operations on data.\n",
        "Proper use of data types can prevent errors and bugs in the program.\n",
        "\n",
        "\n",
        "## Polymorphism:\n",
        "one form but various meanings.\n"
      ],
      "metadata": {
        "id": "NgPGNodw76_X"
      }
    },
    {
      "cell_type": "markdown",
      "source": [
        "\n",
        "## Operators\n",
        "## Mathematical Operators\n",
        "- Addition\n",
        "- Subtraction\n",
        "- Division\n",
        "- Multiplication\n",
        "- Floor Division - no decimals in the output\n",
        "- Modulus - remainder\n",
        "- Exponent (**)\n",
        "\n",
        "## Comparision Operators\n",
        "- ' == ' equal to\n",
        "- ' != ' not equal to\n",
        "- ' > ' greater than\n",
        "- ' < ' less than\n",
        "- ' >= ' greater than or equal to\n",
        "- ' <= ' less than or equal to\n",
        "\n",
        "## Logical Operators\n",
        "- AND\n",
        "- NOT\n",
        "- OR\n",
        "\n",
        "## Membership Operators\n",
        "- IN\n",
        "- NOT IN\n",
        "\n",
        "## Identity Operators\n",
        "- IS\n",
        "- IS NOT\n"
      ],
      "metadata": {
        "id": "BNfchBWQ8GJ0"
      }
    }
  ]
}