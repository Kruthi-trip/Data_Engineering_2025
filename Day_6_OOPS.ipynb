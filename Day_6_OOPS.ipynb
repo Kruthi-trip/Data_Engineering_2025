{
  "nbformat": 4,
  "nbformat_minor": 0,
  "metadata": {
    "colab": {
      "provenance": [],
      "authorship_tag": "ABX9TyNOmO9xmRj1gzfJXFGiISKS",
      "include_colab_link": true
    },
    "kernelspec": {
      "name": "python3",
      "display_name": "Python 3"
    },
    "language_info": {
      "name": "python"
    }
  },
  "cells": [
    {
      "cell_type": "markdown",
      "metadata": {
        "id": "view-in-github",
        "colab_type": "text"
      },
      "source": [
        "<a href=\"https://colab.research.google.com/github/Kruthi-trip/Data_Engineering_2025/blob/main/Day_6_OOPS.ipynb\" target=\"_parent\"><img src=\"https://colab.research.google.com/assets/colab-badge.svg\" alt=\"Open In Colab\"/></a>"
      ]
    },
    {
      "cell_type": "markdown",
      "source": [
        "## Classes and Objects\n",
        "Object-Oriented Programming (OOP) is a programming paradigm that uses \"objects\" to design applications and computer programs. OOP allows for modeling real-world scenarios using classes and objects."
      ],
      "metadata": {
        "id": "A7HTpeGaHPgN"
      }
    },
    {
      "cell_type": "markdown",
      "source": [
        "## Custom Classes\n",
        "Python is an object oriented programming language.\n",
        "Almost everything in Python is an object, with its properties and methods.\n",
        "A Class is like an object constructor, or a \"blueprint\" for creating objects."
      ],
      "metadata": {
        "id": "5L96NR3CHW_h"
      }
    },
    {
      "cell_type": "code",
      "execution_count": 1,
      "metadata": {
        "id": "E0aBX7rXF05-"
      },
      "outputs": [],
      "source": [
        "class Person:\n",
        "    pass"
      ]
    },
    {
      "cell_type": "markdown",
      "source": [
        "- Creating a class named 'Person'\n",
        "- class names start with an uppercase letter."
      ],
      "metadata": {
        "id": "Oy1rgqObH1WX"
      }
    },
    {
      "cell_type": "code",
      "source": [
        "class Rectangle:\n",
        "    def __init__(self, width, height):\n",
        "        self.width = width\n",
        "        self.height = height\n",
        "\n",
        "\n",
        "class Person:\n",
        "    def __init__(self, name, age):\n",
        "        self.myname = name\n",
        "        self.myage = age\n",
        "\n",
        "    def print_details(self):\n",
        "        return f\"Name is '{self.myname}' and age is '{self.myage}'.\""
      ],
      "metadata": {
        "id": "FcfCGyE5HoqG"
      },
      "execution_count": 2,
      "outputs": []
    },
    {
      "cell_type": "markdown",
      "source": [
        "- The self parameter refers to the instance of the class being created.\n",
        "- if we try to create a class with the same name, it is overwritten rather than creating a duplicate."
      ],
      "metadata": {
        "id": "0cZpibwkIS8l"
      }
    },
    {
      "cell_type": "markdown",
      "source": [
        "- We create instances of the Rectangle class by calling it with arguments that are passed to the __ init __ method as the second and third arguments. The first argument (self) is automatically filled in by Python and contains the object being created.\n",
        "\n",
        "- Note that using self is just a convention (although a good one, and you should use it to make your code more understandable by others), you could really call it whatever (valid) name you choose.\n",
        "\n",
        "But just because you can, does not mean you should!"
      ],
      "metadata": {
        "id": "Mg1XnPFVQYKQ"
      }
    },
    {
      "cell_type": "code",
      "source": [
        "r1 = Rectangle(10, 20)"
      ],
      "metadata": {
        "id": "VcU6qKOnQXap"
      },
      "execution_count": 3,
      "outputs": []
    },
    {
      "cell_type": "code",
      "source": [
        "p1 = Person('Kruthi', 27)\n",
        "p2 = Person(\"Abhi\", 24)\n",
        "p3 = Person(\"Sravan\", 64)\n",
        "p4 = Person(\"Usha\", 56)\n",
        "\n",
        "\n",
        "print(p1.print_details())\n",
        "print(p2.print_details())\n",
        "print(p3.print_details())\n",
        "print(p4.print_details())"
      ],
      "metadata": {
        "colab": {
          "base_uri": "https://localhost:8080/"
        },
        "id": "43FZWHWAQ4Zg",
        "outputId": "2de2b779-a637-4ec3-90f4-f3f2a381279c"
      },
      "execution_count": 4,
      "outputs": [
        {
          "output_type": "stream",
          "name": "stdout",
          "text": [
            "Name is 'Kruthi' and age is '27'.\n",
            "Name is 'Abhi' and age is '24'.\n",
            "Name is 'Sravan' and age is '64'.\n",
            "Name is 'Usha' and age is '56'.\n"
          ]
        }
      ]
    },
    {
      "cell_type": "code",
      "source": [
        "p1.print_details()"
      ],
      "metadata": {
        "colab": {
          "base_uri": "https://localhost:8080/",
          "height": 35
        },
        "id": "nY4JhoQIQ6Lj",
        "outputId": "989269ff-cf5f-4e2d-b9ed-5446b7a41c72"
      },
      "execution_count": 5,
      "outputs": [
        {
          "output_type": "execute_result",
          "data": {
            "text/plain": [
              "\"Name is 'Kruthi' and age is '27'.\""
            ],
            "application/vnd.google.colaboratory.intrinsic+json": {
              "type": "string"
            }
          },
          "metadata": {},
          "execution_count": 5
        }
      ]
    },
    {
      "cell_type": "markdown",
      "source": [
        "### Rectangle"
      ],
      "metadata": {
        "id": "Y_tnQ_k-RjP7"
      }
    },
    {
      "cell_type": "code",
      "source": [
        "print(r1)\n",
        "print(type(r1))"
      ],
      "metadata": {
        "colab": {
          "base_uri": "https://localhost:8080/"
        },
        "id": "G2Hp-civReRr",
        "outputId": "9f912676-94ab-44fb-b155-7f158677180e"
      },
      "execution_count": 6,
      "outputs": [
        {
          "output_type": "stream",
          "name": "stdout",
          "text": [
            "<__main__.Rectangle object at 0x7ad9f907c2d0>\n",
            "<class '__main__.Rectangle'>\n"
          ]
        }
      ]
    },
    {
      "cell_type": "markdown",
      "source": [
        "- Since r1 is an instance of the Rectangle class, the output will typically show information about the object, including its type and memory address."
      ],
      "metadata": {
        "id": "p9h5Br6IRxYo"
      }
    },
    {
      "cell_type": "code",
      "source": [
        "l1 = list(range(1,11))\n",
        "\n",
        "print(l1)"
      ],
      "metadata": {
        "colab": {
          "base_uri": "https://localhost:8080/"
        },
        "id": "c24aPPM-Rmbx",
        "outputId": "4f92236f-0db2-41b3-e0a6-65e777a2e188"
      },
      "execution_count": 7,
      "outputs": [
        {
          "output_type": "stream",
          "name": "stdout",
          "text": [
            "[1, 2, 3, 4, 5, 6, 7, 8, 9, 10]\n"
          ]
        }
      ]
    },
    {
      "cell_type": "markdown",
      "source": [
        "\n",
        "- width and height are attributes of the Rectangle class. But since they are just values (not callables), we call them properties.\n",
        "\n",
        "- Attributes that are callables are called methods.\n",
        "\n",
        "- You'll note that we were able to retrieve the width and height attributes (properties) using a dot notation, where we specify the object we are interested in, then a dot, then the attribute we are interested in.\n",
        "\n",
        "- We can add callable attributes to our class (methods), that will also be referenced using the dot notation.\n",
        "\n",
        "- Again, we will create instance methods, which means the method will require the first argument to be the object being used when the method is called."
      ],
      "metadata": {
        "id": "8fN3X_vOSAUw"
      }
    },
    {
      "cell_type": "code",
      "source": [
        "class Rectangle:\n",
        "    def __init__(self, width, height):\n",
        "        self.width = width\n",
        "        self.height = height\n",
        "\n",
        "    def area(self):\n",
        "        return (self.width * self.height)\n",
        "\n",
        "    def perimeter(the_referenced_object):\n",
        "        return 2 * (the_referenced_object.width + the_referenced_object.height)\n",
        "\n",
        "    def details(self):\n",
        "        return f\"...\""
      ],
      "metadata": {
        "id": "QO56DZPdR6ey"
      },
      "execution_count": 16,
      "outputs": []
    },
    {
      "cell_type": "code",
      "source": [
        "r1 = Rectangle(10,20)"
      ],
      "metadata": {
        "id": "Ce3WbvUdjf1W"
      },
      "execution_count": 17,
      "outputs": []
    },
    {
      "cell_type": "code",
      "source": [
        "r1.height"
      ],
      "metadata": {
        "colab": {
          "base_uri": "https://localhost:8080/"
        },
        "id": "nOZI1qxYKPud",
        "outputId": "a8229791-a061-4e4e-8ef2-83505c86200d"
      },
      "execution_count": 18,
      "outputs": [
        {
          "output_type": "execute_result",
          "data": {
            "text/plain": [
              "20"
            ]
          },
          "metadata": {},
          "execution_count": 18
        }
      ]
    },
    {
      "cell_type": "code",
      "source": [
        "class LLM:\n",
        "    pass"
      ],
      "metadata": {
        "id": "CIRCGm1lKYY6"
      },
      "execution_count": 13,
      "outputs": []
    },
    {
      "cell_type": "code",
      "source": [
        "print(r1)"
      ],
      "metadata": {
        "colab": {
          "base_uri": "https://localhost:8080/"
        },
        "id": "30bEoubnKgdV",
        "outputId": "a894f194-6069-4110-a201-fd77fcd25296"
      },
      "execution_count": 19,
      "outputs": [
        {
          "output_type": "stream",
          "name": "stdout",
          "text": [
            "<__main__.Rectangle object at 0x7ad9e05d4e10>\n"
          ]
        }
      ]
    },
    {
      "cell_type": "markdown",
      "source": [
        "## Special methods\n",
        "\n",
        "- for example __ init __.\n",
        "- we can use this to give our class a functionality that resembles the functionality of a built-in library object.\n",
        "- These special methods provide us an easy way to overload operators in Python.\n",
        "- For example, we can obtain the string representation of an integer using the built-in str function"
      ],
      "metadata": {
        "id": "GzNiCIedNoLE"
      }
    },
    {
      "cell_type": "code",
      "source": [
        "str('66')"
      ],
      "metadata": {
        "colab": {
          "base_uri": "https://localhost:8080/",
          "height": 35
        },
        "id": "FKG9ChbdNPjr",
        "outputId": "0bdbef9a-d00c-4d93-8823-593ced34a1a2"
      },
      "execution_count": 20,
      "outputs": [
        {
          "output_type": "execute_result",
          "data": {
            "text/plain": [
              "'66'"
            ],
            "application/vnd.google.colaboratory.intrinsic+json": {
              "type": "string"
            }
          },
          "metadata": {},
          "execution_count": 20
        }
      ]
    },
    {
      "cell_type": "code",
      "source": [
        "str(r1)"
      ],
      "metadata": {
        "colab": {
          "base_uri": "https://localhost:8080/",
          "height": 35
        },
        "id": "UA2eFdZ3OpvK",
        "outputId": "256ce85a-e46a-4e0b-8b22-28214d3102af"
      },
      "execution_count": 21,
      "outputs": [
        {
          "output_type": "execute_result",
          "data": {
            "text/plain": [
              "'<__main__.Rectangle object at 0x7ad9e05d4e10>'"
            ],
            "application/vnd.google.colaboratory.intrinsic+json": {
              "type": "string"
            }
          },
          "metadata": {},
          "execution_count": 21
        }
      ]
    },
    {
      "cell_type": "code",
      "source": [
        "class Rectangle:\n",
        "  def __init__(self, width, height):\n",
        "    self.width = width\n",
        "    self.height = height\n",
        "\n",
        "  def area(self):\n",
        "    return self.width * self.height\n",
        "\n",
        "  def perimeter(self):\n",
        "    return 2 * (self.width + self.height)\n",
        "\n",
        "  def to_str(self):\n",
        "    return f'Rectangle (width={self.width}, height={self.height})'"
      ],
      "metadata": {
        "id": "o5L-xAIZOtGz"
      },
      "execution_count": 27,
      "outputs": []
    },
    {
      "cell_type": "code",
      "source": [
        "r1 = Rectangle(10,20)\n",
        "r1.to_str()"
      ],
      "metadata": {
        "colab": {
          "base_uri": "https://localhost:8080/",
          "height": 35
        },
        "id": "wZR81DRmPWTE",
        "outputId": "5f8e712e-1503-492c-de63-c40d20b3dd8f"
      },
      "execution_count": 28,
      "outputs": [
        {
          "output_type": "execute_result",
          "data": {
            "text/plain": [
              "'Rectangle (width=10, height=20)'"
            ],
            "application/vnd.google.colaboratory.intrinsic+json": {
              "type": "string"
            }
          },
          "metadata": {},
          "execution_count": 28
        }
      ]
    },
    {
      "cell_type": "code",
      "source": [
        "str(r1)"
      ],
      "metadata": {
        "colab": {
          "base_uri": "https://localhost:8080/",
          "height": 35
        },
        "id": "4V3SqF4CQV11",
        "outputId": "f580f50c-30b9-4c4c-831d-93c2c42c27ef"
      },
      "execution_count": 29,
      "outputs": [
        {
          "output_type": "execute_result",
          "data": {
            "text/plain": [
              "'<__main__.Rectangle object at 0x7ad9c96ad0d0>'"
            ],
            "application/vnd.google.colaboratory.intrinsic+json": {
              "type": "string"
            }
          },
          "metadata": {},
          "execution_count": 29
        }
      ]
    },
    {
      "cell_type": "code",
      "source": [
        "print(r1)"
      ],
      "metadata": {
        "colab": {
          "base_uri": "https://localhost:8080/"
        },
        "id": "pvUFgE0NQ5K3",
        "outputId": "232eb550-9133-4fe6-a849-9ea275fb689e"
      },
      "execution_count": 36,
      "outputs": [
        {
          "output_type": "stream",
          "name": "stdout",
          "text": [
            "<__main__.Rectangle object at 0x7ad9c96ae190>\n"
          ]
        }
      ]
    },
    {
      "cell_type": "markdown",
      "source": [
        "The __str__ dunder method in Python is a special method used to define the \"informal\" string representation of an object."
      ],
      "metadata": {
        "id": "FbQy3BrORcxQ"
      }
    },
    {
      "cell_type": "code",
      "source": [
        "class Rectangle:\n",
        "    def __init__(self, width, height):\n",
        "        self.width = width\n",
        "        self.height = height\n",
        "\n",
        "    def area(self):\n",
        "        return self.width * self.height\n",
        "\n",
        "    def perimeter(self):\n",
        "        return 2 * (self.width + self.height)\n",
        "\n",
        "    def __str__(self):\n",
        "        return f'Rectangle (width={self.width}, height={self.height})'\n",
        "\n",
        "    def __repr__(self):\n",
        "        return f'Rectangle (width={self.width}, height={self.height})'"
      ],
      "metadata": {
        "id": "Q2v5BZFnYLW3"
      },
      "execution_count": 47,
      "outputs": []
    },
    {
      "cell_type": "code",
      "source": [
        "str(10)"
      ],
      "metadata": {
        "colab": {
          "base_uri": "https://localhost:8080/",
          "height": 35
        },
        "id": "WH-gu5mLQ7wP",
        "outputId": "216a4fd7-1eb2-4251-83c9-ac71a4367f7e"
      },
      "execution_count": 48,
      "outputs": [
        {
          "output_type": "execute_result",
          "data": {
            "text/plain": [
              "'10'"
            ],
            "application/vnd.google.colaboratory.intrinsic+json": {
              "type": "string"
            }
          },
          "metadata": {},
          "execution_count": 48
        }
      ]
    },
    {
      "cell_type": "code",
      "source": [
        "r1 = Rectangle(10,20)\n",
        "\n",
        "print(r1)\n",
        "print(str(r1))"
      ],
      "metadata": {
        "colab": {
          "base_uri": "https://localhost:8080/"
        },
        "id": "EmSng2XzX0-r",
        "outputId": "d03c9907-6adf-48ee-95c2-abd54b07952b"
      },
      "execution_count": 49,
      "outputs": [
        {
          "output_type": "stream",
          "name": "stdout",
          "text": [
            "Rectangle (width=10, height=20)\n",
            "Rectangle (width=10, height=20)\n"
          ]
        }
      ]
    },
    {
      "cell_type": "code",
      "source": [
        "str(r1)"
      ],
      "metadata": {
        "colab": {
          "base_uri": "https://localhost:8080/",
          "height": 35
        },
        "id": "yqPsAIo8X6Wm",
        "outputId": "25f2c6aa-650e-4147-a505-1d17220c335f"
      },
      "execution_count": 50,
      "outputs": [
        {
          "output_type": "execute_result",
          "data": {
            "text/plain": [
              "'Rectangle (width=10, height=20)'"
            ],
            "application/vnd.google.colaboratory.intrinsic+json": {
              "type": "string"
            }
          },
          "metadata": {},
          "execution_count": 50
        }
      ]
    },
    {
      "cell_type": "code",
      "source": [
        "r1"
      ],
      "metadata": {
        "colab": {
          "base_uri": "https://localhost:8080/"
        },
        "id": "gqxj2gvGYkZj",
        "outputId": "91644bbd-1830-4bd8-9e5f-18a4463d30be"
      },
      "execution_count": 51,
      "outputs": [
        {
          "output_type": "execute_result",
          "data": {
            "text/plain": [
              "Rectangle (width=10, height=20)"
            ]
          },
          "metadata": {},
          "execution_count": 51
        }
      ]
    },
    {
      "cell_type": "markdown",
      "source": [
        "- when we give __ str __ the str() function is used to show the object\n",
        "- but for r1, we need the __ repr __ to get the object as output."
      ],
      "metadata": {
        "id": "Bg7Cl1dCZI4L"
      }
    },
    {
      "cell_type": "markdown",
      "source": [
        "## Comparing objects in a class\n",
        "- w e wont be able to directly compare objects in a class.\n",
        "- we need a special method to do that like we need something for strings and overloading operators.\n",
        "- to compare we need the __ eq __ special method.\n",
        "- this is dunder-eq."
      ],
      "metadata": {
        "id": "PlOMedNya2Ow"
      }
    },
    {
      "cell_type": "code",
      "source": [
        "r1 = Rectangle(10,20)\n",
        "r2 = Rectangle(10,20)"
      ],
      "metadata": {
        "id": "f9Bg58UKYl_X"
      },
      "execution_count": 52,
      "outputs": []
    },
    {
      "cell_type": "code",
      "source": [
        "print(r1)\n",
        "print(r2)"
      ],
      "metadata": {
        "colab": {
          "base_uri": "https://localhost:8080/"
        },
        "id": "DxGB6DyzZdOI",
        "outputId": "41c04d4c-a38d-49af-89a2-ae7f8adac146"
      },
      "execution_count": 53,
      "outputs": [
        {
          "output_type": "stream",
          "name": "stdout",
          "text": [
            "Rectangle (width=10, height=20)\n",
            "Rectangle (width=10, height=20)\n"
          ]
        }
      ]
    },
    {
      "cell_type": "code",
      "source": [
        "r1==r2"
      ],
      "metadata": {
        "colab": {
          "base_uri": "https://localhost:8080/"
        },
        "id": "fL7YWk7RZfsj",
        "outputId": "9f434bad-3001-4205-ac88-c1ec9a0a4dc3"
      },
      "execution_count": 54,
      "outputs": [
        {
          "output_type": "execute_result",
          "data": {
            "text/plain": [
              "False"
            ]
          },
          "metadata": {},
          "execution_count": 54
        }
      ]
    },
    {
      "cell_type": "code",
      "source": [
        "r1==1"
      ],
      "metadata": {
        "colab": {
          "base_uri": "https://localhost:8080/"
        },
        "id": "ny4neP0KZh8s",
        "outputId": "d9ed2389-4054-484c-cb94-4e4bd36dcf8b"
      },
      "execution_count": 55,
      "outputs": [
        {
          "output_type": "execute_result",
          "data": {
            "text/plain": [
              "False"
            ]
          },
          "metadata": {},
          "execution_count": 55
        }
      ]
    },
    {
      "cell_type": "markdown",
      "source": [
        "- this is basically checking if the condition is correct or not.\n",
        "- if 1.2 is a float print yes or print no."
      ],
      "metadata": {
        "id": "Q5gEB285cVl4"
      }
    },
    {
      "cell_type": "code",
      "source": [
        "if isinstance(1.2, float):\n",
        "    print('yes')\n",
        "else:\n",
        "    print('No')"
      ],
      "metadata": {
        "colab": {
          "base_uri": "https://localhost:8080/"
        },
        "id": "MpQ_07wAZj9u",
        "outputId": "ba3c0d05-3c55-4af4-d667-884f06869cfb"
      },
      "execution_count": 56,
      "outputs": [
        {
          "output_type": "stream",
          "name": "stdout",
          "text": [
            "yes\n"
          ]
        }
      ]
    },
    {
      "cell_type": "code",
      "source": [
        "def __eq__(self, other):\n",
        "  print(f'1st object: {self}, 2nd object: {other}')\n",
        "  if isinstance(other, Rectangle):\n",
        "    return(self.width, self.height) == (other.width, other.height)\n",
        "  else:\n",
        "    False"
      ],
      "metadata": {
        "id": "zOWKfg8BZmaO"
      },
      "execution_count": 57,
      "outputs": []
    },
    {
      "cell_type": "code",
      "source": [
        "(10, 20) == (10,21)"
      ],
      "metadata": {
        "colab": {
          "base_uri": "https://localhost:8080/"
        },
        "id": "LV-p4EkLvv6n",
        "outputId": "6cabb7a5-e1a4-4dfb-c441-17856921d845"
      },
      "execution_count": 60,
      "outputs": [
        {
          "output_type": "execute_result",
          "data": {
            "text/plain": [
              "False"
            ]
          },
          "metadata": {},
          "execution_count": 60
        }
      ]
    },
    {
      "cell_type": "code",
      "source": [
        "r1 = Rectangle(10,20)\n",
        "r2 = Rectangle(10,20)"
      ],
      "metadata": {
        "id": "ARJWXLZNwWhp"
      },
      "execution_count": 64,
      "outputs": []
    },
    {
      "cell_type": "code",
      "source": [
        "r1 == r2"
      ],
      "metadata": {
        "colab": {
          "base_uri": "https://localhost:8080/"
        },
        "id": "KkWRWuP2wTSW",
        "outputId": "b4314543-6ac7-4a69-d5c1-c93df22db9cb"
      },
      "execution_count": 65,
      "outputs": [
        {
          "output_type": "stream",
          "name": "stdout",
          "text": [
            "self=Rectangle (width=10, height=20), other=Rectangle (width=10, height=20)\n"
          ]
        },
        {
          "output_type": "execute_result",
          "data": {
            "text/plain": [
              "True"
            ]
          },
          "metadata": {},
          "execution_count": 65
        }
      ]
    },
    {
      "cell_type": "code",
      "source": [
        "isinstance((1,2), tuple)"
      ],
      "metadata": {
        "colab": {
          "base_uri": "https://localhost:8080/"
        },
        "id": "XFlP_QTiv8no",
        "outputId": "4bee20b1-1cb9-4516-d2eb-d48c85a55198"
      },
      "execution_count": 61,
      "outputs": [
        {
          "output_type": "execute_result",
          "data": {
            "text/plain": [
              "True"
            ]
          },
          "metadata": {},
          "execution_count": 61
        }
      ]
    },
    {
      "cell_type": "code",
      "source": [
        "class Rectangle:\n",
        "    def __init__(self, width, height):\n",
        "        self.width = width\n",
        "        self.height = height\n",
        "\n",
        "    def area(self):\n",
        "        return self.width * self.height\n",
        "\n",
        "    def perimeter(self):\n",
        "        return 2 * (self.width + self.height)\n",
        "\n",
        "    def __str__(self):\n",
        "        return 'Rectangle (width={0}, height={1})'.format(self.width, self.height)\n",
        "\n",
        "    def __repr__(self):\n",
        "        return 'Rectangle({0}, {1})'.format(self.width, self.height)\n",
        "\n",
        "    def __eq__(self, other):\n",
        "        print('self={0}, other={1}'.format(self, other))\n",
        "        if isinstance(other, Rectangle):\n",
        "            return (self.width, self.height) == (other.width, other.height)\n",
        "        else:\n",
        "            return False"
      ],
      "metadata": {
        "id": "SFf5xoQRwB_i"
      },
      "execution_count": 62,
      "outputs": []
    },
    {
      "cell_type": "code",
      "source": [
        "class Rectangle:\n",
        "    def __init__(self, width, height):\n",
        "        self.width = width\n",
        "        self.height = height\n",
        "\n",
        "    def area(self, shaded_color):\n",
        "        return ((self.width * self.height), shaded_color)\n",
        "\n",
        "r1 = Rectangle(5, 10)\n",
        "print(r1.area('red'))"
      ],
      "metadata": {
        "colab": {
          "base_uri": "https://localhost:8080/"
        },
        "id": "gINeZj4TwMV_",
        "outputId": "7de666a4-09c4-4aba-b7cd-b0255c595879"
      },
      "execution_count": 66,
      "outputs": [
        {
          "output_type": "stream",
          "name": "stdout",
          "text": [
            "(50, 'red')\n"
          ]
        }
      ]
    },
    {
      "cell_type": "code",
      "source": [],
      "metadata": {
        "id": "18G1PCsZw241"
      },
      "execution_count": null,
      "outputs": []
    }
  ]
}