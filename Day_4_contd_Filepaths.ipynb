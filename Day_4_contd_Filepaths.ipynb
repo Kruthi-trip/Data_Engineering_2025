{
  "nbformat": 4,
  "nbformat_minor": 0,
  "metadata": {
    "colab": {
      "provenance": [],
      "authorship_tag": "ABX9TyOJz0h0dm0Qpnk5TW+nfKXo",
      "include_colab_link": true
    },
    "kernelspec": {
      "name": "python3",
      "display_name": "Python 3"
    },
    "language_info": {
      "name": "python"
    }
  },
  "cells": [
    {
      "cell_type": "markdown",
      "metadata": {
        "id": "view-in-github",
        "colab_type": "text"
      },
      "source": [
        "<a href=\"https://colab.research.google.com/github/Kruthi-trip/Data_Engineering_2025/blob/main/Day_4_contd_Filepaths.ipynb\" target=\"_parent\"><img src=\"https://colab.research.google.com/assets/colab-badge.svg\" alt=\"Open In Colab\"/></a>"
      ]
    },
    {
      "cell_type": "markdown",
      "source": [
        "### Working With File Paths\n",
        "When working with files in Python, handling file paths correctly is crucial to ensure your code works across different operating systems and environments. Python provides several modules and functions for working with file paths effectively."
      ],
      "metadata": {
        "id": "SoDU5AYcAVon"
      }
    },
    {
      "cell_type": "markdown",
      "source": [
        "# Resources:\n",
        "1. https://www.w3schools.com/PYTHON/python_file_handling.asp\n",
        "2. glob: https://medium.com/django-unleashed/python-file-handling-with-the-glob-module-a-comprehensive-guide-10b209fcbfbb\n",
        "3. glob: https://docs.python.org/3/library/glob.html"
      ],
      "metadata": {
        "id": "q2suNMgQAaCr"
      }
    },
    {
      "cell_type": "markdown",
      "source": [
        "### Using the os module"
      ],
      "metadata": {
        "id": "RLKmwT5PBxCO"
      }
    },
    {
      "cell_type": "code",
      "execution_count": 1,
      "metadata": {
        "colab": {
          "base_uri": "https://localhost:8080/"
        },
        "id": "Pr5if8VUAU0B",
        "outputId": "6cfd1076-0e24-46b9-aa42-0646f0055b9a"
      },
      "outputs": [
        {
          "output_type": "stream",
          "name": "stdout",
          "text": [
            "Current working directory is /content\n"
          ]
        }
      ],
      "source": [
        "\n",
        "import os\n",
        "cwd=os.getcwd()\n",
        "print(f\"Current working directory is {cwd}\")"
      ]
    },
    {
      "cell_type": "markdown",
      "source": [
        "## create a new directory"
      ],
      "metadata": {
        "id": "6XB22JaxB0gW"
      }
    },
    {
      "cell_type": "code",
      "source": [
        "\n",
        "new_directory=\"package\"\n",
        "os.mkdir(new_directory)\n",
        "print(f\"Directory '{new_directory}' created!\")"
      ],
      "metadata": {
        "colab": {
          "base_uri": "https://localhost:8080/"
        },
        "id": "Y_9-q2COAyY6",
        "outputId": "70dd394f-a985-4b03-a985-79affb36aee3"
      },
      "execution_count": 2,
      "outputs": [
        {
          "output_type": "stream",
          "name": "stdout",
          "text": [
            "Directory 'package' created!\n"
          ]
        }
      ]
    },
    {
      "cell_type": "markdown",
      "source": [
        "## Listing Files And Directories"
      ],
      "metadata": {
        "id": "gXUB7naJB2t5"
      }
    },
    {
      "cell_type": "code",
      "source": [
        "\n",
        "items=os.listdir('.')\n",
        "print(items)"
      ],
      "metadata": {
        "colab": {
          "base_uri": "https://localhost:8080/"
        },
        "id": "h3Obr9bkBHfP",
        "outputId": "6c76c30c-b15d-4649-da6d-2419eed2a918"
      },
      "execution_count": 3,
      "outputs": [
        {
          "output_type": "stream",
          "name": "stdout",
          "text": [
            "['.config', 'package', 'sample_data']\n"
          ]
        }
      ]
    },
    {
      "cell_type": "markdown",
      "source": [
        "## Joining Paths"
      ],
      "metadata": {
        "id": "_OgtLS8GB5Gq"
      }
    },
    {
      "cell_type": "code",
      "source": [
        "\n",
        "\n",
        "dir_name=\"folder\"\n",
        "file_name=\"file.txt\"\n",
        "full_path=os.path.join(dir_name,file_name)\n",
        "print(full_path)"
      ],
      "metadata": {
        "colab": {
          "base_uri": "https://localhost:8080/"
        },
        "id": "2zvh11XmBLOX",
        "outputId": "0bc256e5-b0b8-4e32-aff2-ba9beb30ac86"
      },
      "execution_count": 4,
      "outputs": [
        {
          "output_type": "stream",
          "name": "stdout",
          "text": [
            "folder/file.txt\n"
          ]
        }
      ]
    },
    {
      "cell_type": "code",
      "source": [
        "dir_name=\"folder\"\n",
        "file_name=\"file.txt\"\n",
        "full_path=os.path.join(os.getcwd(),dir_name,file_name)\n",
        "print(full_path)"
      ],
      "metadata": {
        "colab": {
          "base_uri": "https://localhost:8080/"
        },
        "id": "-C9oZJw5BSrL",
        "outputId": "be78fa25-4e58-4627-bdcc-31cda40f8570"
      },
      "execution_count": 5,
      "outputs": [
        {
          "output_type": "stream",
          "name": "stdout",
          "text": [
            "/content/folder/file.txt\n"
          ]
        }
      ]
    },
    {
      "cell_type": "code",
      "source": [
        "path='example1.txt'\n",
        "if os.path.exists(path):\n",
        "    print(f\"The path '{path}' exists\")\n",
        "else:\n",
        "    print(f\"The path '{path}' does not exists\")"
      ],
      "metadata": {
        "colab": {
          "base_uri": "https://localhost:8080/"
        },
        "id": "gGpEEchnBYA4",
        "outputId": "ba8f35e9-03f4-492b-aeb9-fa9926859518"
      },
      "execution_count": 6,
      "outputs": [
        {
          "output_type": "stream",
          "name": "stdout",
          "text": [
            "The path 'example1.txt' does not exists\n"
          ]
        }
      ]
    },
    {
      "cell_type": "markdown",
      "source": [
        "\n",
        "# Checking if a Path is a File or Directory"
      ],
      "metadata": {
        "id": "IbwDHF0vBl2q"
      }
    },
    {
      "cell_type": "code",
      "source": [
        "import os\n",
        "\n",
        "path = 'example.txt'\n",
        "if os.path.isfile(path):\n",
        "    print(f\"The path '{path}' is a file.\")\n",
        "elif os.path.isdir(path):\n",
        "    print(f\"The path '{path}' is a directory.\")\n",
        "else:\n",
        "    print(f\"The path '{path}' is neither a file nor a directory.\")"
      ],
      "metadata": {
        "colab": {
          "base_uri": "https://localhost:8080/"
        },
        "id": "A63xlqyMBdow",
        "outputId": "13cde4a7-9048-4d13-cb0f-e539a34b6484"
      },
      "execution_count": 7,
      "outputs": [
        {
          "output_type": "stream",
          "name": "stdout",
          "text": [
            "The path 'example.txt' is neither a file nor a directory.\n"
          ]
        }
      ]
    },
    {
      "cell_type": "markdown",
      "source": [
        "## Getting the absolute path"
      ],
      "metadata": {
        "id": "sbu85Oc1B8O0"
      }
    },
    {
      "cell_type": "code",
      "source": [
        "\n",
        "relative_path='example.txt'\n",
        "absolute_path=os.path.abspath(relative_path)\n",
        "print(absolute_path)"
      ],
      "metadata": {
        "colab": {
          "base_uri": "https://localhost:8080/"
        },
        "id": "kqWWtpfvBr4Z",
        "outputId": "d9aa3cfa-0c5b-40ce-b07b-201b60fd55ae"
      },
      "execution_count": 8,
      "outputs": [
        {
          "output_type": "stream",
          "name": "stdout",
          "text": [
            "/content/example.txt\n"
          ]
        }
      ]
    },
    {
      "cell_type": "code",
      "source": [],
      "metadata": {
        "id": "rj1BWZF3CIlg"
      },
      "execution_count": null,
      "outputs": []
    }
  ]
}