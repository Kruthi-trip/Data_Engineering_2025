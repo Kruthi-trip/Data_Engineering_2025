{
  "nbformat": 4,
  "nbformat_minor": 0,
  "metadata": {
    "colab": {
      "provenance": [],
      "authorship_tag": "ABX9TyMSx/FZuTw81ISeEnDrjVxD",
      "include_colab_link": true
    },
    "kernelspec": {
      "name": "python3",
      "display_name": "Python 3"
    },
    "language_info": {
      "name": "python"
    }
  },
  "cells": [
    {
      "cell_type": "markdown",
      "metadata": {
        "id": "view-in-github",
        "colab_type": "text"
      },
      "source": [
        "<a href=\"https://colab.research.google.com/github/Kruthi-trip/Data_Engineering_2025/blob/main/5_1_Python_Modules.ipynb\" target=\"_parent\"><img src=\"https://colab.research.google.com/assets/colab-badge.svg\" alt=\"Open In Colab\"/></a>"
      ]
    },
    {
      "cell_type": "markdown",
      "source": [
        "# Importing Modules in Python: Modules and Packages\n",
        "In Python, modules and packages help organize and reuse code."
      ],
      "metadata": {
        "id": "DeIzn8VL_eh1"
      }
    },
    {
      "cell_type": "code",
      "execution_count": 18,
      "metadata": {
        "id": "OR7bEGK7_Hzh"
      },
      "outputs": [],
      "source": [
        "import math"
      ]
    },
    {
      "cell_type": "code",
      "source": [
        "math.sqrt(25)"
      ],
      "metadata": {
        "colab": {
          "base_uri": "https://localhost:8080/"
        },
        "id": "TQVoCezp_kgr",
        "outputId": "c1d8f452-4f6d-490d-fa7c-2b8779121b70"
      },
      "execution_count": 19,
      "outputs": [
        {
          "output_type": "execute_result",
          "data": {
            "text/plain": [
              "5.0"
            ]
          },
          "metadata": {},
          "execution_count": 19
        }
      ]
    },
    {
      "cell_type": "code",
      "source": [
        "from math import sqrt, pi\n",
        "\n",
        "print(sqrt(81))"
      ],
      "metadata": {
        "colab": {
          "base_uri": "https://localhost:8080/"
        },
        "id": "Vfja1XO9_oxB",
        "outputId": "1199cd9c-2638-4c7f-e10a-a05a971ca4b1"
      },
      "execution_count": 20,
      "outputs": [
        {
          "output_type": "stream",
          "name": "stdout",
          "text": [
            "9.0\n"
          ]
        }
      ]
    },
    {
      "cell_type": "code",
      "source": [
        "import numpy as np\n",
        "np.array([1,2,3,4])"
      ],
      "metadata": {
        "colab": {
          "base_uri": "https://localhost:8080/"
        },
        "id": "tgzwVNnb_roi",
        "outputId": "105c81eb-c81a-49b4-b53b-3cdf6662ede3"
      },
      "execution_count": 21,
      "outputs": [
        {
          "output_type": "execute_result",
          "data": {
            "text/plain": [
              "array([1, 2, 3, 4])"
            ]
          },
          "metadata": {},
          "execution_count": 21
        }
      ]
    },
    {
      "cell_type": "code",
      "source": [
        "pip install constants"
      ],
      "metadata": {
        "colab": {
          "base_uri": "https://localhost:8080/"
        },
        "id": "37AfdPSD_umP",
        "outputId": "fbb7966b-1ce2-4fe8-bcf9-810f781c3edb"
      },
      "execution_count": 22,
      "outputs": [
        {
          "output_type": "stream",
          "name": "stdout",
          "text": [
            "Requirement already satisfied: constants in /usr/local/lib/python3.11/dist-packages (0.6.0)\n"
          ]
        }
      ]
    },
    {
      "cell_type": "code",
      "source": [
        "import constants"
      ],
      "metadata": {
        "id": "0J1UNdPTDBzW"
      },
      "execution_count": 23,
      "outputs": []
    },
    {
      "cell_type": "markdown",
      "source": [
        "# Standard Library Overview\n",
        "Python's Standard Library is a vast collection of modules and packages that come bundled with Python, providing a wide range of functionalities out of the box. Here's an overview of some of the most commonly used modules and packages in the Python Standard Library."
      ],
      "metadata": {
        "id": "acvNDu3xEFQM"
      }
    },
    {
      "cell_type": "code",
      "source": [
        "import array\n",
        "arr=array.array('i',[1,2,3,4])\n",
        "print(arr)\n",
        "type(arr)"
      ],
      "metadata": {
        "colab": {
          "base_uri": "https://localhost:8080/"
        },
        "id": "Bipv4mCbDT35",
        "outputId": "5294d767-2f8d-42fc-bbd4-2989e01692b5"
      },
      "execution_count": 24,
      "outputs": [
        {
          "output_type": "stream",
          "name": "stdout",
          "text": [
            "array('i', [1, 2, 3, 4])\n"
          ]
        },
        {
          "output_type": "execute_result",
          "data": {
            "text/plain": [
              "array.array"
            ]
          },
          "metadata": {},
          "execution_count": 24
        }
      ]
    },
    {
      "cell_type": "code",
      "source": [
        "import math\n",
        "print(math.sqrt(16))\n",
        "print(math.pi)"
      ],
      "metadata": {
        "colab": {
          "base_uri": "https://localhost:8080/"
        },
        "id": "U2_AISZHE4F3",
        "outputId": "dc5a5d7f-33c9-4016-d1ec-663ac30bd790"
      },
      "execution_count": 25,
      "outputs": [
        {
          "output_type": "stream",
          "name": "stdout",
          "text": [
            "4.0\n",
            "3.141592653589793\n"
          ]
        }
      ]
    },
    {
      "cell_type": "markdown",
      "source": [
        "## random\n",
        "\n",
        "- 'randint' basically tells to select a random integer\n",
        "- 'choice' randomly selects one item from the"
      ],
      "metadata": {
        "id": "Pq4v9ZedFW_7"
      }
    },
    {
      "cell_type": "code",
      "source": [
        "\n",
        "\n",
        "import random\n",
        "print(random.randint(1,10))\n",
        "print(random.choice(['apple','banana','cherry']))"
      ],
      "metadata": {
        "colab": {
          "base_uri": "https://localhost:8080/"
        },
        "id": "TYkndbEFE9Cj",
        "outputId": "588222d1-8ff6-4a7d-c815-4ba42e4c321b"
      },
      "execution_count": 26,
      "outputs": [
        {
          "output_type": "stream",
          "name": "stdout",
          "text": [
            "1\n",
            "cherry\n"
          ]
        }
      ]
    },
    {
      "cell_type": "code",
      "source": [
        "import os\n",
        "print(os.getcwd())"
      ],
      "metadata": {
        "colab": {
          "base_uri": "https://localhost:8080/"
        },
        "id": "K8wYAdaZFBwL",
        "outputId": "cac3f02d-e8d6-473b-9671-0ac75105a64a"
      },
      "execution_count": 27,
      "outputs": [
        {
          "output_type": "stream",
          "name": "stdout",
          "text": [
            "/content\n"
          ]
        }
      ]
    },
    {
      "cell_type": "markdown",
      "source": [
        "this creates a new directory in the current working directory"
      ],
      "metadata": {
        "id": "aQG6W3f4KuDC"
      }
    },
    {
      "cell_type": "code",
      "source": [
        "os.mkdir('test_dir')"
      ],
      "metadata": {
        "id": "3U6samxEKeYR"
      },
      "execution_count": 28,
      "outputs": []
    },
    {
      "cell_type": "code",
      "source": [
        "# prompt: what is the code to get the list of directories\n",
        "\n",
        "os.listdir('.')"
      ],
      "metadata": {
        "colab": {
          "base_uri": "https://localhost:8080/"
        },
        "id": "Edltjc_JLPSH",
        "outputId": "7a816c98-f43f-4af6-d8fb-bed417c6d55e"
      },
      "execution_count": 30,
      "outputs": [
        {
          "output_type": "execute_result",
          "data": {
            "text/plain": [
              "['.config', 'test_dir', 'sample_data']"
            ]
          },
          "metadata": {},
          "execution_count": 30
        }
      ]
    },
    {
      "cell_type": "code",
      "source": [
        "import json\n",
        "data={'name':'Kruthi','age':27}"
      ],
      "metadata": {
        "id": "-mNmF-pHLoni"
      },
      "execution_count": 32,
      "outputs": []
    },
    {
      "cell_type": "code",
      "source": [
        "type(data)"
      ],
      "metadata": {
        "colab": {
          "base_uri": "https://localhost:8080/"
        },
        "id": "Ax7zgeWuLzrH",
        "outputId": "8cdb69d6-58ab-46ed-fe0e-68ecf66b1f6f"
      },
      "execution_count": 33,
      "outputs": [
        {
          "output_type": "execute_result",
          "data": {
            "text/plain": [
              "dict"
            ]
          },
          "metadata": {},
          "execution_count": 33
        }
      ]
    },
    {
      "cell_type": "code",
      "source": [
        "json_str=json.dumps(data)\n",
        "type(json_str)"
      ],
      "metadata": {
        "colab": {
          "base_uri": "https://localhost:8080/"
        },
        "id": "H_BPS1QFL36E",
        "outputId": "c851027c-0b25-4366-9bf5-af7b853c5845"
      },
      "execution_count": 34,
      "outputs": [
        {
          "output_type": "execute_result",
          "data": {
            "text/plain": [
              "str"
            ]
          },
          "metadata": {},
          "execution_count": 34
        }
      ]
    },
    {
      "cell_type": "code",
      "source": [
        "json_str"
      ],
      "metadata": {
        "colab": {
          "base_uri": "https://localhost:8080/",
          "height": 35
        },
        "id": "6BHqrSxEL56F",
        "outputId": "e5a969de-0b3f-4eaf-b9c0-d13ce6b30252"
      },
      "execution_count": 35,
      "outputs": [
        {
          "output_type": "execute_result",
          "data": {
            "text/plain": [
              "'{\"name\": \"Kruthi\", \"age\": 27}'"
            ],
            "application/vnd.google.colaboratory.intrinsic+json": {
              "type": "string"
            }
          },
          "metadata": {},
          "execution_count": 35
        }
      ]
    },
    {
      "cell_type": "code",
      "source": [
        "parsed_data=json.loads(json_str)\n",
        "print(parsed_data)\n",
        "print(type(parsed_data))"
      ],
      "metadata": {
        "colab": {
          "base_uri": "https://localhost:8080/"
        },
        "id": "gyR7EMc6MRq2",
        "outputId": "f998d8cc-a828-4920-9c29-5252c2e85e4b"
      },
      "execution_count": 36,
      "outputs": [
        {
          "output_type": "stream",
          "name": "stdout",
          "text": [
            "{'name': 'Kruthi', 'age': 27}\n",
            "<class 'dict'>\n"
          ]
        }
      ]
    },
    {
      "cell_type": "code",
      "source": [
        "import csv\n",
        "\n",
        "with open('example.csv', 'w') as file:\n",
        "    writer = csv.writer(file)\n",
        "    writer.writerow(['name', 'age'])\n",
        "    writer.writerow(['Kruthi', '27'])"
      ],
      "metadata": {
        "id": "GN4PqOTkMc69"
      },
      "execution_count": 37,
      "outputs": []
    },
    {
      "cell_type": "code",
      "source": [
        "import csv\n",
        "import inspect\n",
        "\n",
        "inspect.getfile(csv)"
      ],
      "metadata": {
        "colab": {
          "base_uri": "https://localhost:8080/",
          "height": 35
        },
        "id": "4qaa7aqFM1DP",
        "outputId": "51d0e6df-a7e1-41ce-be69-e10972be007a"
      },
      "execution_count": 38,
      "outputs": [
        {
          "output_type": "execute_result",
          "data": {
            "text/plain": [
              "'/usr/lib/python3.11/csv.py'"
            ],
            "application/vnd.google.colaboratory.intrinsic+json": {
              "type": "string"
            }
          },
          "metadata": {},
          "execution_count": 38
        }
      ]
    },
    {
      "cell_type": "code",
      "source": [
        "csv.__file__"
      ],
      "metadata": {
        "colab": {
          "base_uri": "https://localhost:8080/",
          "height": 35
        },
        "id": "GhVvMjb4M4MX",
        "outputId": "1fd50f2a-b1ec-4bc4-d16f-de09b80399ef"
      },
      "execution_count": 39,
      "outputs": [
        {
          "output_type": "execute_result",
          "data": {
            "text/plain": [
              "'/usr/lib/python3.11/csv.py'"
            ],
            "application/vnd.google.colaboratory.intrinsic+json": {
              "type": "string"
            }
          },
          "metadata": {},
          "execution_count": 39
        }
      ]
    },
    {
      "cell_type": "code",
      "source": [
        "# Global Namespace\n",
        "global_var = 10\n",
        "\n",
        "def outer_function():\n",
        "    # Enclosing Namespace\n",
        "    outer_var = 20\n",
        "\n",
        "    def inner_function():\n",
        "        # Local Namespace\n",
        "        inner_var = 30\n",
        "        print(\"Inner function namespace:\", locals())\n",
        "\n",
        "    inner_function()\n",
        "    print(\"Outer function namespace:\", locals())\n",
        "\n",
        "outer_function()\n",
        "print(\"Global namespace:\", globals())\n"
      ],
      "metadata": {
        "colab": {
          "base_uri": "https://localhost:8080/"
        },
        "id": "GZGkfX8ENRet",
        "outputId": "11e8c392-5aa8-406a-ad98-be20b9631a3f"
      },
      "execution_count": 40,
      "outputs": [
        {
          "output_type": "stream",
          "name": "stdout",
          "text": [
            "Inner function namespace: {'inner_var': 30}\n",
            "Outer function namespace: {'outer_var': 20, 'inner_function': <function outer_function.<locals>.inner_function at 0x7d4ea40eab60>}\n",
            "Global namespace: {'__name__': '__main__', '__doc__': 'Automatically created module for IPython interactive environment', '__package__': None, '__loader__': None, '__spec__': None, '__builtin__': <module 'builtins' (built-in)>, '__builtins__': <module 'builtins' (built-in)>, '_ih': ['', 'import math', 'math.sqrt(25)', 'from math import sqrt, pi\\n\\nprint(sqrt(81))', 'import numpy as np\\nnp.array([1,2,3,4])', \"get_ipython().run_line_magic('pip', 'install constants')\", 'print(constants.HOST)', 'import constants', 'print(constants.HOST)', '# Inspect the contents of the constants module\\nimport constants\\nprint(dir(constants))', 'print(constants.FILENAME)', 'print(constants.HOST)', 'print(constants.DATABASE_NAME)', 'constants.DATABASE_NAME', 'from connect2db import connect_to_db', \"get_ipython().run_line_magic('pip', 'install constants')\", 'import constants', 'print(constants.HOST)', 'import math', 'math.sqrt(25)', 'from math import sqrt, pi\\n\\nprint(sqrt(81))', 'import numpy as np\\nnp.array([1,2,3,4])', \"get_ipython().run_line_magic('pip', 'install constants')\", 'import constants', \"import array\\narr=array.array('i',[1,2,3,4])\\nprint(arr)\\ntype(arr)\", 'import math\\nprint(math.sqrt(16))\\nprint(math.pi)', \"import random\\nprint(random.randint(1,10))\\nprint(random.choice(['apple','banana','cherry']))\", 'import os\\nprint(os.getcwd())', \"os.mkdir('test_dir')\", \"os.remove('test_dir')\", \"# prompt: what is the code to get the list of directories\\n\\nos.listdir('.')\", \"## High level operations on files and collection of files\\nimport shutil\\nshutil.copyfile('file1.txt','file2.txt')\", \"import json\\ndata={'name':'Kruthi','age':27}\", 'type(data)', 'json_str=json.dumps(data)\\ntype(json_str)', 'json_str', 'parsed_data=json.loads(json_str)\\nprint(parsed_data)\\nprint(type(parsed_data))', \"import csv\\n\\nwith open('example.csv', 'w') as file:\\n    writer = csv.writer(file)\\n    writer.writerow(['name', 'age'])\\n    writer.writerow(['Kruthi', '27'])\", 'import csv\\nimport inspect\\n\\ninspect.getfile(csv)', 'csv.__file__', '# Global Namespace\\nglobal_var = 10\\n\\ndef outer_function():\\n    # Enclosing Namespace\\n    outer_var = 20\\n\\n    def inner_function():\\n        # Local Namespace\\n        inner_var = 30\\n        print(\"Inner function namespace:\", locals())\\n\\n    inner_function()\\n    print(\"Outer function namespace:\", locals())\\n\\nouter_function()\\nprint(\"Global namespace:\", globals())'], '_oh': {2: 5.0, 4: array([1, 2, 3, 4]), 19: 5.0, 21: array([1, 2, 3, 4]), 24: <class 'array.array'>, 30: ['.config', 'test_dir', 'sample_data'], 33: <class 'dict'>, 34: <class 'str'>, 35: '{\"name\": \"Kruthi\", \"age\": 27}', 38: '/usr/lib/python3.11/csv.py', 39: '/usr/lib/python3.11/csv.py'}, '_dh': ['/content'], 'In': ['', 'import math', 'math.sqrt(25)', 'from math import sqrt, pi\\n\\nprint(sqrt(81))', 'import numpy as np\\nnp.array([1,2,3,4])', \"get_ipython().run_line_magic('pip', 'install constants')\", 'print(constants.HOST)', 'import constants', 'print(constants.HOST)', '# Inspect the contents of the constants module\\nimport constants\\nprint(dir(constants))', 'print(constants.FILENAME)', 'print(constants.HOST)', 'print(constants.DATABASE_NAME)', 'constants.DATABASE_NAME', 'from connect2db import connect_to_db', \"get_ipython().run_line_magic('pip', 'install constants')\", 'import constants', 'print(constants.HOST)', 'import math', 'math.sqrt(25)', 'from math import sqrt, pi\\n\\nprint(sqrt(81))', 'import numpy as np\\nnp.array([1,2,3,4])', \"get_ipython().run_line_magic('pip', 'install constants')\", 'import constants', \"import array\\narr=array.array('i',[1,2,3,4])\\nprint(arr)\\ntype(arr)\", 'import math\\nprint(math.sqrt(16))\\nprint(math.pi)', \"import random\\nprint(random.randint(1,10))\\nprint(random.choice(['apple','banana','cherry']))\", 'import os\\nprint(os.getcwd())', \"os.mkdir('test_dir')\", \"os.remove('test_dir')\", \"# prompt: what is the code to get the list of directories\\n\\nos.listdir('.')\", \"## High level operations on files and collection of files\\nimport shutil\\nshutil.copyfile('file1.txt','file2.txt')\", \"import json\\ndata={'name':'Kruthi','age':27}\", 'type(data)', 'json_str=json.dumps(data)\\ntype(json_str)', 'json_str', 'parsed_data=json.loads(json_str)\\nprint(parsed_data)\\nprint(type(parsed_data))', \"import csv\\n\\nwith open('example.csv', 'w') as file:\\n    writer = csv.writer(file)\\n    writer.writerow(['name', 'age'])\\n    writer.writerow(['Kruthi', '27'])\", 'import csv\\nimport inspect\\n\\ninspect.getfile(csv)', 'csv.__file__', '# Global Namespace\\nglobal_var = 10\\n\\ndef outer_function():\\n    # Enclosing Namespace\\n    outer_var = 20\\n\\n    def inner_function():\\n        # Local Namespace\\n        inner_var = 30\\n        print(\"Inner function namespace:\", locals())\\n\\n    inner_function()\\n    print(\"Outer function namespace:\", locals())\\n\\nouter_function()\\nprint(\"Global namespace:\", globals())'], 'Out': {2: 5.0, 4: array([1, 2, 3, 4]), 19: 5.0, 21: array([1, 2, 3, 4]), 24: <class 'array.array'>, 30: ['.config', 'test_dir', 'sample_data'], 33: <class 'dict'>, 34: <class 'str'>, 35: '{\"name\": \"Kruthi\", \"age\": 27}', 38: '/usr/lib/python3.11/csv.py', 39: '/usr/lib/python3.11/csv.py'}, 'get_ipython': <bound method InteractiveShell.get_ipython of <google.colab._shell.Shell object at 0x7d4eadbeb490>>, 'exit': <IPython.core.autocall.ZMQExitAutocall object at 0x7d4eaca0e4d0>, 'quit': <IPython.core.autocall.ZMQExitAutocall object at 0x7d4eaca0e4d0>, '_': '/usr/lib/python3.11/csv.py', '__': '/usr/lib/python3.11/csv.py', '___': '{\"name\": \"Kruthi\", \"age\": 27}', '_i': 'csv.__file__', '_ii': 'import csv\\nimport inspect\\n\\ninspect.getfile(csv)', '_iii': \"import csv\\n\\nwith open('example.csv', 'w') as file:\\n    writer = csv.writer(file)\\n    writer.writerow(['name', 'age'])\\n    writer.writerow(['Kruthi', '27'])\", '_i1': 'import math', 'math': <module 'math' (built-in)>, '_i2': 'math.sqrt(25)', '_2': 5.0, '_i3': 'from math import sqrt, pi\\n\\nprint(sqrt(81))', 'sqrt': <built-in function sqrt>, 'pi': 3.141592653589793, '_i4': 'import numpy as np\\nnp.array([1,2,3,4])', 'np': <module 'numpy' from '/usr/local/lib/python3.11/dist-packages/numpy/__init__.py'>, '_4': array([1, 2, 3, 4]), '_i5': 'pip install constants', '_exit_code': 0, '_i6': 'print(constants.HOST)', '_i7': 'import constants', 'constants': <module 'constants' from '/usr/local/lib/python3.11/dist-packages/constants.py'>, '_i8': 'print(constants.HOST)', '_i9': '# Inspect the contents of the constants module\\nimport constants\\nprint(dir(constants))', '_i10': 'print(constants.FILENAME)', '_i11': 'print(constants.HOST)', '_i12': 'print(constants.DATABASE_NAME)', '_i13': 'constants.DATABASE_NAME', '_i14': 'from connect2db import connect_to_db', '_i15': 'pip install constants', '_i16': 'import constants', '_i17': 'print(constants.HOST)', '_i18': 'import math', '_i19': 'math.sqrt(25)', '_19': 5.0, '_i20': 'from math import sqrt, pi\\n\\nprint(sqrt(81))', '_i21': 'import numpy as np\\nnp.array([1,2,3,4])', '_21': array([1, 2, 3, 4]), '_i22': 'pip install constants', '_i23': 'import constants', '_i24': \"import array\\narr=array.array('i',[1,2,3,4])\\nprint(arr)\\ntype(arr)\", 'array': <module 'array' (built-in)>, 'arr': array('i', [1, 2, 3, 4]), '_24': <class 'array.array'>, '_i25': 'import math\\nprint(math.sqrt(16))\\nprint(math.pi)', '_i26': \"\\n\\nimport random\\nprint(random.randint(1,10))\\nprint(random.choice(['apple','banana','cherry']))\", 'random': <module 'random' from '/usr/lib/python3.11/random.py'>, '_i27': 'import os\\nprint(os.getcwd())', 'os': <module 'os' (frozen)>, '_i28': \"os.mkdir('test_dir')\", '_i29': \"os.remove('test_dir')\", '_i30': \"# prompt: what is the code to get the list of directories\\n\\nos.listdir('.')\", '_30': ['.config', 'test_dir', 'sample_data'], '_i31': \"\\n## High level operations on files and collection of files\\nimport shutil\\nshutil.copyfile('file1.txt','file2.txt')\", 'shutil': <module 'shutil' from '/usr/lib/python3.11/shutil.py'>, '_i32': \"import json\\ndata={'name':'Kruthi','age':27}\", 'json': <module 'json' from '/usr/lib/python3.11/json/__init__.py'>, 'data': {'name': 'Kruthi', 'age': 27}, '_i33': 'type(data)', '_33': <class 'dict'>, '_i34': 'json_str=json.dumps(data)\\ntype(json_str)', 'json_str': '{\"name\": \"Kruthi\", \"age\": 27}', '_34': <class 'str'>, '_i35': 'json_str', '_35': '{\"name\": \"Kruthi\", \"age\": 27}', '_i36': 'parsed_data=json.loads(json_str)\\nprint(parsed_data)\\nprint(type(parsed_data))', 'parsed_data': {'name': 'Kruthi', 'age': 27}, '_i37': \"import csv\\n\\nwith open('example.csv', 'w') as file:\\n    writer = csv.writer(file)\\n    writer.writerow(['name', 'age'])\\n    writer.writerow(['Kruthi', '27'])\", 'csv': <module 'csv' from '/usr/lib/python3.11/csv.py'>, 'file': <_io.TextIOWrapper name='example.csv' mode='w' encoding='utf-8'>, 'writer': <_csv.writer object at 0x7d4ea4fb9420>, '_i38': 'import csv\\nimport inspect\\n\\ninspect.getfile(csv)', 'inspect': <module 'inspect' from '/usr/lib/python3.11/inspect.py'>, '_38': '/usr/lib/python3.11/csv.py', '_i39': 'csv.__file__', '_39': '/usr/lib/python3.11/csv.py', '_i40': '# Global Namespace\\nglobal_var = 10\\n\\ndef outer_function():\\n    # Enclosing Namespace\\n    outer_var = 20\\n\\n    def inner_function():\\n        # Local Namespace\\n        inner_var = 30\\n        print(\"Inner function namespace:\", locals())\\n\\n    inner_function()\\n    print(\"Outer function namespace:\", locals())\\n\\nouter_function()\\nprint(\"Global namespace:\", globals())', 'global_var': 10, 'outer_function': <function outer_function at 0x7d4ea40ebf60>}\n"
          ]
        }
      ]
    }
  ]
}