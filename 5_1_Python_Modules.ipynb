{
  "nbformat": 4,
  "nbformat_minor": 0,
  "metadata": {
    "colab": {
      "provenance": [],
      "authorship_tag": "ABX9TyOatlXjrv7gTI1p8P9ehdfH",
      "include_colab_link": true
    },
    "kernelspec": {
      "name": "python3",
      "display_name": "Python 3"
    },
    "language_info": {
      "name": "python"
    }
  },
  "cells": [
    {
      "cell_type": "markdown",
      "metadata": {
        "id": "view-in-github",
        "colab_type": "text"
      },
      "source": [
        "<a href=\"https://colab.research.google.com/github/Kruthi-trip/Data_Engineering_2025/blob/main/5_1_Python_Modules.ipynb\" target=\"_parent\"><img src=\"https://colab.research.google.com/assets/colab-badge.svg\" alt=\"Open In Colab\"/></a>"
      ]
    },
    {
      "cell_type": "markdown",
      "source": [
        "# Importing Modules in Python: Modules and Packages\n",
        "In Python, modules and packages help organize and reuse code."
      ],
      "metadata": {
        "id": "DeIzn8VL_eh1"
      }
    },
    {
      "cell_type": "code",
      "execution_count": 1,
      "metadata": {
        "id": "OR7bEGK7_Hzh"
      },
      "outputs": [],
      "source": [
        "import math"
      ]
    },
    {
      "cell_type": "code",
      "source": [
        "math.sqrt(25)"
      ],
      "metadata": {
        "colab": {
          "base_uri": "https://localhost:8080/"
        },
        "id": "TQVoCezp_kgr",
        "outputId": "80d2fad6-2303-4a17-ccfc-353f2f0fbe47"
      },
      "execution_count": 2,
      "outputs": [
        {
          "output_type": "execute_result",
          "data": {
            "text/plain": [
              "5.0"
            ]
          },
          "metadata": {},
          "execution_count": 2
        }
      ]
    },
    {
      "cell_type": "code",
      "source": [
        "from math import sqrt, pi\n",
        "\n",
        "print(sqrt(81))"
      ],
      "metadata": {
        "colab": {
          "base_uri": "https://localhost:8080/"
        },
        "id": "Vfja1XO9_oxB",
        "outputId": "8a307512-c59f-4b61-8570-20d39a5ab00c"
      },
      "execution_count": 3,
      "outputs": [
        {
          "output_type": "stream",
          "name": "stdout",
          "text": [
            "9.0\n"
          ]
        }
      ]
    },
    {
      "cell_type": "code",
      "source": [
        "import numpy as np\n",
        "np.array([1,2,3,4])"
      ],
      "metadata": {
        "colab": {
          "base_uri": "https://localhost:8080/"
        },
        "id": "tgzwVNnb_roi",
        "outputId": "18515043-16e7-49ce-d939-92af55d71bdc"
      },
      "execution_count": 4,
      "outputs": [
        {
          "output_type": "execute_result",
          "data": {
            "text/plain": [
              "array([1, 2, 3, 4])"
            ]
          },
          "metadata": {},
          "execution_count": 4
        }
      ]
    },
    {
      "cell_type": "code",
      "source": [
        "import constants"
      ],
      "metadata": {
        "colab": {
          "base_uri": "https://localhost:8080/",
          "height": 315
        },
        "id": "37AfdPSD_umP",
        "outputId": "b6c39d0e-9b90-4876-94df-a56b6311041a"
      },
      "execution_count": 5,
      "outputs": [
        {
          "output_type": "error",
          "ename": "ModuleNotFoundError",
          "evalue": "No module named 'constants'",
          "traceback": [
            "\u001b[0;31m---------------------------------------------------------------------------\u001b[0m",
            "\u001b[0;31mModuleNotFoundError\u001b[0m                       Traceback (most recent call last)",
            "\u001b[0;32m/tmp/ipython-input-5-863007567.py\u001b[0m in \u001b[0;36m<cell line: 0>\u001b[0;34m()\u001b[0m\n\u001b[0;32m----> 1\u001b[0;31m \u001b[0;32mimport\u001b[0m \u001b[0mconstants\u001b[0m\u001b[0;34m\u001b[0m\u001b[0;34m\u001b[0m\u001b[0m\n\u001b[0m",
            "\u001b[0;31mModuleNotFoundError\u001b[0m: No module named 'constants'",
            "",
            "\u001b[0;31m---------------------------------------------------------------------------\u001b[0;32m\nNOTE: If your import is failing due to a missing package, you can\nmanually install dependencies using either !pip or !apt.\n\nTo view examples of installing some common dependencies, click the\n\"Open Examples\" button below.\n\u001b[0;31m---------------------------------------------------------------------------\u001b[0m\n"
          ],
          "errorDetails": {
            "actions": [
              {
                "action": "open_url",
                "actionText": "Open Examples",
                "url": "/notebooks/snippets/importing_libraries.ipynb"
              }
            ]
          }
        }
      ]
    },
    {
      "cell_type": "code",
      "source": [
        "print(constants.HOST)"
      ],
      "metadata": {
        "colab": {
          "base_uri": "https://localhost:8080/",
          "height": 141
        },
        "id": "TgzLRbWCCca2",
        "outputId": "d8020a82-5d97-4a0b-e678-7b7b063df219"
      },
      "execution_count": 6,
      "outputs": [
        {
          "output_type": "error",
          "ename": "NameError",
          "evalue": "name 'constants' is not defined",
          "traceback": [
            "\u001b[0;31m---------------------------------------------------------------------------\u001b[0m",
            "\u001b[0;31mNameError\u001b[0m                                 Traceback (most recent call last)",
            "\u001b[0;32m/tmp/ipython-input-6-2738343135.py\u001b[0m in \u001b[0;36m<cell line: 0>\u001b[0;34m()\u001b[0m\n\u001b[0;32m----> 1\u001b[0;31m \u001b[0mprint\u001b[0m\u001b[0;34m(\u001b[0m\u001b[0mconstants\u001b[0m\u001b[0;34m.\u001b[0m\u001b[0mHOST\u001b[0m\u001b[0;34m)\u001b[0m\u001b[0;34m\u001b[0m\u001b[0;34m\u001b[0m\u001b[0m\n\u001b[0m",
            "\u001b[0;31mNameError\u001b[0m: name 'constants' is not defined"
          ]
        }
      ]
    },
    {
      "cell_type": "markdown",
      "source": [
        "# Standard Library Overview\n",
        "Python's Standard Library is a vast collection of modules and packages that come bundled with Python, providing a wide range of functionalities out of the box. Here's an overview of some of the most commonly used modules and packages in the Python Standard Library."
      ],
      "metadata": {
        "id": "acvNDu3xEFQM"
      }
    },
    {
      "cell_type": "code",
      "source": [
        "import array\n",
        "arr=array.array('i',[1,2,3,4])\n",
        "print(arr)\n",
        "type(arr)"
      ],
      "metadata": {
        "colab": {
          "base_uri": "https://localhost:8080/"
        },
        "id": "Bipv4mCbDT35",
        "outputId": "56e73093-9689-419d-d662-bcff32364316"
      },
      "execution_count": 7,
      "outputs": [
        {
          "output_type": "stream",
          "name": "stdout",
          "text": [
            "array('i', [1, 2, 3, 4])\n"
          ]
        },
        {
          "output_type": "execute_result",
          "data": {
            "text/plain": [
              "array.array"
            ]
          },
          "metadata": {},
          "execution_count": 7
        }
      ]
    },
    {
      "cell_type": "code",
      "source": [
        "import math\n",
        "print(math.sqrt(16))\n",
        "print(math.pi)"
      ],
      "metadata": {
        "colab": {
          "base_uri": "https://localhost:8080/"
        },
        "id": "U2_AISZHE4F3",
        "outputId": "b15611e9-85ba-4e40-86b9-8d4ae12103a6"
      },
      "execution_count": 8,
      "outputs": [
        {
          "output_type": "stream",
          "name": "stdout",
          "text": [
            "4.0\n",
            "3.141592653589793\n"
          ]
        }
      ]
    },
    {
      "cell_type": "markdown",
      "source": [
        "## random\n",
        "\n",
        "- 'randint' basically tells to select a random integer\n",
        "- 'choice' randomly selects one item from the"
      ],
      "metadata": {
        "id": "Pq4v9ZedFW_7"
      }
    },
    {
      "cell_type": "code",
      "source": [
        "\n",
        "\n",
        "import random\n",
        "print(random.randint(1,10))\n",
        "print(random.choice(['apple','banana','cherry']))"
      ],
      "metadata": {
        "colab": {
          "base_uri": "https://localhost:8080/"
        },
        "id": "TYkndbEFE9Cj",
        "outputId": "262fad41-e81e-4b3d-a250-0dc0af46cdb6"
      },
      "execution_count": 9,
      "outputs": [
        {
          "output_type": "stream",
          "name": "stdout",
          "text": [
            "3\n",
            "banana\n"
          ]
        }
      ]
    },
    {
      "cell_type": "code",
      "source": [
        "import os\n",
        "print(os.getcwd())"
      ],
      "metadata": {
        "colab": {
          "base_uri": "https://localhost:8080/"
        },
        "id": "K8wYAdaZFBwL",
        "outputId": "bd2ec3a9-3dfa-4290-fee9-67ba3d51181a"
      },
      "execution_count": 10,
      "outputs": [
        {
          "output_type": "stream",
          "name": "stdout",
          "text": [
            "/content\n"
          ]
        }
      ]
    },
    {
      "cell_type": "markdown",
      "source": [
        "this creates a new directory in the current working directory"
      ],
      "metadata": {
        "id": "aQG6W3f4KuDC"
      }
    },
    {
      "cell_type": "code",
      "source": [
        "os.mkdir('test_dir')"
      ],
      "metadata": {
        "colab": {
          "base_uri": "https://localhost:8080/",
          "height": 141
        },
        "id": "3U6samxEKeYR",
        "outputId": "62fd7cbb-3a60-42f2-fae3-f62906639c5d"
      },
      "execution_count": 13,
      "outputs": [
        {
          "output_type": "error",
          "ename": "FileExistsError",
          "evalue": "[Errno 17] File exists: 'test_dir'",
          "traceback": [
            "\u001b[0;31m---------------------------------------------------------------------------\u001b[0m",
            "\u001b[0;31mFileExistsError\u001b[0m                           Traceback (most recent call last)",
            "\u001b[0;32m/tmp/ipython-input-13-1687566643.py\u001b[0m in \u001b[0;36m<cell line: 0>\u001b[0;34m()\u001b[0m\n\u001b[0;32m----> 1\u001b[0;31m \u001b[0mos\u001b[0m\u001b[0;34m.\u001b[0m\u001b[0mmkdir\u001b[0m\u001b[0;34m(\u001b[0m\u001b[0;34m'test_dir'\u001b[0m\u001b[0;34m)\u001b[0m\u001b[0;34m\u001b[0m\u001b[0;34m\u001b[0m\u001b[0m\n\u001b[0m",
            "\u001b[0;31mFileExistsError\u001b[0m: [Errno 17] File exists: 'test_dir'"
          ]
        }
      ]
    },
    {
      "cell_type": "code",
      "source": [
        "os.remove('test_dir')"
      ],
      "metadata": {
        "colab": {
          "base_uri": "https://localhost:8080/",
          "height": 141
        },
        "id": "yzfRy0bMKjvg",
        "outputId": "96f06f66-a35f-43b8-c569-ceab38846ee4"
      },
      "execution_count": 14,
      "outputs": [
        {
          "output_type": "error",
          "ename": "IsADirectoryError",
          "evalue": "[Errno 21] Is a directory: 'test_dir'",
          "traceback": [
            "\u001b[0;31m---------------------------------------------------------------------------\u001b[0m",
            "\u001b[0;31mIsADirectoryError\u001b[0m                         Traceback (most recent call last)",
            "\u001b[0;32m/tmp/ipython-input-14-1509790939.py\u001b[0m in \u001b[0;36m<cell line: 0>\u001b[0;34m()\u001b[0m\n\u001b[0;32m----> 1\u001b[0;31m \u001b[0mos\u001b[0m\u001b[0;34m.\u001b[0m\u001b[0mremove\u001b[0m\u001b[0;34m(\u001b[0m\u001b[0;34m'test_dir'\u001b[0m\u001b[0;34m)\u001b[0m\u001b[0;34m\u001b[0m\u001b[0;34m\u001b[0m\u001b[0m\n\u001b[0m",
            "\u001b[0;31mIsADirectoryError\u001b[0m: [Errno 21] Is a directory: 'test_dir'"
          ]
        }
      ]
    },
    {
      "cell_type": "code",
      "source": [
        "# prompt: what is the code to get the list of directories\n",
        "\n",
        "os.listdir('.')"
      ],
      "metadata": {
        "colab": {
          "base_uri": "https://localhost:8080/"
        },
        "id": "Edltjc_JLPSH",
        "outputId": "a45199f4-2175-47d1-a658-ad3d24e4ad1f"
      },
      "execution_count": 15,
      "outputs": [
        {
          "output_type": "execute_result",
          "data": {
            "text/plain": [
              "['.config', 'test_dir', 'sample_data']"
            ]
          },
          "metadata": {},
          "execution_count": 15
        }
      ]
    },
    {
      "cell_type": "code",
      "source": [
        "\n",
        "## High level operations on files and collection of files\n",
        "import shutil\n",
        "shutil.copyfile('file1.txt','file2.txt')\n"
      ],
      "metadata": {
        "colab": {
          "base_uri": "https://localhost:8080/",
          "height": 297
        },
        "id": "1WbZr6E6LlDB",
        "outputId": "382b52a0-bae3-4498-ea50-672d617a2ff2"
      },
      "execution_count": 16,
      "outputs": [
        {
          "output_type": "error",
          "ename": "FileNotFoundError",
          "evalue": "[Errno 2] No such file or directory: 'file1.txt'",
          "traceback": [
            "\u001b[0;31m---------------------------------------------------------------------------\u001b[0m",
            "\u001b[0;31mFileNotFoundError\u001b[0m                         Traceback (most recent call last)",
            "\u001b[0;32m/tmp/ipython-input-16-2876870346.py\u001b[0m in \u001b[0;36m<cell line: 0>\u001b[0;34m()\u001b[0m\n\u001b[1;32m      1\u001b[0m \u001b[0;31m## High level operations on files and collection of files\u001b[0m\u001b[0;34m\u001b[0m\u001b[0;34m\u001b[0m\u001b[0m\n\u001b[1;32m      2\u001b[0m \u001b[0;32mimport\u001b[0m \u001b[0mshutil\u001b[0m\u001b[0;34m\u001b[0m\u001b[0;34m\u001b[0m\u001b[0m\n\u001b[0;32m----> 3\u001b[0;31m \u001b[0mshutil\u001b[0m\u001b[0;34m.\u001b[0m\u001b[0mcopyfile\u001b[0m\u001b[0;34m(\u001b[0m\u001b[0;34m'file1.txt'\u001b[0m\u001b[0;34m,\u001b[0m\u001b[0;34m'file2.txt'\u001b[0m\u001b[0;34m)\u001b[0m\u001b[0;34m\u001b[0m\u001b[0;34m\u001b[0m\u001b[0m\n\u001b[0m",
            "\u001b[0;32m/usr/lib/python3.11/shutil.py\u001b[0m in \u001b[0;36mcopyfile\u001b[0;34m(src, dst, follow_symlinks)\u001b[0m\n\u001b[1;32m    254\u001b[0m         \u001b[0mos\u001b[0m\u001b[0;34m.\u001b[0m\u001b[0msymlink\u001b[0m\u001b[0;34m(\u001b[0m\u001b[0mos\u001b[0m\u001b[0;34m.\u001b[0m\u001b[0mreadlink\u001b[0m\u001b[0;34m(\u001b[0m\u001b[0msrc\u001b[0m\u001b[0;34m)\u001b[0m\u001b[0;34m,\u001b[0m \u001b[0mdst\u001b[0m\u001b[0;34m)\u001b[0m\u001b[0;34m\u001b[0m\u001b[0;34m\u001b[0m\u001b[0m\n\u001b[1;32m    255\u001b[0m     \u001b[0;32melse\u001b[0m\u001b[0;34m:\u001b[0m\u001b[0;34m\u001b[0m\u001b[0;34m\u001b[0m\u001b[0m\n\u001b[0;32m--> 256\u001b[0;31m         \u001b[0;32mwith\u001b[0m \u001b[0mopen\u001b[0m\u001b[0;34m(\u001b[0m\u001b[0msrc\u001b[0m\u001b[0;34m,\u001b[0m \u001b[0;34m'rb'\u001b[0m\u001b[0;34m)\u001b[0m \u001b[0;32mas\u001b[0m \u001b[0mfsrc\u001b[0m\u001b[0;34m:\u001b[0m\u001b[0;34m\u001b[0m\u001b[0;34m\u001b[0m\u001b[0m\n\u001b[0m\u001b[1;32m    257\u001b[0m             \u001b[0;32mtry\u001b[0m\u001b[0;34m:\u001b[0m\u001b[0;34m\u001b[0m\u001b[0;34m\u001b[0m\u001b[0m\n\u001b[1;32m    258\u001b[0m                 \u001b[0;32mwith\u001b[0m \u001b[0mopen\u001b[0m\u001b[0;34m(\u001b[0m\u001b[0mdst\u001b[0m\u001b[0;34m,\u001b[0m \u001b[0;34m'wb'\u001b[0m\u001b[0;34m)\u001b[0m \u001b[0;32mas\u001b[0m \u001b[0mfdst\u001b[0m\u001b[0;34m:\u001b[0m\u001b[0;34m\u001b[0m\u001b[0;34m\u001b[0m\u001b[0m\n",
            "\u001b[0;31mFileNotFoundError\u001b[0m: [Errno 2] No such file or directory: 'file1.txt'"
          ]
        }
      ]
    },
    {
      "cell_type": "code",
      "source": [
        "import json\n",
        "data={'name':'Kruthi','age':27}"
      ],
      "metadata": {
        "id": "-mNmF-pHLoni"
      },
      "execution_count": 18,
      "outputs": []
    },
    {
      "cell_type": "code",
      "source": [
        "type(data)"
      ],
      "metadata": {
        "colab": {
          "base_uri": "https://localhost:8080/"
        },
        "id": "Ax7zgeWuLzrH",
        "outputId": "335ca508-7110-4560-94fc-cca15f596c33"
      },
      "execution_count": 19,
      "outputs": [
        {
          "output_type": "execute_result",
          "data": {
            "text/plain": [
              "dict"
            ]
          },
          "metadata": {},
          "execution_count": 19
        }
      ]
    },
    {
      "cell_type": "code",
      "source": [
        "json_str=json.dumps(data)\n",
        "type(json_str)"
      ],
      "metadata": {
        "colab": {
          "base_uri": "https://localhost:8080/"
        },
        "id": "H_BPS1QFL36E",
        "outputId": "67e1587a-abbd-4717-e5ea-c12cd4067e9a"
      },
      "execution_count": 20,
      "outputs": [
        {
          "output_type": "execute_result",
          "data": {
            "text/plain": [
              "str"
            ]
          },
          "metadata": {},
          "execution_count": 20
        }
      ]
    },
    {
      "cell_type": "code",
      "source": [
        "json_str"
      ],
      "metadata": {
        "colab": {
          "base_uri": "https://localhost:8080/",
          "height": 35
        },
        "id": "6BHqrSxEL56F",
        "outputId": "2ccfa6bb-9a9b-44f8-ef3a-e01fe0b1222f"
      },
      "execution_count": 21,
      "outputs": [
        {
          "output_type": "execute_result",
          "data": {
            "text/plain": [
              "'{\"name\": \"Kruthi\", \"age\": 27}'"
            ],
            "application/vnd.google.colaboratory.intrinsic+json": {
              "type": "string"
            }
          },
          "metadata": {},
          "execution_count": 21
        }
      ]
    },
    {
      "cell_type": "code",
      "source": [
        "parsed_data=json.loads(json_str)\n",
        "print(parsed_data)\n",
        "print(type(parsed_data))"
      ],
      "metadata": {
        "colab": {
          "base_uri": "https://localhost:8080/"
        },
        "id": "gyR7EMc6MRq2",
        "outputId": "5c965e20-5e2c-447c-84cc-f2a5181bd2f9"
      },
      "execution_count": 22,
      "outputs": [
        {
          "output_type": "stream",
          "name": "stdout",
          "text": [
            "{'name': 'Kruthi', 'age': 27}\n",
            "<class 'dict'>\n"
          ]
        }
      ]
    },
    {
      "cell_type": "code",
      "source": [
        "import csv\n",
        "\n",
        "with open('example.csv', 'w') as file:\n",
        "    writer = csv.writer(file)\n",
        "    writer.writerow(['name', 'age'])\n",
        "    writer.writerow(['Kruthi', '27'])"
      ],
      "metadata": {
        "id": "GN4PqOTkMc69"
      },
      "execution_count": 23,
      "outputs": []
    },
    {
      "cell_type": "code",
      "source": [
        "import csv\n",
        "import inspect\n",
        "\n",
        "inspect.getfile(csv)"
      ],
      "metadata": {
        "colab": {
          "base_uri": "https://localhost:8080/",
          "height": 35
        },
        "id": "4qaa7aqFM1DP",
        "outputId": "f337035d-1bc0-41d7-db01-96e7e59b1bec"
      },
      "execution_count": 24,
      "outputs": [
        {
          "output_type": "execute_result",
          "data": {
            "text/plain": [
              "'/usr/lib/python3.11/csv.py'"
            ],
            "application/vnd.google.colaboratory.intrinsic+json": {
              "type": "string"
            }
          },
          "metadata": {},
          "execution_count": 24
        }
      ]
    },
    {
      "cell_type": "code",
      "source": [
        "csv.__file__"
      ],
      "metadata": {
        "colab": {
          "base_uri": "https://localhost:8080/",
          "height": 35
        },
        "id": "GhVvMjb4M4MX",
        "outputId": "e87c8317-cebb-48f6-819b-82780f0df388"
      },
      "execution_count": 25,
      "outputs": [
        {
          "output_type": "execute_result",
          "data": {
            "text/plain": [
              "'/usr/lib/python3.11/csv.py'"
            ],
            "application/vnd.google.colaboratory.intrinsic+json": {
              "type": "string"
            }
          },
          "metadata": {},
          "execution_count": 25
        }
      ]
    },
    {
      "cell_type": "code",
      "source": [
        "# Global Namespace\n",
        "global_var = 10\n",
        "\n",
        "def outer_function():\n",
        "    # Enclosing Namespace\n",
        "    outer_var = 20\n",
        "\n",
        "    def inner_function():\n",
        "        # Local Namespace\n",
        "        inner_var = 30\n",
        "        print(\"Inner function namespace:\", locals())\n",
        "\n",
        "    inner_function()\n",
        "    print(\"Outer function namespace:\", locals())\n",
        "\n",
        "outer_function()\n",
        "print(\"Global namespace:\", globals())\n"
      ],
      "metadata": {
        "colab": {
          "base_uri": "https://localhost:8080/"
        },
        "id": "GZGkfX8ENRet",
        "outputId": "ab47c1ad-a57a-4f0e-db1d-6307755be822"
      },
      "execution_count": 26,
      "outputs": [
        {
          "output_type": "stream",
          "name": "stdout",
          "text": [
            "Inner function namespace: {'inner_var': 30}\n",
            "Outer function namespace: {'outer_var': 20, 'inner_function': <function outer_function.<locals>.inner_function at 0x7d569d2c3920>}\n",
            "Global namespace: {'__name__': '__main__', '__doc__': 'Automatically created module for IPython interactive environment', '__package__': None, '__loader__': None, '__spec__': None, '__builtin__': <module 'builtins' (built-in)>, '__builtins__': <module 'builtins' (built-in)>, '_ih': ['', 'import math', 'math.sqrt(25)', 'from math import sqrt, pi\\n\\nprint(sqrt(81))', 'import numpy as np\\nnp.array([1,2,3,4])', 'import constants', 'print(constants.HOST)', \"import array\\narr=array.array('i',[1,2,3,4])\\nprint(arr)\\ntype(arr)\", 'import math\\nprint(math.sqrt(16))\\nprint(math.pi)', \"## random \\n\\nimport random\\nprint(random.randint(1,10))\\nprint(random.choice(['apple','banana','cherry']))\", 'import os\\nprint(os.getcwd())', \"os.mkdir('test_dir')\", \"os.mkdir('test_dir')\", \"os.mkdir('test_dir')\", \"os.remove('test_dir')\", \"# prompt: what is the code to get the list of directories\\n\\nos.listdir('.')\", \"## High level operations on files and collection of files\\nimport shutil\\nshutil.copyfile('file1.txt','file2.txt')\", \"import json\\ndata={'name':'Nikhil','age':24}\", \"import json\\ndata={'name':'Kruthi','age':27}\", 'type(data)', 'json_str=json.dumps(data)\\ntype(json_str)', 'json_str', 'parsed_data=json.loads(json_str)\\nprint(parsed_data)\\nprint(type(parsed_data))', \"import csv\\n\\nwith open('example.csv', 'w') as file:\\n    writer = csv.writer(file)\\n    writer.writerow(['name', 'age'])\\n    writer.writerow(['Kruthi', '27'])\", 'import csv\\nimport inspect\\n\\ninspect.getfile(csv)', 'csv.__file__', '# Global Namespace\\nglobal_var = 10\\n\\ndef outer_function():\\n    # Enclosing Namespace\\n    outer_var = 20\\n    \\n    def inner_function():\\n        # Local Namespace\\n        inner_var = 30\\n        print(\"Inner function namespace:\", locals())\\n    \\n    inner_function()\\n    print(\"Outer function namespace:\", locals())\\n\\nouter_function()\\nprint(\"Global namespace:\", globals())'], '_oh': {2: 5.0, 4: array([1, 2, 3, 4]), 7: <class 'array.array'>, 15: ['.config', 'test_dir', 'sample_data'], 19: <class 'dict'>, 20: <class 'str'>, 21: '{\"name\": \"Kruthi\", \"age\": 27}', 24: '/usr/lib/python3.11/csv.py', 25: '/usr/lib/python3.11/csv.py'}, '_dh': ['/content'], 'In': ['', 'import math', 'math.sqrt(25)', 'from math import sqrt, pi\\n\\nprint(sqrt(81))', 'import numpy as np\\nnp.array([1,2,3,4])', 'import constants', 'print(constants.HOST)', \"import array\\narr=array.array('i',[1,2,3,4])\\nprint(arr)\\ntype(arr)\", 'import math\\nprint(math.sqrt(16))\\nprint(math.pi)', \"## random \\n\\nimport random\\nprint(random.randint(1,10))\\nprint(random.choice(['apple','banana','cherry']))\", 'import os\\nprint(os.getcwd())', \"os.mkdir('test_dir')\", \"os.mkdir('test_dir')\", \"os.mkdir('test_dir')\", \"os.remove('test_dir')\", \"# prompt: what is the code to get the list of directories\\n\\nos.listdir('.')\", \"## High level operations on files and collection of files\\nimport shutil\\nshutil.copyfile('file1.txt','file2.txt')\", \"import json\\ndata={'name':'Nikhil','age':24}\", \"import json\\ndata={'name':'Kruthi','age':27}\", 'type(data)', 'json_str=json.dumps(data)\\ntype(json_str)', 'json_str', 'parsed_data=json.loads(json_str)\\nprint(parsed_data)\\nprint(type(parsed_data))', \"import csv\\n\\nwith open('example.csv', 'w') as file:\\n    writer = csv.writer(file)\\n    writer.writerow(['name', 'age'])\\n    writer.writerow(['Kruthi', '27'])\", 'import csv\\nimport inspect\\n\\ninspect.getfile(csv)', 'csv.__file__', '# Global Namespace\\nglobal_var = 10\\n\\ndef outer_function():\\n    # Enclosing Namespace\\n    outer_var = 20\\n    \\n    def inner_function():\\n        # Local Namespace\\n        inner_var = 30\\n        print(\"Inner function namespace:\", locals())\\n    \\n    inner_function()\\n    print(\"Outer function namespace:\", locals())\\n\\nouter_function()\\nprint(\"Global namespace:\", globals())'], 'Out': {2: 5.0, 4: array([1, 2, 3, 4]), 7: <class 'array.array'>, 15: ['.config', 'test_dir', 'sample_data'], 19: <class 'dict'>, 20: <class 'str'>, 21: '{\"name\": \"Kruthi\", \"age\": 27}', 24: '/usr/lib/python3.11/csv.py', 25: '/usr/lib/python3.11/csv.py'}, 'get_ipython': <bound method InteractiveShell.get_ipython of <google.colab._shell.Shell object at 0x7d56ae81e990>>, 'exit': <IPython.core.autocall.ZMQExitAutocall object at 0x7d56ae826010>, 'quit': <IPython.core.autocall.ZMQExitAutocall object at 0x7d56ae826010>, '_': '/usr/lib/python3.11/csv.py', '__': '/usr/lib/python3.11/csv.py', '___': '{\"name\": \"Kruthi\", \"age\": 27}', '_i': 'csv.__file__', '_ii': 'import csv\\nimport inspect\\n\\ninspect.getfile(csv)', '_iii': \"import csv\\n\\nwith open('example.csv', 'w') as file:\\n    writer = csv.writer(file)\\n    writer.writerow(['name', 'age'])\\n    writer.writerow(['Kruthi', '27'])\", '_i1': 'import math', 'math': <module 'math' (built-in)>, '_i2': 'math.sqrt(25)', '_2': 5.0, '_i3': 'from math import sqrt, pi\\n\\nprint(sqrt(81))', 'sqrt': <built-in function sqrt>, 'pi': 3.141592653589793, '_i4': 'import numpy as np\\nnp.array([1,2,3,4])', 'np': <module 'numpy' from '/usr/local/lib/python3.11/dist-packages/numpy/__init__.py'>, '_4': array([1, 2, 3, 4]), '_i5': 'import constants', '_i6': 'print(constants.HOST)', '_i7': \"import array\\narr=array.array('i',[1,2,3,4])\\nprint(arr)\\ntype(arr)\", 'array': <module 'array' (built-in)>, 'arr': array('i', [1, 2, 3, 4]), '_7': <class 'array.array'>, '_i8': 'import math\\nprint(math.sqrt(16))\\nprint(math.pi)', '_i9': \"## random \\n\\nimport random\\nprint(random.randint(1,10))\\nprint(random.choice(['apple','banana','cherry']))\", 'random': <module 'random' from '/usr/lib/python3.11/random.py'>, '_i10': 'import os\\nprint(os.getcwd())', 'os': <module 'os' (frozen)>, '_i11': \"os.mkdir('test_dir')\", '_i12': \"os.mkdir('test_dir')\", '_i13': \"os.mkdir('test_dir')\", '_i14': \"os.remove('test_dir')\", '_i15': \"# prompt: what is the code to get the list of directories\\n\\nos.listdir('.')\", '_15': ['.config', 'test_dir', 'sample_data'], '_i16': \"\\n## High level operations on files and collection of files\\nimport shutil\\nshutil.copyfile('file1.txt','file2.txt')\", 'shutil': <module 'shutil' from '/usr/lib/python3.11/shutil.py'>, '_i17': \"import json\\ndata={'name':'Nikhil','age':24}\", 'json': <module 'json' from '/usr/lib/python3.11/json/__init__.py'>, 'data': {'name': 'Kruthi', 'age': 27}, '_i18': \"import json\\ndata={'name':'Kruthi','age':27}\", '_i19': 'type(data)', '_19': <class 'dict'>, '_i20': 'json_str=json.dumps(data)\\ntype(json_str)', 'json_str': '{\"name\": \"Kruthi\", \"age\": 27}', '_20': <class 'str'>, '_i21': 'json_str', '_21': '{\"name\": \"Kruthi\", \"age\": 27}', '_i22': 'parsed_data=json.loads(json_str)\\nprint(parsed_data)\\nprint(type(parsed_data))', 'parsed_data': {'name': 'Kruthi', 'age': 27}, '_i23': \"import csv\\n\\nwith open('example.csv', 'w') as file:\\n    writer = csv.writer(file)\\n    writer.writerow(['name', 'age'])\\n    writer.writerow(['Kruthi', '27'])\", 'csv': <module 'csv' from '/usr/lib/python3.11/csv.py'>, 'file': <_io.TextIOWrapper name='example.csv' mode='w' encoding='utf-8'>, 'writer': <_csv.writer object at 0x7d569d2eef80>, '_i24': 'import csv\\nimport inspect\\n\\ninspect.getfile(csv)', 'inspect': <module 'inspect' from '/usr/lib/python3.11/inspect.py'>, '_24': '/usr/lib/python3.11/csv.py', '_i25': 'csv.__file__', '_25': '/usr/lib/python3.11/csv.py', '_i26': '# Global Namespace\\nglobal_var = 10\\n\\ndef outer_function():\\n    # Enclosing Namespace\\n    outer_var = 20\\n    \\n    def inner_function():\\n        # Local Namespace\\n        inner_var = 30\\n        print(\"Inner function namespace:\", locals())\\n    \\n    inner_function()\\n    print(\"Outer function namespace:\", locals())\\n\\nouter_function()\\nprint(\"Global namespace:\", globals())', 'global_var': 10, 'outer_function': <function outer_function at 0x7d569d2c3ce0>}\n"
          ]
        }
      ]
    },
    {
      "cell_type": "code",
      "source": [],
      "metadata": {
        "id": "eN5RpROBOAla"
      },
      "execution_count": null,
      "outputs": []
    }
  ]
}