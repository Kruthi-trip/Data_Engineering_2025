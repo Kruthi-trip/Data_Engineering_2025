{
  "nbformat": 4,
  "nbformat_minor": 0,
  "metadata": {
    "colab": {
      "provenance": [],
      "authorship_tag": "ABX9TyP1QwBCGeksAO146aLT6z6j",
      "include_colab_link": true
    },
    "kernelspec": {
      "name": "python3",
      "display_name": "Python 3"
    },
    "language_info": {
      "name": "python"
    }
  },
  "cells": [
    {
      "cell_type": "markdown",
      "metadata": {
        "id": "view-in-github",
        "colab_type": "text"
      },
      "source": [
        "<a href=\"https://colab.research.google.com/github/Kruthi-trip/Data_Engineering_2025/blob/main/Day_2_Python.ipynb\" target=\"_parent\"><img src=\"https://colab.research.google.com/assets/colab-badge.svg\" alt=\"Open In Colab\"/></a>"
      ]
    },
    {
      "cell_type": "markdown",
      "source": [
        "## Python String Formatting\n",
        "\n",
        "String formatting in Python is a powerful way to create clean and readable output, especially when working with numbers, dates, and other data types. Python provides several methods for string formatting we will explore f-string (formatted string literals)"
      ],
      "metadata": {
        "id": "xhCLWPv_7djW"
      }
    },
    {
      "cell_type": "code",
      "source": [
        "# example1\n",
        "num1 = 10\n",
        "num2 = 20\n",
        "\n",
        "print(\"The first number is\", num1, \"and the second number is\", num2)\n",
        "\n"
      ],
      "metadata": {
        "colab": {
          "base_uri": "https://localhost:8080/"
        },
        "id": "HVNAfuoN8Ujh",
        "outputId": "70f7359c-9702-44af-d6a3-f535e849cfa7"
      },
      "execution_count": null,
      "outputs": [
        {
          "output_type": "stream",
          "name": "stdout",
          "text": [
            "The first number is 10 and the second number is 20\n"
          ]
        }
      ]
    },
    {
      "cell_type": "code",
      "execution_count": null,
      "metadata": {
        "colab": {
          "base_uri": "https://localhost:8080/"
        },
        "id": "QVgWMHcI9Map",
        "outputId": "1897478c-a85e-419c-ec4f-4540451db517"
      },
      "outputs": [
        {
          "output_type": "stream",
          "name": "stdout",
          "text": [
            "The first number is 10 and the second number is 20\n"
          ]
        }
      ],
      "source": [
        "#example2\n",
        "print(f\"The first number is {num1} and the second number is {num2}\")"
      ]
    },
    {
      "cell_type": "code",
      "source": [
        "name = input(\"Enter your name: \")\n",
        "age = input(\"Enter your age: \")\n",
        "print(f\"Hello, my name is {name} and I am {age}\")"
      ],
      "metadata": {
        "colab": {
          "base_uri": "https://localhost:8080/"
        },
        "id": "_uPIJ6Hw9Zs1",
        "outputId": "7e605b47-277d-4176-e52e-6e7b1e572086"
      },
      "execution_count": null,
      "outputs": [
        {
          "output_type": "stream",
          "name": "stdout",
          "text": [
            "Enter your name: Kruthi\n",
            "Enter your age: 27\n",
            "Hello, my name is Kruthi and I am 27\n"
          ]
        }
      ]
    },
    {
      "cell_type": "markdown",
      "source": [
        "## 2. Number formatting in f-strings\n",
        "\n",
        "When dealing with numbers, f-strings allow precise contro over how they are formatted. You can specify the number of decimal places, padding, alignment, and more. This is controlled by the format specifiers.\n",
        "\n",
        "### 2.1 Integer Formatting\n",
        "Use the d format specifier to format integers.\n",
        "\n",
        "- This basically does not print the decimals in the output"
      ],
      "metadata": {
        "id": "ErH3ue9yAJsb"
      }
    },
    {
      "cell_type": "code",
      "source": [
        "number = 1234\n",
        "print(f\"Integer: {number:d}\")"
      ],
      "metadata": {
        "colab": {
          "base_uri": "https://localhost:8080/"
        },
        "id": "haRGM7KTAoGi",
        "outputId": "ee89a45e-ee90-443f-a79c-831baac4e822"
      },
      "execution_count": null,
      "outputs": [
        {
          "output_type": "stream",
          "name": "stdout",
          "text": [
            "Integer: 1234\n"
          ]
        }
      ]
    },
    {
      "cell_type": "markdown",
      "source": [
        "### 2.2 Floating-point Formatting\n",
        "\n",
        "Use the f format specifier for floating-point numbers. You can control the number of decimal places."
      ],
      "metadata": {
        "id": "y1AgHcXbBfAn"
      }
    },
    {
      "cell_type": "code",
      "source": [
        "pi = 3.141592653589793\n",
        "print(f\"Pi rounded to 2 decimal places is : {pi:.2f}\")\n",
        "\n",
        "# ':.2f' rounds the number to 2 decimal places"
      ],
      "metadata": {
        "colab": {
          "base_uri": "https://localhost:8080/"
        },
        "id": "-lYlpbbuBuXK",
        "outputId": "b9d25005-89b2-41c7-d80a-2f595bb14682"
      },
      "execution_count": null,
      "outputs": [
        {
          "output_type": "stream",
          "name": "stdout",
          "text": [
            "Pi rounded to 2 decimal places is : 3.14\n"
          ]
        }
      ]
    },
    {
      "cell_type": "markdown",
      "source": [
        "### 2.3 Scientific Notation\n",
        "\n",
        "Use the e format specifier for scientific notation."
      ],
      "metadata": {
        "id": "MA013sYLCMUi"
      }
    },
    {
      "cell_type": "code",
      "source": [
        "large_number = 1234567\n",
        "print(f\"Scientific Notation: {large_number:.2e}\")"
      ],
      "metadata": {
        "colab": {
          "base_uri": "https://localhost:8080/"
        },
        "id": "qf-Tgq0_CgXr",
        "outputId": "ba2ec7cb-3901-438b-9480-8eaa7354e2d3"
      },
      "execution_count": null,
      "outputs": [
        {
          "output_type": "stream",
          "name": "stdout",
          "text": [
            "Scientific Notation: 1.23e+06\n"
          ]
        }
      ]
    },
    {
      "cell_type": "markdown",
      "source": [
        "### 2.4 General Format\n",
        "The g specifier is a general format specifier that uses either fixed-point or scientific notation, depending on the size of the number and the precesion.\n"
      ],
      "metadata": {
        "id": "4c5VTMD0DNsD"
      }
    },
    {
      "cell_type": "code",
      "source": [
        "value = 1234567.89\n",
        "print(f\"General Format: {value:.2g}\")"
      ],
      "metadata": {
        "colab": {
          "base_uri": "https://localhost:8080/"
        },
        "id": "NmfUUgdwDk95",
        "outputId": "14b87cb7-5b4a-4283-e936-a40d82b7b3a6"
      },
      "execution_count": null,
      "outputs": [
        {
          "output_type": "stream",
          "name": "stdout",
          "text": [
            "General Format: 1.2e+06\n"
          ]
        }
      ]
    },
    {
      "cell_type": "markdown",
      "source": [
        "## 3. Controlling the width and Alignment\n",
        "\n",
        "You can specify the width of the formatted output and control alignment (left, right, or center). This is useful when you need to align data in tables or output that requires specific formatting.\n",
        "\n",
        "### 3.1 Setting Width\n",
        "The width specifies the minimum number of characters that the formatted output should occupy. If the number is smaller than the specified width, spaces will be added."
      ],
      "metadata": {
        "id": "zlahKMfOD85c"
      }
    },
    {
      "cell_type": "code",
      "source": [
        "number = 42\n",
        "print(f\"Width of 10: {number:10d}\")"
      ],
      "metadata": {
        "colab": {
          "base_uri": "https://localhost:8080/"
        },
        "id": "PCCwaJK4FL_X",
        "outputId": "268ca485-2680-40f9-a2a5-3b0ed8729aca"
      },
      "execution_count": null,
      "outputs": [
        {
          "output_type": "stream",
          "name": "stdout",
          "text": [
            "Width of 10:         42\n"
          ]
        }
      ]
    },
    {
      "cell_type": "markdown",
      "source": [
        "### 3.2 Alignment\n",
        "\n",
        "You can align the formatted value within the available width using the following options:\n",
        "- ' <: ' Left aligns the value\n",
        "- ' >: ' Right aligns the value\n",
        "- ' ^: ' Centers the value"
      ],
      "metadata": {
        "id": "WieJeNo3Fb6N"
      }
    },
    {
      "cell_type": "code",
      "source": [
        "number = 42\n",
        "print(f\"Left Alignment: {number:<10d}\")\n",
        "print(f\"Right Alignment: {number:>10d}\")\n",
        "print(f\"Center Alignment: {number:^10d}\")"
      ],
      "metadata": {
        "colab": {
          "base_uri": "https://localhost:8080/"
        },
        "id": "u1gIfRmgFz1z",
        "outputId": "0d158c7e-de30-4410-8c8f-f1da6c4f2472"
      },
      "execution_count": null,
      "outputs": [
        {
          "output_type": "stream",
          "name": "stdout",
          "text": [
            "Left Alignment: 42        \n",
            "Right Alignment:         42\n",
            "Center Alignment:     42    \n"
          ]
        }
      ]
    },
    {
      "cell_type": "markdown",
      "source": [
        " ### 3.3 Padding with Zeroes\n",
        " You can pad numbers with leaading zeroes using the 0 specifier"
      ],
      "metadata": {
        "id": "hzhCDpaeGA1L"
      }
    },
    {
      "cell_type": "code",
      "source": [
        "number = 42\n",
        "print(f\"Zero-padded: {number:05d}\")"
      ],
      "metadata": {
        "colab": {
          "base_uri": "https://localhost:8080/"
        },
        "id": "NBBmQtEbGvV6",
        "outputId": "b539e9b6-908d-412c-bdf4-e0919bba681c"
      },
      "execution_count": null,
      "outputs": [
        {
          "output_type": "stream",
          "name": "stdout",
          "text": [
            "Zero-padded: 00042\n"
          ]
        }
      ]
    },
    {
      "cell_type": "markdown",
      "source": [
        "## 4. Sign Formatting\n",
        "You can control how the sign (positive or negative) is displayed with the following options:\n",
        "- ' +: ' Always displays the sign (positive or negative)\n",
        "- ' -: ' Displays the sign only for negative numbers (default)\n",
        "- ' : ' displays a space for positive numbers (optional)"
      ],
      "metadata": {
        "id": "6OnTIjFnHuB_"
      }
    },
    {
      "cell_type": "code",
      "source": [
        "positive_number = 42\n",
        "negative_number = -42\n",
        "\n",
        "print(f\"Positive with sign: {positive_number:+d}\")\n",
        "print(f\"Negative with sign: {negative_number:-d}\")\n",
        "print(f\"Positive with space: {positive_number: d}\")"
      ],
      "metadata": {
        "colab": {
          "base_uri": "https://localhost:8080/"
        },
        "id": "N1M4RChmHkcx",
        "outputId": "e2fb5485-229a-4e86-8e40-c0f416c226da"
      },
      "execution_count": null,
      "outputs": [
        {
          "output_type": "stream",
          "name": "stdout",
          "text": [
            "Positive with sign: +42\n",
            "Negative with sign: -42\n",
            "Positive with space:  42\n"
          ]
        }
      ]
    },
    {
      "cell_type": "markdown",
      "source": [
        "## 5. Percentage Formatting\n",
        "To format a number as a percentage, use the % format specifier. This multiplies the value by 100 and appends a % symbol"
      ],
      "metadata": {
        "id": "nyLfPvu_JRhr"
      }
    },
    {
      "cell_type": "code",
      "source": [
        "value = 0.125\n",
        "print(f\"Percentage: {value:.2%}\")"
      ],
      "metadata": {
        "colab": {
          "base_uri": "https://localhost:8080/"
        },
        "id": "6usI88ggJobg",
        "outputId": "2bfdc67f-eb3b-4ccd-f3f6-c5d90327af4b"
      },
      "execution_count": null,
      "outputs": [
        {
          "output_type": "stream",
          "name": "stdout",
          "text": [
            "Percentage: 12.50%\n"
          ]
        }
      ]
    },
    {
      "cell_type": "markdown",
      "source": [
        "## 6. Comma as Thousants seperator\n",
        "You can format numbers with commas as thousands seperator using the ' , ' specifier.\n"
      ],
      "metadata": {
        "id": "TkVW2lh0J04K"
      }
    },
    {
      "cell_type": "code",
      "source": [
        "large_number = 1234567890\n",
        "print(f\"With Commas: {large_number:,}\")"
      ],
      "metadata": {
        "colab": {
          "base_uri": "https://localhost:8080/"
        },
        "id": "L3Sh4Xc8KHHi",
        "outputId": "537d9286-5d82-4a04-ed66-ed2fc1400736"
      },
      "execution_count": null,
      "outputs": [
        {
          "output_type": "stream",
          "name": "stdout",
          "text": [
            "With Commas: 1,234,567,890\n"
          ]
        }
      ]
    },
    {
      "cell_type": "markdown",
      "source": [
        "## 8. Date and Time Formatting\n",
        "Python's datetime module allows formatting dates and times. The strftime method is used to format datetime objects into readable strings."
      ],
      "metadata": {
        "id": "uN6CcdfAKV52"
      }
    },
    {
      "cell_type": "code",
      "source": [
        "from datetime import datetime\n",
        "\n",
        "now = datetime.now()\n",
        "print(f\"Current Date and Time: {now:'%Y-%m-%d %H:%M:%S'}\")\n"
      ],
      "metadata": {
        "colab": {
          "base_uri": "https://localhost:8080/"
        },
        "id": "TGag82FaK9cq",
        "outputId": "fa119643-2b96-4e5a-c9be-a92f8607b9fb"
      },
      "execution_count": null,
      "outputs": [
        {
          "output_type": "stream",
          "name": "stdout",
          "text": [
            "Current Date and Time: '2025-06-09 14:52:25'\n"
          ]
        }
      ]
    },
    {
      "cell_type": "markdown",
      "source": [
        "## Common date-time format codes:\n",
        "- %Y : Year with century\n",
        "- %m : Month (2 digits)\n",
        "- %d : Day of the month (2 digits)\n",
        "- %H : Hour (24 - hout clock)\n",
        "- %M : Minute\n",
        "- %S : Second"
      ],
      "metadata": {
        "id": "5uph_qyyLek1"
      }
    },
    {
      "cell_type": "markdown",
      "source": [
        "## 9. strftime for Date and Time Formatting\n",
        "The strftime() method in Python is used to convert a datetime object into a string based on a specific format. It allows you to create custom date and time representations that fit your needs. This is especially useful when working with timestamps, logging, or presenting dates in different formats.\n",
        "\n",
        "To use strftime, you first need to import the datetime module and create a datetime object (or use datetime.now() for the current date and time).\n",
        "\n",
        "## Syntax:\n",
        "\n",
        "datetime_object.strftime(format_string)\n",
        "\n",
        "### Where:\n",
        "- datetime_object: A datetime object (eg. datetime.now() or any datetime object you create).\n",
        "- format_string: A string that contains format codes that specify how the date and time should be displayed.\n"
      ],
      "metadata": {
        "id": "YbPUOfREMH1i"
      }
    },
    {
      "cell_type": "code",
      "source": [
        "from datetime import datetime\n",
        "now = datetime.now()\n",
        "\n",
        "# Format: Day, Month Day, Year\n",
        "print(now.strftime(\"%A, %B %d, %Y\"))\n"
      ],
      "metadata": {
        "colab": {
          "base_uri": "https://localhost:8080/"
        },
        "id": "Ue3BLECPIZXT",
        "outputId": "11e58b5b-e63e-44d6-ff65-84c0f00cd1e0"
      },
      "execution_count": null,
      "outputs": [
        {
          "output_type": "stream",
          "name": "stdout",
          "text": [
            "Thursday, June 12, 2025\n"
          ]
        }
      ]
    },
    {
      "cell_type": "markdown",
      "source": [
        "## Control Flow\n",
        "\n",
        "### Coditional Statements (if, elif, else)\n",
        "\n",
        "Outline:\n",
        "\n",
        "1. Introduction to conditional Statements\n",
        "2. if Statement\n",
        "3. else Statement\n",
        "4. elif Statement\n",
        "5. Nested conditional statements\n",
        "6. Practical Examples\n",
        "7. Common Errors and best Practices"
      ],
      "metadata": {
        "id": "QAdji8aJPTbC"
      }
    },
    {
      "cell_type": "code",
      "source": [
        "## if statement\n",
        "\n",
        "age = 27\n",
        "\n",
        "if age >= 18:\n",
        "  print(\"You are allowed to vote in the elections\")\n",
        "else:\n",
        "  print(\"You are not allowed to vote in the elections\")"
      ],
      "metadata": {
        "colab": {
          "base_uri": "https://localhost:8080/"
        },
        "id": "5IGyflqAJsPV",
        "outputId": "edcb242f-d637-4dd6-9f85-9d1d6027e6e0"
      },
      "execution_count": null,
      "outputs": [
        {
          "output_type": "stream",
          "name": "stdout",
          "text": [
            "You are allowed to vote in the elections\n"
          ]
        }
      ]
    },
    {
      "cell_type": "code",
      "source": [
        "## elif\n",
        "## The elif statement allows you to check multiple conditions. It stands for \"else if\"\n",
        "\n",
        "age = 27\n",
        "\n",
        "if age < 13:\n",
        "  print(\"You are a child\")\n",
        "elif age < 18:\n",
        "  print(\"You are a teenager\")\n",
        "else:\n",
        "  print(\"You are an adult\")"
      ],
      "metadata": {
        "colab": {
          "base_uri": "https://localhost:8080/"
        },
        "id": "Es6w5Np5J7Je",
        "outputId": "96bbca89-5e5e-4236-b9f8-51a62cc834bd"
      },
      "execution_count": null,
      "outputs": [
        {
          "output_type": "stream",
          "name": "stdout",
          "text": [
            "You are an adult\n"
          ]
        }
      ]
    },
    {
      "cell_type": "code",
      "source": [
        "## Nested Conditional Statements:\n",
        "\n",
        "# You can place one or more if, elif, or else statements inside another if, elif, or else\n",
        "\n",
        "## Number even, odd, nagative\n",
        "\n",
        "num = int(input(\"Enter the number:\"))\n",
        "\n",
        "if num >0:\n",
        "  print(\"The number is positive\")\n",
        "  if num%2==0:\n",
        "    print(\"The number is even\")\n",
        "  else:\n",
        "    print(\"The number is odd\")\n",
        "else:\n",
        "  print(\"The number is zero or negative\")"
      ],
      "metadata": {
        "colab": {
          "base_uri": "https://localhost:8080/"
        },
        "id": "yER6IWaYMN5N",
        "outputId": "962d92c8-cf71-444d-b573-47115fc1fbfc"
      },
      "execution_count": null,
      "outputs": [
        {
          "output_type": "stream",
          "name": "stdout",
          "text": [
            "Enter the number:34\n",
            "The number is positive\n",
            "The number is even\n"
          ]
        }
      ]
    },
    {
      "cell_type": "code",
      "source": [
        "## Practical Examples\n",
        "\n",
        "## Determine if a year is a leap year using nested condition statement\n",
        "\n",
        "year = int(input(\"Enter the year:\"))\n",
        "\n",
        "if year%4==0:\n",
        "  if year%100==0:\n",
        "    if year%400==0:\n",
        "      print(\"The year is a leap year\")\n",
        "    else:\n",
        "      print(\"The year is not a leap year\")\n",
        "  else:\n",
        "    print(\"The year is a leap year\")\n",
        "else:\n",
        "  print(\"The year is not a leap year\")"
      ],
      "metadata": {
        "colab": {
          "base_uri": "https://localhost:8080/"
        },
        "id": "PXI98ZOuNf1d",
        "outputId": "19cf611d-ed5d-4e85-ccef-778f069023ca"
      },
      "execution_count": null,
      "outputs": [
        {
          "output_type": "stream",
          "name": "stdout",
          "text": [
            "Enter the year:2027\n",
            "The year is not a leap year\n"
          ]
        }
      ]
    },
    {
      "cell_type": "code",
      "source": [
        "# Employee bonus calculation\n",
        "\n",
        "# Take user input\n",
        "years_of_service = int(input(\"Enter your years of service: \"))\n",
        "performance_rating = float(input(\"Enter performance rating (1.0 to 5.0): \"))\n",
        "\n",
        "# Determine bonus percentage\n",
        "if performance_rating >= 4.5:\n",
        "  if years_of_service > 10:\n",
        "    bonus_percentage = 20\n",
        "  elif years_of_service > 5:\n",
        "    bonus_percentage = 15\n",
        "  else:\n",
        "    bonus_percentage = 10\n",
        "elif performance_rating >= 3.5:\n",
        "  if years_of_service > 10:\n",
        "    bonus_percentage = 15\n",
        "  elif years_of_service > 5:\n",
        "    bonus_percentage = 10\n",
        "  else:\n",
        "    bonus_percentage = 5\n",
        "else:\n",
        "  bonus_percentage = 0\n",
        "\n",
        "# Calculate bonus amount\n",
        "salary = float(input(\"Enter current salary: \"))\n",
        "bonus_amount = salary * bonus_percentage / 100\n",
        "\n",
        "print(\"Bonus amount: ${:.2f}\".format(bonus_amount))\n",
        "\n",
        "# or\n",
        "\n",
        "## print(f\"Bonus amount: ${bonus_amount:.2f}\")"
      ],
      "metadata": {
        "colab": {
          "base_uri": "https://localhost:8080/"
        },
        "id": "b1ZQl1jnO73o",
        "outputId": "16f6cb03-1712-4aff-ed41-c3156d9d07e3"
      },
      "execution_count": null,
      "outputs": [
        {
          "output_type": "stream",
          "name": "stdout",
          "text": [
            "Enter your years of service: 10\n",
            "Enter performance rating (1.0 to 5.0): 4.7\n",
            "Enter current salary: 1000\n",
            "Bonus amount: $150.00\n"
          ]
        }
      ]
    },
    {
      "cell_type": "markdown",
      "source": [
        "# Loops\n",
        "\n",
        "Outline:\n",
        "1. Introduction to Loops\n",
        "2. for loop\n",
        "  - Iterating over a range\n",
        "  - Iterating over a string\n",
        "3. While Loop\n",
        "4. Loop control statements\n",
        "  - Break\n",
        "  - Continue\n",
        "  - Pass\n",
        "5. Nested loops\n",
        "6. Practical examples and common errors"
      ],
      "metadata": {
        "id": "TRCX7SGF4q-W"
      }
    },
    {
      "cell_type": "code",
      "source": [
        "for i in range(5):\n",
        "  print(\"Your Name\")"
      ],
      "metadata": {
        "colab": {
          "base_uri": "https://localhost:8080/"
        },
        "id": "rHQXZJ6w66LL",
        "outputId": "d822f466-7b3b-4ee6-e248-6726e0ea70a8"
      },
      "execution_count": null,
      "outputs": [
        {
          "output_type": "stream",
          "name": "stdout",
          "text": [
            "Your Name\n",
            "Your Name\n",
            "Your Name\n",
            "Your Name\n",
            "Your Name\n"
          ]
        }
      ]
    },
    {
      "cell_type": "code",
      "source": [
        "range(5)"
      ],
      "metadata": {
        "colab": {
          "base_uri": "https://localhost:8080/"
        },
        "id": "qZGsR0C57cSj",
        "outputId": "ea3859c2-a14c-4230-ec5f-29ab48498745"
      },
      "execution_count": null,
      "outputs": [
        {
          "output_type": "execute_result",
          "data": {
            "text/plain": [
              "range(0, 5)"
            ]
          },
          "metadata": {},
          "execution_count": 6
        }
      ]
    },
    {
      "cell_type": "code",
      "source": [
        "list(range(5))"
      ],
      "metadata": {
        "colab": {
          "base_uri": "https://localhost:8080/"
        },
        "id": "MiDBxX3T7e1R",
        "outputId": "30bafa74-320e-403d-bbfe-fe6cd57c6b09"
      },
      "execution_count": null,
      "outputs": [
        {
          "output_type": "execute_result",
          "data": {
            "text/plain": [
              "[0, 1, 2, 3, 4]"
            ]
          },
          "metadata": {},
          "execution_count": 7
        }
      ]
    },
    {
      "cell_type": "code",
      "source": [
        "list(range(0,10,2))"
      ],
      "metadata": {
        "colab": {
          "base_uri": "https://localhost:8080/"
        },
        "id": "Tn8aFnFW7hHb",
        "outputId": "36d21140-02bf-41de-f69a-195aa3597121"
      },
      "execution_count": null,
      "outputs": [
        {
          "output_type": "execute_result",
          "data": {
            "text/plain": [
              "[0, 2, 4, 6, 8]"
            ]
          },
          "metadata": {},
          "execution_count": 8
        }
      ]
    },
    {
      "cell_type": "markdown",
      "source": [
        "## Range\n",
        "In Python, the 'range()' function generates a sequence of numbers, often used in loops for iteration. By default, it creates numbers starting from 0 upto but not including a specified stop value. You can also reverse the sequence with 'reversed()'. If you need to count backwards, then you can use a negative step, like 'range(start, stop, -1)', which counts down from start to stop.\n",
        "\n",
        "\n",
        "A range is a Python object that represents an interval of integers. Usually, the numbers are consecutive, but you can also specify that you want to space them out."
      ],
      "metadata": {
        "id": "nc8K4DNh75GA"
      }
    },
    {
      "cell_type": "code",
      "source": [
        "list(reversed(range(0,10,2)))"
      ],
      "metadata": {
        "colab": {
          "base_uri": "https://localhost:8080/"
        },
        "id": "GOwfNM7g8g7Z",
        "outputId": "23726cb3-c2b7-489c-e17d-a5cad75f04a9"
      },
      "execution_count": null,
      "outputs": [
        {
          "output_type": "execute_result",
          "data": {
            "text/plain": [
              "[8, 6, 4, 2, 0]"
            ]
          },
          "metadata": {},
          "execution_count": 13
        }
      ]
    },
    {
      "cell_type": "code",
      "source": [
        "list(range(10,0,-1))"
      ],
      "metadata": {
        "colab": {
          "base_uri": "https://localhost:8080/"
        },
        "id": "i5cHvM8c8vR0",
        "outputId": "92046f3e-ad38-4ffc-f7d5-a4326e015ddb"
      },
      "execution_count": null,
      "outputs": [
        {
          "output_type": "execute_result",
          "data": {
            "text/plain": [
              "[10, 9, 8, 7, 6, 5, 4, 3, 2, 1]"
            ]
          },
          "metadata": {},
          "execution_count": 15
        }
      ]
    },
    {
      "cell_type": "code",
      "source": [
        "list(reversed(range(0,10)))"
      ],
      "metadata": {
        "colab": {
          "base_uri": "https://localhost:8080/"
        },
        "id": "uQ9-BRi_88EV",
        "outputId": "93762e66-fccf-4a12-d913-4ed8ae9aa0e5"
      },
      "execution_count": null,
      "outputs": [
        {
          "output_type": "execute_result",
          "data": {
            "text/plain": [
              "[9, 8, 7, 6, 5, 4, 3, 2, 1, 0]"
            ]
          },
          "metadata": {},
          "execution_count": 16
        }
      ]
    },
    {
      "cell_type": "code",
      "source": [
        "r = range(3)\n",
        "print(type(r))"
      ],
      "metadata": {
        "colab": {
          "base_uri": "https://localhost:8080/"
        },
        "id": "JqkIOA3q9HeZ",
        "outputId": "840e8681-fded-4ae5-bdad-acd08d0c254e"
      },
      "execution_count": null,
      "outputs": [
        {
          "output_type": "stream",
          "name": "stdout",
          "text": [
            "<class 'range'>\n"
          ]
        }
      ]
    },
    {
      "cell_type": "markdown",
      "source": [
        "In Python, you can create loops using two different constructs:\n",
        "  1. A for loop, or a definite loop, repeats an operation for each element in an existing sequence.\n",
        "  2. A while loop, or an indefinite loop, repeats an operation until condition is fulfilled."
      ],
      "metadata": {
        "id": "zDvE8IbhNzRY"
      }
    },
    {
      "cell_type": "code",
      "source": [
        "fruits = ['apple', 'banana', 'cherry', 'dragonfruit']\n",
        "for i in fruits:\n",
        "  print(i)"
      ],
      "metadata": {
        "id": "m2DesLM59hbd",
        "colab": {
          "base_uri": "https://localhost:8080/"
        },
        "outputId": "08d87709-324d-44b0-8822-b43a4ddcaf8b"
      },
      "execution_count": 21,
      "outputs": [
        {
          "output_type": "stream",
          "name": "stdout",
          "text": [
            "apple\n",
            "banana\n",
            "cherry\n",
            "dragonfruit\n"
          ]
        }
      ]
    },
    {
      "cell_type": "code",
      "source": [
        "fruits = ['apple', 'banana', 'cherry', 'dragonfruit']\n",
        "for fruit in fruits:\n",
        "  print(fruit)"
      ],
      "metadata": {
        "colab": {
          "base_uri": "https://localhost:8080/"
        },
        "id": "OekAuEKAOwVT",
        "outputId": "8b899827-3090-4729-a2e7-aa5dfcb6a8a8"
      },
      "execution_count": 22,
      "outputs": [
        {
          "output_type": "stream",
          "name": "stdout",
          "text": [
            "apple\n",
            "banana\n",
            "cherry\n",
            "dragonfruit\n"
          ]
        }
      ]
    },
    {
      "cell_type": "code",
      "source": [
        "for i in range(10,-1,-1):\n",
        "  print(i)"
      ],
      "metadata": {
        "colab": {
          "base_uri": "https://localhost:8080/"
        },
        "id": "XBNty5isO77I",
        "outputId": "de975843-61e7-4a70-9c21-3bd5b82022e5"
      },
      "execution_count": 23,
      "outputs": [
        {
          "output_type": "stream",
          "name": "stdout",
          "text": [
            "10\n",
            "9\n",
            "8\n",
            "7\n",
            "6\n",
            "5\n",
            "4\n",
            "3\n",
            "2\n",
            "1\n",
            "0\n"
          ]
        }
      ]
    },
    {
      "cell_type": "code",
      "source": [
        "# strings\n",
        "\n",
        "name = \"Kruthi Tripuraneni\"\n",
        "\n",
        "for i in name:\n",
        "  print(i)"
      ],
      "metadata": {
        "colab": {
          "base_uri": "https://localhost:8080/"
        },
        "id": "wpHRSIxJPoXX",
        "outputId": "0a924cd6-a8fe-4ef1-f4a5-041f271cac73"
      },
      "execution_count": 25,
      "outputs": [
        {
          "output_type": "stream",
          "name": "stdout",
          "text": [
            "K\n",
            "r\n",
            "u\n",
            "t\n",
            "h\n",
            "i\n",
            " \n",
            "T\n",
            "r\n",
            "i\n",
            "p\n",
            "u\n",
            "r\n",
            "a\n",
            "n\n",
            "e\n",
            "n\n",
            "i\n"
          ]
        }
      ]
    },
    {
      "cell_type": "code",
      "source": [
        "## While loop\n",
        "\n",
        "## the while loop continues to execute as long as the condition is True.\n",
        "\n",
        "# while condition\n",
        "## st1\n",
        "## st2"
      ],
      "metadata": {
        "id": "RqIobesPPkWa"
      },
      "execution_count": null,
      "outputs": []
    },
    {
      "cell_type": "code",
      "source": [
        "count = 0\n",
        "\n",
        "while count < 5:\n",
        "  print(count)\n",
        "  count = count + 1"
      ],
      "metadata": {
        "colab": {
          "base_uri": "https://localhost:8080/"
        },
        "id": "PTRzGVBlP6D9",
        "outputId": "7c141c36-af70-4c85-f64d-448937360e61"
      },
      "execution_count": 26,
      "outputs": [
        {
          "output_type": "stream",
          "name": "stdout",
          "text": [
            "0\n",
            "1\n",
            "2\n",
            "3\n",
            "4\n"
          ]
        }
      ]
    },
    {
      "cell_type": "markdown",
      "source": [
        "## Break:\n",
        "the break statements skips the loop immediately\n",
        "\n",
        "## Continue:\n",
        "the continue statement skips the current iteration and continues with the next.\n",
        "\n",
        "## Pass:\n",
        "its like a place holder. the pass statement is a null operation, it does nothing.\n",
        "\n",
        "it is used when to remove an indentation error in loops"
      ],
      "metadata": {
        "id": "PCjGRss4RUxo"
      }
    },
    {
      "cell_type": "code",
      "source": [
        "## loop control statements\n",
        "## the break statement exits the loop prematurely\n",
        "\n",
        "## break statement\n",
        "\n",
        "for i in range(10):\n",
        "  if i == 5:\n",
        "    break\n",
        "  print(i)"
      ],
      "metadata": {
        "colab": {
          "base_uri": "https://localhost:8080/"
        },
        "id": "62jpq1v6QTll",
        "outputId": "e60258a8-1d36-4b1a-da52-104321058d56"
      },
      "execution_count": 27,
      "outputs": [
        {
          "output_type": "stream",
          "name": "stdout",
          "text": [
            "0\n",
            "1\n",
            "2\n",
            "3\n",
            "4\n"
          ]
        }
      ]
    },
    {
      "cell_type": "code",
      "source": [
        "## continue statement\n",
        "\n",
        "for i in range(10):\n",
        "  if i == 5:\n",
        "    continue\n",
        "  print(i)"
      ],
      "metadata": {
        "colab": {
          "base_uri": "https://localhost:8080/"
        },
        "id": "FDC8L2uCRIlp",
        "outputId": "06568436-7cc7-4ffb-ce3f-d60795b108af"
      },
      "execution_count": 28,
      "outputs": [
        {
          "output_type": "stream",
          "name": "stdout",
          "text": [
            "0\n",
            "1\n",
            "2\n",
            "3\n",
            "4\n",
            "6\n",
            "7\n",
            "8\n",
            "9\n"
          ]
        }
      ]
    },
    {
      "cell_type": "code",
      "source": [
        "for i in range(10):\n",
        "  if i % 2 == 0:\n",
        "    continue\n",
        "  print(i)"
      ],
      "metadata": {
        "colab": {
          "base_uri": "https://localhost:8080/"
        },
        "id": "pLkfEUl5RNvz",
        "outputId": "121aa173-a7a1-49fe-d2cc-a270e1adebab"
      },
      "execution_count": 29,
      "outputs": [
        {
          "output_type": "stream",
          "name": "stdout",
          "text": [
            "1\n",
            "3\n",
            "5\n",
            "7\n",
            "9\n"
          ]
        }
      ]
    },
    {
      "cell_type": "code",
      "source": [
        "## pass\n",
        "\n",
        "for i in range(5):\n",
        "  if i == 3:\n",
        "    pass\n",
        "  print(i)"
      ],
      "metadata": {
        "colab": {
          "base_uri": "https://localhost:8080/"
        },
        "id": "D8oiFQygR7yI",
        "outputId": "c2f1b4ca-ac1d-4fc3-f919-f10730447f35"
      },
      "execution_count": 30,
      "outputs": [
        {
          "output_type": "stream",
          "name": "stdout",
          "text": [
            "0\n",
            "1\n",
            "2\n",
            "3\n",
            "4\n"
          ]
        }
      ]
    },
    {
      "cell_type": "code",
      "source": [
        "# nested loops\n",
        "# a loop inside a loop\n",
        "\n",
        "for i in range(3):\n",
        "  for j in range(2):\n",
        "    print(i,j)"
      ],
      "metadata": {
        "colab": {
          "base_uri": "https://localhost:8080/"
        },
        "id": "D8zPEHufSG05",
        "outputId": "3b8d2aa7-79ed-4bc4-bdb3-5f4f15c3c7a6"
      },
      "execution_count": 34,
      "outputs": [
        {
          "output_type": "stream",
          "name": "stdout",
          "text": [
            "0 0\n",
            "0 1\n",
            "1 0\n",
            "1 1\n",
            "2 0\n",
            "2 1\n"
          ]
        }
      ]
    },
    {
      "cell_type": "code",
      "source": [
        "for i in range(3):\n",
        "  for j in range(5):\n",
        "    print(f\"i:{i} and j:{j}\")"
      ],
      "metadata": {
        "colab": {
          "base_uri": "https://localhost:8080/"
        },
        "id": "MG1n_hf1S72Z",
        "outputId": "b39ebbfd-19a7-4e65-e7fb-d9fbc617c371"
      },
      "execution_count": 35,
      "outputs": [
        {
          "output_type": "stream",
          "name": "stdout",
          "text": [
            "i:0 and j:0\n",
            "i:0 and j:1\n",
            "i:0 and j:2\n",
            "i:0 and j:3\n",
            "i:0 and j:4\n",
            "i:1 and j:0\n",
            "i:1 and j:1\n",
            "i:1 and j:2\n",
            "i:1 and j:3\n",
            "i:1 and j:4\n",
            "i:2 and j:0\n",
            "i:2 and j:1\n",
            "i:2 and j:2\n",
            "i:2 and j:3\n",
            "i:2 and j:4\n"
          ]
        }
      ]
    },
    {
      "cell_type": "markdown",
      "source": [
        "# Homework"
      ],
      "metadata": {
        "id": "lXq2kHowTMyv"
      }
    },
    {
      "cell_type": "code",
      "source": [
        "# Calculate the sum of the first N natural numbers using a while and for loop\n",
        "\n",
        "n = int(input(\"Enter the value of n:\"))\n",
        "## while loop\n",
        "\n",
        "sum = 0\n",
        "i = 1\n",
        "while i <= n:\n",
        "  sum = sum + i\n",
        "  i = i + 1\n",
        "print(\"The sum of the first\", n, \"natural numbers is\", sum)\n",
        "\n",
        "## for loop\n",
        "\n",
        "sum = 0\n",
        "for i in range(1, n+1):\n",
        "  sum = sum + i\n",
        "print(\"The sum of the first\", n, \"natural numbers is\", sum)"
      ],
      "metadata": {
        "colab": {
          "base_uri": "https://localhost:8080/"
        },
        "id": "HHCezY3lTw5v",
        "outputId": "ce409f2a-1f3e-4771-92db-75b99d40882d"
      },
      "execution_count": 37,
      "outputs": [
        {
          "output_type": "stream",
          "name": "stdout",
          "text": [
            "Enter the value of n:56\n",
            "The sum of the first 56 natural numbers is 1596\n",
            "The sum of the first 56 natural numbers is 1596\n"
          ]
        }
      ]
    }
  ]
}