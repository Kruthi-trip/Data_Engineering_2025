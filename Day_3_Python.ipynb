{
  "nbformat": 4,
  "nbformat_minor": 0,
  "metadata": {
    "colab": {
      "provenance": [],
      "authorship_tag": "ABX9TyOaLdS1+4d6bP7GexKk2Y8q",
      "include_colab_link": true
    },
    "kernelspec": {
      "name": "python3",
      "display_name": "Python 3"
    },
    "language_info": {
      "name": "python"
    }
  },
  "cells": [
    {
      "cell_type": "markdown",
      "metadata": {
        "id": "view-in-github",
        "colab_type": "text"
      },
      "source": [
        "<a href=\"https://colab.research.google.com/github/Kruthi-trip/Data_Engineering_2025/blob/main/Day_3_Python.ipynb\" target=\"_parent\"><img src=\"https://colab.research.google.com/assets/colab-badge.svg\" alt=\"Open In Colab\"/></a>"
      ]
    },
    {
      "cell_type": "markdown",
      "source": [
        "# Lists"
      ],
      "metadata": {
        "id": "172rBVE2mJVe"
      }
    },
    {
      "cell_type": "markdown",
      "source": [
        "# Introduction to Lists\n",
        "\n",
        "- Lists are ordered, mutable collections of items.\n",
        "- They can contain items of different data types."
      ],
      "metadata": {
        "id": "5wsocWSYmn8v"
      }
    },
    {
      "cell_type": "code",
      "execution_count": 2,
      "metadata": {
        "colab": {
          "base_uri": "https://localhost:8080/"
        },
        "id": "JYdNUd_ov6wq",
        "outputId": "6500c0b5-0e1d-4ca2-ea60-e01868dc7e6d"
      },
      "outputs": [
        {
          "output_type": "execute_result",
          "data": {
            "text/plain": [
              "list"
            ]
          },
          "metadata": {},
          "execution_count": 2
        }
      ],
      "source": [
        "l = [1,2,3,4,True,'string',]\n",
        "type(l)"
      ]
    },
    {
      "cell_type": "code",
      "source": [
        "l[5] = 'new element'\n",
        "print(l)"
      ],
      "metadata": {
        "colab": {
          "base_uri": "https://localhost:8080/"
        },
        "id": "0ZhWOicBnMjZ",
        "outputId": "6b369e0c-f3df-4f9c-f50e-c2fd9c414d4e"
      },
      "execution_count": 3,
      "outputs": [
        {
          "output_type": "stream",
          "name": "stdout",
          "text": [
            "[1, 2, 3, 4, True, 'new element']\n"
          ]
        }
      ]
    },
    {
      "cell_type": "markdown",
      "source": [
        "## Outline:\n",
        "\n",
        "1. Introductio to lists\n",
        "2. Creating lists\n",
        "3. Accessing list elements\n",
        "4. Modifiying list elements\n",
        "5. List methods\n",
        "6. Slicing lists\n",
        "7. Iterating over lists\n",
        "8. List comprehensions\n",
        "9. Nested lists\n",
        "10. Practical examples and common errors"
      ],
      "metadata": {
        "id": "LOs3vkC7ncgd"
      }
    },
    {
      "cell_type": "code",
      "source": [
        "fruits = ['apple', 'banana', 'cherry', 'kiwi', 'guava']\n",
        "type(fruits)"
      ],
      "metadata": {
        "colab": {
          "base_uri": "https://localhost:8080/"
        },
        "id": "DA2kfhfqn-un",
        "outputId": "f4f963f8-8d32-445f-db63-1ac1be243549"
      },
      "execution_count": 4,
      "outputs": [
        {
          "output_type": "execute_result",
          "data": {
            "text/plain": [
              "list"
            ]
          },
          "metadata": {},
          "execution_count": 4
        }
      ]
    },
    {
      "cell_type": "code",
      "source": [
        "print(fruits[4])\n",
        "print(fruits[3])\n",
        "print(fruits[0])\n",
        "print(fruits[-4])"
      ],
      "metadata": {
        "colab": {
          "base_uri": "https://localhost:8080/"
        },
        "id": "omtZa0KCoOiV",
        "outputId": "2016442b-8e54-4db0-a43d-fdc50b0e0507"
      },
      "execution_count": 5,
      "outputs": [
        {
          "output_type": "stream",
          "name": "stdout",
          "text": [
            "guava\n",
            "kiwi\n",
            "apple\n",
            "banana\n"
          ]
        }
      ]
    },
    {
      "cell_type": "markdown",
      "source": [
        "## Slicing\n"
      ],
      "metadata": {
        "id": "bsoXMUzgoql3"
      }
    },
    {
      "cell_type": "code",
      "source": [
        "print(fruits[1:4])"
      ],
      "metadata": {
        "colab": {
          "base_uri": "https://localhost:8080/"
        },
        "id": "iUlHZiDFotST",
        "outputId": "9fa93d81-c4b3-4b37-c593-a42996349aef"
      },
      "execution_count": 6,
      "outputs": [
        {
          "output_type": "stream",
          "name": "stdout",
          "text": [
            "['banana', 'cherry', 'kiwi']\n"
          ]
        }
      ]
    },
    {
      "cell_type": "code",
      "source": [
        "print(fruits[1:])"
      ],
      "metadata": {
        "colab": {
          "base_uri": "https://localhost:8080/"
        },
        "id": "YIzU4lKdo-W6",
        "outputId": "b55fb1ef-e4d3-4dde-d572-2c9b0730e8ae"
      },
      "execution_count": 7,
      "outputs": [
        {
          "output_type": "stream",
          "name": "stdout",
          "text": [
            "['banana', 'cherry', 'kiwi', 'guava']\n"
          ]
        }
      ]
    },
    {
      "cell_type": "markdown",
      "source": [
        "## Modifying"
      ],
      "metadata": {
        "id": "4QDxGDXfpEch"
      }
    },
    {
      "cell_type": "code",
      "source": [
        "fruits[1] = 'Watermelon'\n",
        "print(fruits)"
      ],
      "metadata": {
        "colab": {
          "base_uri": "https://localhost:8080/"
        },
        "id": "_Lv0vVl6pHYQ",
        "outputId": "71a1af2b-9267-4056-8ba6-ca2275341217"
      },
      "execution_count": 8,
      "outputs": [
        {
          "output_type": "stream",
          "name": "stdout",
          "text": [
            "['apple', 'Watermelon', 'cherry', 'kiwi', 'guava']\n"
          ]
        }
      ]
    },
    {
      "cell_type": "markdown",
      "source": [
        "# List methods\n",
        "\n",
        "Python has a set of built-in methods that you can use on lists."
      ],
      "metadata": {
        "id": "L9mdih9xrS9A"
      }
    },
    {
      "cell_type": "markdown",
      "source": [
        "- append(): Adds an element to the end of the list.\n",
        "- copy(): Returns a shallow copy of the list.\n",
        "- clear(): Removes all elements from the list.\n",
        "- count(): Returns the number of times a specified element appears in the list.\n",
        "- extend(): Adds elements from another list to the end of the current list.\n",
        "- index(): Returns the index of the first occurrence of a specified element.\n",
        "- insert(): Inserts an element at a specified position.\n",
        "- pop(): Removes and returns the element at the specified position (or the last element if no index is specified).\n",
        "- remove(): Removes the first occurrence of a specified element.\n",
        "- reverse(): Reverses the order of the elements in the list.\n",
        "- sort(): Sorts the list in ascending order (by default)."
      ],
      "metadata": {
        "id": "8yq9J9dJtWlR"
      }
    },
    {
      "cell_type": "code",
      "source": [
        "fruits = ['apple', 'banana', 'cherry', 'kiwi', 'guava']\n",
        "print(fruits)"
      ],
      "metadata": {
        "colab": {
          "base_uri": "https://localhost:8080/"
        },
        "id": "8Y9dVrTBpWbX",
        "outputId": "4361e475-40e2-491d-9cfa-86f8a0774265"
      },
      "execution_count": 9,
      "outputs": [
        {
          "output_type": "stream",
          "name": "stdout",
          "text": [
            "['apple', 'banana', 'cherry', 'kiwi', 'guava']\n"
          ]
        }
      ]
    },
    {
      "cell_type": "markdown",
      "source": [
        "## Adding an item"
      ],
      "metadata": {
        "id": "YBp_kDWOspRa"
      }
    },
    {
      "cell_type": "code",
      "source": [
        "fruits.append(\"orange\")\n",
        "print(fruits)"
      ],
      "metadata": {
        "colab": {
          "base_uri": "https://localhost:8080/"
        },
        "id": "mDcUDGGdsZJn",
        "outputId": "b272da49-f03e-4bb2-f62d-da2dadb4305b"
      },
      "execution_count": 10,
      "outputs": [
        {
          "output_type": "stream",
          "name": "stdout",
          "text": [
            "['apple', 'banana', 'cherry', 'kiwi', 'guava', 'orange']\n"
          ]
        }
      ]
    },
    {
      "cell_type": "markdown",
      "source": [
        "## Inserting an item"
      ],
      "metadata": {
        "id": "znoXEUGzssMH"
      }
    },
    {
      "cell_type": "code",
      "source": [
        "fruits.insert(2, \"watermelon\")\n",
        "print(fruits)"
      ],
      "metadata": {
        "colab": {
          "base_uri": "https://localhost:8080/"
        },
        "id": "GOkh5YsEsmRr",
        "outputId": "00c07d89-d467-438e-ee2a-18a01cbd4c8a"
      },
      "execution_count": 11,
      "outputs": [
        {
          "output_type": "stream",
          "name": "stdout",
          "text": [
            "['apple', 'banana', 'watermelon', 'cherry', 'kiwi', 'guava', 'orange']\n"
          ]
        }
      ]
    },
    {
      "cell_type": "markdown",
      "source": [
        "## Remove\n",
        "- removes the first occurance of an item"
      ],
      "metadata": {
        "id": "Sy_gAw7ftrCl"
      }
    },
    {
      "cell_type": "code",
      "source": [
        "fruits.remove(\"banana\")\n",
        "print(fruits)"
      ],
      "metadata": {
        "colab": {
          "base_uri": "https://localhost:8080/"
        },
        "id": "q0z7yFx-tskh",
        "outputId": "b35e3af1-653c-482d-afc5-3cc61cfab274"
      },
      "execution_count": 12,
      "outputs": [
        {
          "output_type": "stream",
          "name": "stdout",
          "text": [
            "['apple', 'watermelon', 'cherry', 'kiwi', 'guava', 'orange']\n"
          ]
        }
      ]
    },
    {
      "cell_type": "markdown",
      "source": [
        "## Pop\n",
        "- will pop the last element and show that as the answer"
      ],
      "metadata": {
        "id": "-WWW8SBIt2Iu"
      }
    },
    {
      "cell_type": "code",
      "source": [
        "fruits.pop()"
      ],
      "metadata": {
        "colab": {
          "base_uri": "https://localhost:8080/",
          "height": 35
        },
        "id": "suEGDJyOt368",
        "outputId": "435bf68c-6941-4bf4-e719-2662afd0fe07"
      },
      "execution_count": 13,
      "outputs": [
        {
          "output_type": "execute_result",
          "data": {
            "text/plain": [
              "'orange'"
            ],
            "application/vnd.google.colaboratory.intrinsic+json": {
              "type": "string"
            }
          },
          "metadata": {},
          "execution_count": 13
        }
      ]
    },
    {
      "cell_type": "code",
      "source": [
        "fruits.pop()"
      ],
      "metadata": {
        "colab": {
          "base_uri": "https://localhost:8080/",
          "height": 35
        },
        "id": "OnEJwflAuKMe",
        "outputId": "6d2c931c-54e3-4eeb-fd16-c518ccfcebc6"
      },
      "execution_count": 14,
      "outputs": [
        {
          "output_type": "execute_result",
          "data": {
            "text/plain": [
              "'guava'"
            ],
            "application/vnd.google.colaboratory.intrinsic+json": {
              "type": "string"
            }
          },
          "metadata": {},
          "execution_count": 14
        }
      ]
    },
    {
      "cell_type": "code",
      "source": [
        "print(fruits)\n",
        "\n",
        "popper_fruit = fruits.pop()\n",
        "print(popper_fruit)\n",
        "print(fruits)"
      ],
      "metadata": {
        "colab": {
          "base_uri": "https://localhost:8080/"
        },
        "id": "qL9SEewEuLqt",
        "outputId": "c02fe7ec-97d0-447e-c67c-e8ff37824264"
      },
      "execution_count": 15,
      "outputs": [
        {
          "output_type": "stream",
          "name": "stdout",
          "text": [
            "['apple', 'watermelon', 'cherry', 'kiwi']\n",
            "kiwi\n",
            "['apple', 'watermelon', 'cherry']\n"
          ]
        }
      ]
    },
    {
      "cell_type": "markdown",
      "source": [
        "## Finding the index"
      ],
      "metadata": {
        "id": "W-us1JlbuiCn"
      }
    },
    {
      "cell_type": "code",
      "source": [
        "index = fruits.index(\"cherry\")\n",
        "print(index)"
      ],
      "metadata": {
        "colab": {
          "base_uri": "https://localhost:8080/"
        },
        "id": "DPKF5NDGuk4Q",
        "outputId": "b34fbc6f-b63e-49a8-d47e-ea237d0bdca5"
      },
      "execution_count": 16,
      "outputs": [
        {
          "output_type": "stream",
          "name": "stdout",
          "text": [
            "2\n"
          ]
        }
      ]
    },
    {
      "cell_type": "code",
      "source": [
        "fruits.insert(2, \"banana\")\n",
        "print(fruits.count(\"banana\"))"
      ],
      "metadata": {
        "colab": {
          "base_uri": "https://localhost:8080/"
        },
        "id": "opNuYin1utx8",
        "outputId": "e61fa0f8-8883-4bbd-98dd-21d5455d166f"
      },
      "execution_count": 17,
      "outputs": [
        {
          "output_type": "stream",
          "name": "stdout",
          "text": [
            "1\n"
          ]
        }
      ]
    },
    {
      "cell_type": "markdown",
      "source": [
        "## Sorting"
      ],
      "metadata": {
        "id": "kLs5LcfIvGJs"
      }
    },
    {
      "cell_type": "code",
      "source": [
        "fruits.sort()\n",
        "fruits"
      ],
      "metadata": {
        "colab": {
          "base_uri": "https://localhost:8080/"
        },
        "id": "nJRcBhD2vHeg",
        "outputId": "fcd49841-6051-4251-d8a4-6dc9d3f37034"
      },
      "execution_count": 18,
      "outputs": [
        {
          "output_type": "execute_result",
          "data": {
            "text/plain": [
              "['apple', 'banana', 'cherry', 'watermelon']"
            ]
          },
          "metadata": {},
          "execution_count": 18
        }
      ]
    },
    {
      "cell_type": "markdown",
      "source": [
        "## Reversing the order"
      ],
      "metadata": {
        "id": "cZRxM3RyhUdM"
      }
    },
    {
      "cell_type": "code",
      "source": [
        "nums = [19, 20, 66, 89, 7]\n",
        "nums.reverse()\n",
        "print(nums)\n",
        "\n",
        "print(nums[::-1])"
      ],
      "metadata": {
        "colab": {
          "base_uri": "https://localhost:8080/"
        },
        "id": "ZZ3gacouhYby",
        "outputId": "e48cc1b7-108e-4021-d7e1-ddb35cfeab95"
      },
      "execution_count": 19,
      "outputs": [
        {
          "output_type": "stream",
          "name": "stdout",
          "text": [
            "[7, 89, 66, 20, 19]\n",
            "[19, 20, 66, 89, 7]\n"
          ]
        }
      ]
    },
    {
      "cell_type": "markdown",
      "source": [
        "## Erase all items from the list"
      ],
      "metadata": {
        "id": "mj3kvkM-hx9v"
      }
    },
    {
      "cell_type": "code",
      "source": [
        "fruits.clear()\n",
        "fruits"
      ],
      "metadata": {
        "id": "dHofMLl-h2A3",
        "colab": {
          "base_uri": "https://localhost:8080/"
        },
        "outputId": "9065b73d-80dd-4e07-8d92-803e47803826"
      },
      "execution_count": 20,
      "outputs": [
        {
          "output_type": "execute_result",
          "data": {
            "text/plain": [
              "[]"
            ]
          },
          "metadata": {},
          "execution_count": 20
        }
      ]
    },
    {
      "cell_type": "markdown",
      "source": [
        "## Slicing\n",
        "\n",
        "print ( numbers [ start : stop : step ] )"
      ],
      "metadata": {
        "id": "0qUP5j_Fiwnu"
      }
    },
    {
      "cell_type": "code",
      "source": [
        "numbers = [1, 2, 3, 4, 5, 6, 7, 8, 9, 10]\n",
        "print(numbers[2:7])\n",
        "print(numbers[2:])\n",
        "print(numbers[:7])\n",
        "print(numbers[::2])"
      ],
      "metadata": {
        "colab": {
          "base_uri": "https://localhost:8080/"
        },
        "id": "qyI-XUy3i01M",
        "outputId": "9a88e9fa-aba1-4df7-c6f3-d1dba7965859"
      },
      "execution_count": 21,
      "outputs": [
        {
          "output_type": "stream",
          "name": "stdout",
          "text": [
            "[3, 4, 5, 6, 7]\n",
            "[3, 4, 5, 6, 7, 8, 9, 10]\n",
            "[1, 2, 3, 4, 5, 6, 7]\n",
            "[1, 3, 5, 7, 9]\n"
          ]
        }
      ]
    },
    {
      "cell_type": "markdown",
      "source": [
        "## Iterate over list"
      ],
      "metadata": {
        "id": "WkVEXbwGj0sm"
      }
    },
    {
      "cell_type": "code",
      "source": [
        "for i in numbers:\n",
        "    print(i)"
      ],
      "metadata": {
        "colab": {
          "base_uri": "https://localhost:8080/"
        },
        "id": "r7bOzuqZj5Pm",
        "outputId": "511204c1-b80b-48c5-d9b1-3825eb78604b"
      },
      "execution_count": 22,
      "outputs": [
        {
          "output_type": "stream",
          "name": "stdout",
          "text": [
            "1\n",
            "2\n",
            "3\n",
            "4\n",
            "5\n",
            "6\n",
            "7\n",
            "8\n",
            "9\n",
            "10\n"
          ]
        }
      ]
    },
    {
      "cell_type": "code",
      "source": [
        "fruits = [\"apple\", \"banana\", \"cherry\", \"kiwi\", \"guava\"]\n",
        "print(fruits)"
      ],
      "metadata": {
        "colab": {
          "base_uri": "https://localhost:8080/"
        },
        "id": "0ZzZcTdBj_Bq",
        "outputId": "118f0915-1b0a-480f-8cc5-a2b44cb1df26"
      },
      "execution_count": 23,
      "outputs": [
        {
          "output_type": "stream",
          "name": "stdout",
          "text": [
            "['apple', 'banana', 'cherry', 'kiwi', 'guava']\n"
          ]
        }
      ]
    },
    {
      "cell_type": "code",
      "source": [
        "for fruit in fruits:\n",
        "  print(fruit)"
      ],
      "metadata": {
        "colab": {
          "base_uri": "https://localhost:8080/"
        },
        "id": "vEx8wpmzkgCm",
        "outputId": "d957331b-2ef3-4726-9ee4-96e23ca28897"
      },
      "execution_count": 24,
      "outputs": [
        {
          "output_type": "stream",
          "name": "stdout",
          "text": [
            "apple\n",
            "banana\n",
            "cherry\n",
            "kiwi\n",
            "guava\n"
          ]
        }
      ]
    },
    {
      "cell_type": "markdown",
      "source": [
        "## Numbering the list"
      ],
      "metadata": {
        "id": "ruw-cH_OkpxD"
      }
    },
    {
      "cell_type": "code",
      "source": [
        "counter = 1\n",
        "\n",
        "for fruit in fruits:\n",
        "  print(counter, fruit)\n",
        "  counter = counter + 1\n",
        "#      or\n",
        "  # counter += 1"
      ],
      "metadata": {
        "colab": {
          "base_uri": "https://localhost:8080/"
        },
        "id": "GV7oWpx6ksQo",
        "outputId": "9ae000ed-717d-4a6a-bc67-d12ee4e4a33b"
      },
      "execution_count": 25,
      "outputs": [
        {
          "output_type": "stream",
          "name": "stdout",
          "text": [
            "1 apple\n",
            "2 banana\n",
            "3 cherry\n",
            "4 kiwi\n",
            "5 guava\n"
          ]
        }
      ]
    },
    {
      "cell_type": "code",
      "source": [
        "for index, fruit in enumerate(fruits):\n",
        "  print(index, fruit)"
      ],
      "metadata": {
        "colab": {
          "base_uri": "https://localhost:8080/"
        },
        "id": "KJYZxUJXlFc-",
        "outputId": "acf5ecd1-63a3-484a-b199-844fa6567e1c"
      },
      "execution_count": 26,
      "outputs": [
        {
          "output_type": "stream",
          "name": "stdout",
          "text": [
            "0 apple\n",
            "1 banana\n",
            "2 cherry\n",
            "3 kiwi\n",
            "4 guava\n"
          ]
        }
      ]
    },
    {
      "cell_type": "markdown",
      "source": [
        "## List comprehensions\n",
        "\n",
        "Basic Syntax [ expression for item in iterable ]\n",
        "\n",
        "With Conditional Logic [ expression for item in iterable if condition ]\n",
        "\n",
        "Nested List Compressions [ expressions for item1 in iterable1 for item2 in iterable2 ]"
      ],
      "metadata": {
        "id": "NsvYtiq5l0dY"
      }
    },
    {
      "cell_type": "markdown",
      "source": [
        "making a list and then inserting it into an empty list"
      ],
      "metadata": {
        "id": "lew7Qw7dnhNs"
      }
    },
    {
      "cell_type": "code",
      "source": [
        "squares = []\n",
        "for num in range(10):\n",
        "  squares.append(num**2)\n",
        "\n",
        "print(squares)"
      ],
      "metadata": {
        "colab": {
          "base_uri": "https://localhost:8080/"
        },
        "id": "r0fmfRRXmdyS",
        "outputId": "4fe8cca5-a28b-4843-cdef-2473960d1a79"
      },
      "execution_count": 27,
      "outputs": [
        {
          "output_type": "stream",
          "name": "stdout",
          "text": [
            "[0, 1, 4, 9, 16, 25, 36, 49, 64, 81]\n"
          ]
        }
      ]
    },
    {
      "cell_type": "markdown",
      "source": [
        "directly inserting the new list into the empty list"
      ],
      "metadata": {
        "id": "nwkahxQGnpFL"
      }
    },
    {
      "cell_type": "code",
      "source": [
        "squares2 = [num**2 for num in range(11)]\n",
        "\n",
        "print(squares2)"
      ],
      "metadata": {
        "colab": {
          "base_uri": "https://localhost:8080/"
        },
        "id": "9KmkmiqTmtNX",
        "outputId": "36143358-f3e0-4c1d-eb9b-3c9da9e17e02"
      },
      "execution_count": 28,
      "outputs": [
        {
          "output_type": "stream",
          "name": "stdout",
          "text": [
            "[0, 1, 4, 9, 16, 25, 36, 49, 64, 81, 100]\n"
          ]
        }
      ]
    },
    {
      "cell_type": "code",
      "source": [
        "[x**2 for x in range (11)]"
      ],
      "metadata": {
        "colab": {
          "base_uri": "https://localhost:8080/"
        },
        "id": "vcpTAoZ8nuXS",
        "outputId": "716152c9-73b3-4274-b133-20edb20d6ceb"
      },
      "execution_count": 29,
      "outputs": [
        {
          "output_type": "execute_result",
          "data": {
            "text/plain": [
              "[0, 1, 4, 9, 16, 25, 36, 49, 64, 81, 100]"
            ]
          },
          "metadata": {},
          "execution_count": 29
        }
      ]
    },
    {
      "cell_type": "markdown",
      "source": [
        "## Nested List Compressions"
      ],
      "metadata": {
        "id": "TpDOwqSSodR5"
      }
    },
    {
      "cell_type": "code",
      "source": [
        "l1 = [1, 2, 3, 4]\n",
        "l2 = [1, 2, 3, 4]\n",
        "\n",
        "[i + j for i in l1 for j in l2]"
      ],
      "metadata": {
        "colab": {
          "base_uri": "https://localhost:8080/"
        },
        "id": "Whw99LaMogZy",
        "outputId": "2d0efd26-c5a4-4cb9-b6a2-9286f4e632ed"
      },
      "execution_count": 30,
      "outputs": [
        {
          "output_type": "execute_result",
          "data": {
            "text/plain": [
              "[2, 3, 4, 5, 3, 4, 5, 6, 4, 5, 6, 7, 5, 6, 7, 8]"
            ]
          },
          "metadata": {},
          "execution_count": 30
        }
      ]
    },
    {
      "cell_type": "code",
      "source": [
        "### List comprehension wit condition\n",
        "lst = []\n",
        "for i in range(10):\n",
        "  if i % 2 == 0:\n",
        "    lst.append(i)\n",
        "\n",
        "print(lst)"
      ],
      "metadata": {
        "colab": {
          "base_uri": "https://localhost:8080/"
        },
        "id": "aKX5hdK8rkyK",
        "outputId": "ef8c550b-d08b-416a-a7d1-38c4ad426d85"
      },
      "execution_count": 31,
      "outputs": [
        {
          "output_type": "stream",
          "name": "stdout",
          "text": [
            "[0, 2, 4, 6, 8]\n"
          ]
        }
      ]
    },
    {
      "cell_type": "code",
      "source": [
        "## same as above but in a single line\n",
        "[num for num in range(10) if num % 2 == 0]"
      ],
      "metadata": {
        "colab": {
          "base_uri": "https://localhost:8080/"
        },
        "id": "8-IK9sFjrwaD",
        "outputId": "d6c1f7c5-7d82-46e0-c102-c11e471079c1"
      },
      "execution_count": 32,
      "outputs": [
        {
          "output_type": "execute_result",
          "data": {
            "text/plain": [
              "[0, 2, 4, 6, 8]"
            ]
          },
          "metadata": {},
          "execution_count": 32
        }
      ]
    },
    {
      "cell_type": "code",
      "source": [
        "even_numbers = [num for num in range(20) if num % 2 == 0]\n",
        "print(even_numbers)"
      ],
      "metadata": {
        "colab": {
          "base_uri": "https://localhost:8080/"
        },
        "id": "tJ2wwGGOsIWF",
        "outputId": "08be3e28-399c-487c-dea8-239ce8955f1f"
      },
      "execution_count": 33,
      "outputs": [
        {
          "output_type": "stream",
          "name": "stdout",
          "text": [
            "[0, 2, 4, 6, 8, 10, 12, 14, 16, 18]\n"
          ]
        }
      ]
    },
    {
      "cell_type": "code",
      "source": [
        "lst1 = [1, 2, 3, 4]\n",
        "lst2 = ['a', 'b', 'c', 'd']\n",
        "\n",
        "result = []\n",
        "for i in lst1:\n",
        "  for j in lst2:\n",
        "    result.append((i, j))\n",
        "print(result)"
      ],
      "metadata": {
        "id": "x6y9g1dusac3",
        "colab": {
          "base_uri": "https://localhost:8080/"
        },
        "outputId": "704aced7-0745-4eb5-9c84-1228e830cd7d"
      },
      "execution_count": 34,
      "outputs": [
        {
          "output_type": "stream",
          "name": "stdout",
          "text": [
            "[(1, 'a'), (1, 'b'), (1, 'c'), (1, 'd'), (2, 'a'), (2, 'b'), (2, 'c'), (2, 'd'), (3, 'a'), (3, 'b'), (3, 'c'), (3, 'd'), (4, 'a'), (4, 'b'), (4, 'c'), (4, 'd')]\n"
          ]
        }
      ]
    },
    {
      "cell_type": "code",
      "source": [
        "r2 = [(i,j) for i in lst1 for j in lst2 ]\n",
        "print(r2)"
      ],
      "metadata": {
        "colab": {
          "base_uri": "https://localhost:8080/"
        },
        "id": "xIqgpCT-tBxq",
        "outputId": "e261ff2f-084c-4f8d-8094-6d7d3645ed73"
      },
      "execution_count": 35,
      "outputs": [
        {
          "output_type": "stream",
          "name": "stdout",
          "text": [
            "[(1, 'a'), (1, 'b'), (1, 'c'), (1, 'd'), (2, 'a'), (2, 'b'), (2, 'c'), (2, 'd'), (3, 'a'), (3, 'b'), (3, 'c'), (3, 'd'), (4, 'a'), (4, 'b'), (4, 'c'), (4, 'd')]\n"
          ]
        }
      ]
    },
    {
      "cell_type": "code",
      "source": [
        "words = [\"hello\", \"world\", \"kruthi\", \"tripuraneni\"]\n",
        "\n",
        "lengths = [len(word) for word in words]\n",
        "print(lengths)"
      ],
      "metadata": {
        "colab": {
          "base_uri": "https://localhost:8080/"
        },
        "id": "EbSop9smtmM6",
        "outputId": "4cf6a6d7-54e6-4e3e-d88c-8c8a7800bb18"
      },
      "execution_count": 36,
      "outputs": [
        {
          "output_type": "stream",
          "name": "stdout",
          "text": [
            "[5, 5, 6, 11]\n"
          ]
        }
      ]
    },
    {
      "cell_type": "code",
      "source": [
        "len(\"something\")"
      ],
      "metadata": {
        "colab": {
          "base_uri": "https://localhost:8080/"
        },
        "id": "p837ek3Ct0qz",
        "outputId": "329f7a5e-6f8a-4621-efb7-b439ecfcffed"
      },
      "execution_count": 37,
      "outputs": [
        {
          "output_type": "execute_result",
          "data": {
            "text/plain": [
              "9"
            ]
          },
          "metadata": {},
          "execution_count": 37
        }
      ]
    },
    {
      "cell_type": "markdown",
      "source": [
        "# Tuples\n",
        "\n",
        "Outline:\n",
        "1. Introduction to tuples\n",
        "2. Creating Tuples\n",
        "3. Accessing Tuple Elements\n",
        "4. Tuple Operations\n",
        "5. Immutable Nature of Tuples\n",
        "6. Tuple Methods\n",
        "7. Packing and Unpacking Tuples\n",
        "8. Nested Tuples\n",
        "9. Practical Examples and Common Errors"
      ],
      "metadata": {
        "id": "L-b_7vlIt36N"
      }
    },
    {
      "cell_type": "markdown",
      "source": [
        "## Introduction to tuples\n",
        "\n",
        "Tuples are ordered collection of items that are immutable. They are similar to lists, but their immutability makes then different."
      ],
      "metadata": {
        "id": "G9mBQYwsuYC5"
      }
    },
    {
      "cell_type": "markdown",
      "source": [
        "## Creating a tuple"
      ],
      "metadata": {
        "id": "r5y9dSmzulnr"
      }
    },
    {
      "cell_type": "code",
      "source": [
        "empty_tuple = ()\n",
        "print(empty_tuple)\n",
        "print(type(empty_tuple))"
      ],
      "metadata": {
        "colab": {
          "base_uri": "https://localhost:8080/"
        },
        "id": "A-c_m54Zuqqi",
        "outputId": "9cb44751-727c-489c-b3d5-63ad47adab2b"
      },
      "execution_count": 38,
      "outputs": [
        {
          "output_type": "stream",
          "name": "stdout",
          "text": [
            "()\n",
            "<class 'tuple'>\n"
          ]
        }
      ]
    },
    {
      "cell_type": "code",
      "source": [
        "type(numbers)"
      ],
      "metadata": {
        "colab": {
          "base_uri": "https://localhost:8080/"
        },
        "id": "LnIxXujguzEI",
        "outputId": "840370c0-9b5c-4ffe-be22-e4f2a5734c5d"
      },
      "execution_count": 39,
      "outputs": [
        {
          "output_type": "execute_result",
          "data": {
            "text/plain": [
              "list"
            ]
          },
          "metadata": {},
          "execution_count": 39
        }
      ]
    },
    {
      "cell_type": "code",
      "source": [
        "numbers = tuple(numbers)\n",
        "print(numbers)"
      ],
      "metadata": {
        "colab": {
          "base_uri": "https://localhost:8080/"
        },
        "id": "WD604leAu2Kl",
        "outputId": "9dcd392a-1a64-45f1-bf77-299b2258d4f5"
      },
      "execution_count": 40,
      "outputs": [
        {
          "output_type": "stream",
          "name": "stdout",
          "text": [
            "(1, 2, 3, 4, 5, 6, 7, 8, 9, 10)\n"
          ]
        }
      ]
    },
    {
      "cell_type": "code",
      "source": [
        "list((1, 2, 3, 4, 5, 6))"
      ],
      "metadata": {
        "colab": {
          "base_uri": "https://localhost:8080/"
        },
        "id": "RXQJHEHPvB1Q",
        "outputId": "e885bb15-4eee-4b7b-abf1-717873114a65"
      },
      "execution_count": 41,
      "outputs": [
        {
          "output_type": "execute_result",
          "data": {
            "text/plain": [
              "[1, 2, 3, 4, 5, 6]"
            ]
          },
          "metadata": {},
          "execution_count": 41
        }
      ]
    },
    {
      "cell_type": "markdown",
      "source": [
        "## Mixed tuples"
      ],
      "metadata": {
        "id": "GBR0lHzAvIEk"
      }
    },
    {
      "cell_type": "code",
      "source": [
        "mixed_tuples = (1, \"Hello World\", 3.14, True)\n",
        "print(mixed_tuples)"
      ],
      "metadata": {
        "colab": {
          "base_uri": "https://localhost:8080/"
        },
        "id": "WUnWksuOvKZX",
        "outputId": "07468c00-a3c6-4f4a-e121-88f0f29f9e31"
      },
      "execution_count": 42,
      "outputs": [
        {
          "output_type": "stream",
          "name": "stdout",
          "text": [
            "(1, 'Hello World', 3.14, True)\n"
          ]
        }
      ]
    },
    {
      "cell_type": "markdown",
      "source": [
        "## Accessing tuple elements"
      ],
      "metadata": {
        "id": "K2CbYcIcvZ5X"
      }
    },
    {
      "cell_type": "code",
      "source": [
        "numbers"
      ],
      "metadata": {
        "colab": {
          "base_uri": "https://localhost:8080/"
        },
        "id": "IstLXDt5vdWz",
        "outputId": "4e7ef3b9-fc7e-4d64-df24-9c72c6e0644f"
      },
      "execution_count": 43,
      "outputs": [
        {
          "output_type": "execute_result",
          "data": {
            "text/plain": [
              "(1, 2, 3, 4, 5, 6, 7, 8, 9, 10)"
            ]
          },
          "metadata": {},
          "execution_count": 43
        }
      ]
    },
    {
      "cell_type": "code",
      "source": [
        "print(numbers[2])\n",
        "print(numbers[-1])"
      ],
      "metadata": {
        "colab": {
          "base_uri": "https://localhost:8080/"
        },
        "id": "mp92dYQXvi2Q",
        "outputId": "e8a1217d-5ffb-4ca9-970e-bd26a5da793e"
      },
      "execution_count": 44,
      "outputs": [
        {
          "output_type": "stream",
          "name": "stdout",
          "text": [
            "3\n",
            "10\n"
          ]
        }
      ]
    },
    {
      "cell_type": "code",
      "source": [
        "numbers[0:4]"
      ],
      "metadata": {
        "colab": {
          "base_uri": "https://localhost:8080/"
        },
        "id": "TLXROX18wEj-",
        "outputId": "d148af8a-e95c-461d-920f-1528076afe0f"
      },
      "execution_count": 45,
      "outputs": [
        {
          "output_type": "execute_result",
          "data": {
            "text/plain": [
              "(1, 2, 3, 4)"
            ]
          },
          "metadata": {},
          "execution_count": 45
        }
      ]
    },
    {
      "cell_type": "code",
      "source": [
        "numbers[::-1]"
      ],
      "metadata": {
        "colab": {
          "base_uri": "https://localhost:8080/"
        },
        "id": "pgnKsWYQwHiw",
        "outputId": "4d7787ea-dfb1-4388-a1e3-fe315ca7060a"
      },
      "execution_count": 46,
      "outputs": [
        {
          "output_type": "execute_result",
          "data": {
            "text/plain": [
              "(10, 9, 8, 7, 6, 5, 4, 3, 2, 1)"
            ]
          },
          "metadata": {},
          "execution_count": 46
        }
      ]
    },
    {
      "cell_type": "markdown",
      "source": [
        "## Tuple operations"
      ],
      "metadata": {
        "id": "_2iIq2tqwK94"
      }
    },
    {
      "cell_type": "code",
      "source": [
        "concatenation_tuple = numbers + mixed_tuples\n",
        "print(concatenation_tuple)"
      ],
      "metadata": {
        "colab": {
          "base_uri": "https://localhost:8080/"
        },
        "id": "2amN32W2wMcN",
        "outputId": "fef62230-4dd1-4ffc-994a-9b5fbfb8da17"
      },
      "execution_count": 47,
      "outputs": [
        {
          "output_type": "stream",
          "name": "stdout",
          "text": [
            "(1, 2, 3, 4, 5, 6, 7, 8, 9, 10, 1, 'Hello World', 3.14, True)\n"
          ]
        }
      ]
    },
    {
      "cell_type": "code",
      "source": [
        "l1 = [1, 2, 3]\n",
        "l2 = [4, 5, 6]\n",
        "\n",
        "l1.append(l2)\n",
        "l1"
      ],
      "metadata": {
        "colab": {
          "base_uri": "https://localhost:8080/"
        },
        "id": "BOP3XVzywewr",
        "outputId": "bfdc8387-01e6-4798-e744-a8e8c30e18aa"
      },
      "execution_count": 48,
      "outputs": [
        {
          "output_type": "execute_result",
          "data": {
            "text/plain": [
              "[1, 2, 3, [4, 5, 6]]"
            ]
          },
          "metadata": {},
          "execution_count": 48
        }
      ]
    },
    {
      "cell_type": "code",
      "source": [
        "numbers * 2"
      ],
      "metadata": {
        "colab": {
          "base_uri": "https://localhost:8080/"
        },
        "id": "ALLXjv1MwqTl",
        "outputId": "15da00b4-0b76-4abd-ac3e-a44ccd054b2a"
      },
      "execution_count": 49,
      "outputs": [
        {
          "output_type": "execute_result",
          "data": {
            "text/plain": [
              "(1, 2, 3, 4, 5, 6, 7, 8, 9, 10, 1, 2, 3, 4, 5, 6, 7, 8, 9, 10)"
            ]
          },
          "metadata": {},
          "execution_count": 49
        }
      ]
    },
    {
      "cell_type": "markdown",
      "source": [
        "## Immutable nature of a tuple\n",
        "\n",
        "tuples are immutable, meaning they cannot be changed once assigned"
      ],
      "metadata": {
        "id": "38MPGVabw3gi"
      }
    },
    {
      "cell_type": "code",
      "source": [
        "lst = [1, 2, 3, 4, 5]\n",
        "print(lst)\n",
        "\n",
        "lst[1] = \"Kruthi\"\n",
        "print(lst)"
      ],
      "metadata": {
        "id": "euLmO05Kw6pt",
        "colab": {
          "base_uri": "https://localhost:8080/"
        },
        "outputId": "922b14de-8489-4d92-9382-9234ac797f9d"
      },
      "execution_count": 50,
      "outputs": [
        {
          "output_type": "stream",
          "name": "stdout",
          "text": [
            "[1, 2, 3, 4, 5]\n",
            "[1, 'Kruthi', 3, 4, 5]\n"
          ]
        }
      ]
    },
    {
      "cell_type": "code",
      "source": [
        "numbers\n",
        "print(type(numbers))"
      ],
      "metadata": {
        "colab": {
          "base_uri": "https://localhost:8080/"
        },
        "id": "hnMUqF_ixP9k",
        "outputId": "986bcd07-80fb-4634-a2ac-fe151759870c"
      },
      "execution_count": 51,
      "outputs": [
        {
          "output_type": "stream",
          "name": "stdout",
          "text": [
            "<class 'tuple'>\n"
          ]
        }
      ]
    },
    {
      "cell_type": "code",
      "source": [
        "numbers"
      ],
      "metadata": {
        "colab": {
          "base_uri": "https://localhost:8080/"
        },
        "id": "R0lht8oAxelC",
        "outputId": "f648ca61-9413-46c4-f3b0-d1c0c657ceaf"
      },
      "execution_count": 52,
      "outputs": [
        {
          "output_type": "execute_result",
          "data": {
            "text/plain": [
              "(1, 2, 3, 4, 5, 6, 7, 8, 9, 10)"
            ]
          },
          "metadata": {},
          "execution_count": 52
        }
      ]
    },
    {
      "cell_type": "code",
      "source": [
        " #cannot be done for a tuple\n",
        "numbers[1] = 'Kruthi'"
      ],
      "metadata": {
        "colab": {
          "base_uri": "https://localhost:8080/",
          "height": 158
        },
        "id": "_Bs8cCYLxhCs",
        "outputId": "6905fa09-d940-4190-9d0f-50378805bf5c"
      },
      "execution_count": 53,
      "outputs": [
        {
          "output_type": "error",
          "ename": "TypeError",
          "evalue": "'tuple' object does not support item assignment",
          "traceback": [
            "\u001b[0;31m---------------------------------------------------------------------------\u001b[0m",
            "\u001b[0;31mTypeError\u001b[0m                                 Traceback (most recent call last)",
            "\u001b[0;32m<ipython-input-53-1060511740>\u001b[0m in \u001b[0;36m<cell line: 0>\u001b[0;34m()\u001b[0m\n\u001b[1;32m      1\u001b[0m \u001b[0;31m#cannot be done for a tuple\u001b[0m\u001b[0;34m\u001b[0m\u001b[0;34m\u001b[0m\u001b[0m\n\u001b[0;32m----> 2\u001b[0;31m \u001b[0mnumbers\u001b[0m\u001b[0;34m[\u001b[0m\u001b[0;36m1\u001b[0m\u001b[0;34m]\u001b[0m \u001b[0;34m=\u001b[0m \u001b[0;34m'Kruthi'\u001b[0m\u001b[0;34m\u001b[0m\u001b[0;34m\u001b[0m\u001b[0m\n\u001b[0m",
            "\u001b[0;31mTypeError\u001b[0m: 'tuple' object does not support item assignment"
          ]
        }
      ]
    },
    {
      "cell_type": "markdown",
      "source": [
        "# Tuple Methods\n",
        "Python has two built-in methods that you can use on tuples.\n",
        "\n",
        "- count()\t- Returns the number of times a specified value occurs in a tuple\n",
        "- index() -\tSearches the tuple for a specified value and returns the position of where it was found\n"
      ],
      "metadata": {
        "id": "C-We-YNlxwms"
      }
    },
    {
      "cell_type": "code",
      "source": [
        "# Tuple methods\n",
        "\n",
        "numbers = (1, 2, 3, 4, 5, 6, 7, 8, 9, 10, 1, 1, 1, 'Kruthi')\n",
        "print(numbers.count(1))\n",
        "print(numbers.index('Kruthi'))"
      ],
      "metadata": {
        "colab": {
          "base_uri": "https://localhost:8080/"
        },
        "id": "nDHNswoRyGzO",
        "outputId": "1d500f71-de69-4baf-db4e-444564c8b219"
      },
      "execution_count": 54,
      "outputs": [
        {
          "output_type": "stream",
          "name": "stdout",
          "text": [
            "4\n",
            "13\n"
          ]
        }
      ]
    },
    {
      "cell_type": "code",
      "source": [
        "a = 10, 20\n",
        "type(a)"
      ],
      "metadata": {
        "colab": {
          "base_uri": "https://localhost:8080/"
        },
        "id": "WZ8-ApM5yb9G",
        "outputId": "04dfb1e0-dc51-4991-de45-6c2cc870cec2"
      },
      "execution_count": 55,
      "outputs": [
        {
          "output_type": "execute_result",
          "data": {
            "text/plain": [
              "tuple"
            ]
          },
          "metadata": {},
          "execution_count": 55
        }
      ]
    },
    {
      "cell_type": "markdown",
      "source": [
        "## Packing and unpacking a tuple"
      ],
      "metadata": {
        "id": "yfINlY35zDvO"
      }
    },
    {
      "cell_type": "markdown",
      "source": [
        "### Packing"
      ],
      "metadata": {
        "id": "f35Jn9-QzGVo"
      }
    },
    {
      "cell_type": "code",
      "source": [
        "Packed_tuple = 1, \"Hello\", 3.14\n",
        "print(Packed_tuple)"
      ],
      "metadata": {
        "colab": {
          "base_uri": "https://localhost:8080/"
        },
        "id": "ZHpCFiRpzJ7b",
        "outputId": "1f82ca44-aae3-49be-f6a8-94f1bb554b8a"
      },
      "execution_count": 56,
      "outputs": [
        {
          "output_type": "stream",
          "name": "stdout",
          "text": [
            "(1, 'Hello', 3.14)\n"
          ]
        }
      ]
    },
    {
      "cell_type": "markdown",
      "source": [
        "### Unpacking tuple"
      ],
      "metadata": {
        "id": "aQa_LxI4zQ-Z"
      }
    },
    {
      "cell_type": "code",
      "source": [
        "a, b, c = Packed_tuple\n",
        "print(a)\n",
        "print(b)\n",
        "print(c)"
      ],
      "metadata": {
        "colab": {
          "base_uri": "https://localhost:8080/"
        },
        "id": "Vml5Z7hZzXlX",
        "outputId": "69e625fe-ca22-4734-a6ba-b83a3c6aa3a5"
      },
      "execution_count": 57,
      "outputs": [
        {
          "output_type": "stream",
          "name": "stdout",
          "text": [
            "1\n",
            "Hello\n",
            "3.14\n"
          ]
        }
      ]
    },
    {
      "cell_type": "markdown",
      "source": [
        "### Unpacking with *"
      ],
      "metadata": {
        "id": "Q04Y40iLzd_0"
      }
    },
    {
      "cell_type": "code",
      "source": [
        "numbers = (1, 2, 3, 4, 5, 6, 7, 8, 9, 10)\n",
        "\n",
        "first, *middle, last = numbers\n",
        "\n",
        "print(first)\n",
        "print(middle)\n",
        "print(last)"
      ],
      "metadata": {
        "colab": {
          "base_uri": "https://localhost:8080/"
        },
        "id": "Eg9YKl1Yzh_w",
        "outputId": "668903a2-67e4-44f8-b10e-0408dba6c1ed"
      },
      "execution_count": 58,
      "outputs": [
        {
          "output_type": "stream",
          "name": "stdout",
          "text": [
            "1\n",
            "[2, 3, 4, 5, 6, 7, 8, 9]\n",
            "10\n"
          ]
        }
      ]
    },
    {
      "cell_type": "markdown",
      "source": [
        "## Nested tuple"
      ],
      "metadata": {
        "id": "V75O1BnuzvdF"
      }
    },
    {
      "cell_type": "code",
      "source": [
        "# nested list\n",
        "lst = [[1, 2, 3, 4],\n",
        "        [6, 7, 8, 9],\n",
        "          [1,\"Hello\", 3.14, \"c\"]\n",
        "      ]\n",
        "lst[2][1]"
      ],
      "metadata": {
        "colab": {
          "base_uri": "https://localhost:8080/",
          "height": 35
        },
        "id": "bPN2seOYzzPT",
        "outputId": "f0736898-469b-4d08-faf3-88b564530eb7"
      },
      "execution_count": 59,
      "outputs": [
        {
          "output_type": "execute_result",
          "data": {
            "text/plain": [
              "'Hello'"
            ],
            "application/vnd.google.colaboratory.intrinsic+json": {
              "type": "string"
            }
          },
          "metadata": {},
          "execution_count": 59
        }
      ]
    },
    {
      "cell_type": "code",
      "source": [
        "# nested list\n",
        "lst = [[1, 2, 3, 4],\n",
        "        [6, 7, 8, 9],\n",
        "          [1,\"Hello\", 3.14, \"c\"]\n",
        "      ]\n",
        "lst[2][0:3]"
      ],
      "metadata": {
        "colab": {
          "base_uri": "https://localhost:8080/"
        },
        "id": "0mKDp7n20ag7",
        "outputId": "aba672cf-083c-4e17-bb39-22c8fe69a606"
      },
      "execution_count": 60,
      "outputs": [
        {
          "output_type": "execute_result",
          "data": {
            "text/plain": [
              "[1, 'Hello', 3.14]"
            ]
          },
          "metadata": {},
          "execution_count": 60
        }
      ]
    },
    {
      "cell_type": "markdown",
      "source": [
        "## Nested Tuple"
      ],
      "metadata": {
        "id": "_e91g0tx0e66"
      }
    },
    {
      "cell_type": "markdown",
      "source": [
        "### Accessing the element inside a tuple"
      ],
      "metadata": {
        "id": "O_-6kdAE0wc9"
      }
    },
    {
      "cell_type": "code",
      "source": [
        "nested_tuple = ((1, 2, 3), (\"a\", \"b\", \"c\"), (True, False))\n",
        "\n",
        "print(nested_tuple[0][1])\n",
        "print(nested_tuple[1][2])\n",
        "print(nested_tuple[2][0])\n",
        "print(nested_tuple[0])"
      ],
      "metadata": {
        "colab": {
          "base_uri": "https://localhost:8080/"
        },
        "id": "l5I83q5M0hyL",
        "outputId": "fa7cd806-d44e-44ba-acbd-7bf7d9df01b5"
      },
      "execution_count": 61,
      "outputs": [
        {
          "output_type": "stream",
          "name": "stdout",
          "text": [
            "2\n",
            "c\n",
            "True\n",
            "(1, 2, 3)\n"
          ]
        }
      ]
    },
    {
      "cell_type": "markdown",
      "source": [
        "# Sets\n",
        "Sets are a built-in data type in Python used to store collections of unique items. They are unordered, meaning that the elements do not follow a specific order, and they do not allow duplicate elements. Sets are useful for membership tests, eliminating duplicate entries, and performing mathematical set operations like union, intersection, difference, and symmetric difference."
      ],
      "metadata": {
        "id": "DXnybxHL1GZC"
      }
    },
    {
      "cell_type": "code",
      "source": [
        "my_set = {1, 2, 3, 4, 5}\n",
        "print(my_set)\n",
        "print(type(my_set))"
      ],
      "metadata": {
        "colab": {
          "base_uri": "https://localhost:8080/"
        },
        "id": "vbk7G9l81KpQ",
        "outputId": "085cd86f-68c9-43d1-c94c-faa50d1d04a6"
      },
      "execution_count": 62,
      "outputs": [
        {
          "output_type": "stream",
          "name": "stdout",
          "text": [
            "{1, 2, 3, 4, 5}\n",
            "<class 'set'>\n"
          ]
        }
      ]
    },
    {
      "cell_type": "code",
      "source": [
        "my_empty_set = set()\n",
        "print(type(my_empty_set))"
      ],
      "metadata": {
        "colab": {
          "base_uri": "https://localhost:8080/"
        },
        "id": "T_W72uGw1aj4",
        "outputId": "d60e95b5-ed1f-4291-d530-d02e06d64c2e"
      },
      "execution_count": 63,
      "outputs": [
        {
          "output_type": "stream",
          "name": "stdout",
          "text": [
            "<class 'set'>\n"
          ]
        }
      ]
    },
    {
      "cell_type": "code",
      "source": [
        "my_set = set([1, 2, 3, 4, 5, 6])\n",
        "print(my_set)"
      ],
      "metadata": {
        "colab": {
          "base_uri": "https://localhost:8080/"
        },
        "id": "7DTKQJ5z1sn_",
        "outputId": "4d000cde-8000-4952-a486-ffc7db9e4b04"
      },
      "execution_count": 64,
      "outputs": [
        {
          "output_type": "stream",
          "name": "stdout",
          "text": [
            "{1, 2, 3, 4, 5, 6}\n"
          ]
        }
      ]
    },
    {
      "cell_type": "code",
      "source": [
        "my_empty_set = set([1, 2, 3, 6, 5, 4, 5, 6])\n",
        "print(my_empty_set)"
      ],
      "metadata": {
        "colab": {
          "base_uri": "https://localhost:8080/"
        },
        "id": "KmELVuW110Sq",
        "outputId": "42ff5a3f-2c91-4a2e-fcdc-20a537d8897b"
      },
      "execution_count": 65,
      "outputs": [
        {
          "output_type": "stream",
          "name": "stdout",
          "text": [
            "{1, 2, 3, 4, 5, 6}\n"
          ]
        }
      ]
    },
    {
      "cell_type": "markdown",
      "source": [
        "## Basit set operations\n",
        "### Adding and removing elements\n",
        "\n",
        "- we cannot add duplicates"
      ],
      "metadata": {
        "id": "wiTyIPdM18Wz"
      }
    },
    {
      "cell_type": "code",
      "source": [
        "print(my_set)\n",
        "my_set.add(7)\n",
        "print(my_set)\n",
        "my_set.add(8)\n",
        "print(my_set)"
      ],
      "metadata": {
        "colab": {
          "base_uri": "https://localhost:8080/"
        },
        "id": "egmcR-lf2Gr_",
        "outputId": "a1e48066-1475-451c-c076-2e9b6c2264f5"
      },
      "execution_count": 66,
      "outputs": [
        {
          "output_type": "stream",
          "name": "stdout",
          "text": [
            "{1, 2, 3, 4, 5, 6}\n",
            "{1, 2, 3, 4, 5, 6, 7}\n",
            "{1, 2, 3, 4, 5, 6, 7, 8}\n"
          ]
        }
      ]
    },
    {
      "cell_type": "markdown",
      "source": [
        "## Remove the elements from the set"
      ],
      "metadata": {
        "id": "F0mfgIti2fVM"
      }
    },
    {
      "cell_type": "code",
      "source": [
        "my_set.remove(3)\n",
        "print(my_set)"
      ],
      "metadata": {
        "colab": {
          "base_uri": "https://localhost:8080/"
        },
        "id": "DZaRj3tL2kUm",
        "outputId": "0d675d12-a130-46b2-f91d-5974b15630f1"
      },
      "execution_count": 67,
      "outputs": [
        {
          "output_type": "stream",
          "name": "stdout",
          "text": [
            "{1, 2, 4, 5, 6, 7, 8}\n"
          ]
        }
      ]
    },
    {
      "cell_type": "code",
      "source": [
        "## pop method\n",
        "removed_element = my_set.pop()\n",
        "print(removed_element)\n",
        "print(my_set)"
      ],
      "metadata": {
        "colab": {
          "base_uri": "https://localhost:8080/"
        },
        "id": "IsWEcACF27Vb",
        "outputId": "64bf4c63-4ce0-4782-a2f6-0712493751c5"
      },
      "execution_count": 68,
      "outputs": [
        {
          "output_type": "stream",
          "name": "stdout",
          "text": [
            "1\n",
            "{2, 4, 5, 6, 7, 8}\n"
          ]
        }
      ]
    },
    {
      "cell_type": "markdown",
      "source": [
        "## Set membership test\n"
      ],
      "metadata": {
        "id": "8Qj5vl8I36jy"
      }
    },
    {
      "cell_type": "code",
      "source": [
        "my_set = {1, 2, 3, 4, 5}\n",
        "print(3 in my_set)\n",
        "print(10 in my_set)"
      ],
      "metadata": {
        "colab": {
          "base_uri": "https://localhost:8080/"
        },
        "id": "9PLz5cm34Crm",
        "outputId": "18143338-75ee-4ec0-c646-7c0e9d20cdd6"
      },
      "execution_count": 69,
      "outputs": [
        {
          "output_type": "stream",
          "name": "stdout",
          "text": [
            "True\n",
            "False\n"
          ]
        }
      ]
    },
    {
      "cell_type": "markdown",
      "source": [
        "## mathematical operation\n",
        "\n",
        "### Union:\n",
        "this will merge the two sets but will remove duplicates"
      ],
      "metadata": {
        "id": "wuCMF3_e4RM2"
      }
    },
    {
      "cell_type": "code",
      "source": [
        "set1 = {1, 2, 3, 4, 5, 6}\n",
        "set2 = {4, 5, 6, 7, 8, 9}\n",
        "\n",
        "### Union\n",
        "union_set = set1.union(set2)\n",
        "print(union_set)"
      ],
      "metadata": {
        "colab": {
          "base_uri": "https://localhost:8080/"
        },
        "id": "PxP5WIp44T-h",
        "outputId": "0f8a04d1-49b2-4c4f-a03b-a5fdf2eadf9a"
      },
      "execution_count": 70,
      "outputs": [
        {
          "output_type": "stream",
          "name": "stdout",
          "text": [
            "{1, 2, 3, 4, 5, 6, 7, 8, 9}\n"
          ]
        }
      ]
    },
    {
      "cell_type": "markdown",
      "source": [
        "## Intersection\n",
        "\n",
        "this will print just the common elements in both the sets"
      ],
      "metadata": {
        "id": "LxNNyzWp4zTr"
      }
    },
    {
      "cell_type": "code",
      "source": [
        "intersection_set = set1.intersection(set2)\n",
        "print(intersection_set)"
      ],
      "metadata": {
        "colab": {
          "base_uri": "https://localhost:8080/"
        },
        "id": "YB6ES69U42Uo",
        "outputId": "54bf60cb-7672-4331-94b8-4b956d70c800"
      },
      "execution_count": 71,
      "outputs": [
        {
          "output_type": "stream",
          "name": "stdout",
          "text": [
            "{4, 5, 6}\n"
          ]
        }
      ]
    },
    {
      "cell_type": "markdown",
      "source": [
        "![image.png](data:image/png;base64,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)"
      ],
      "metadata": {
        "id": "NjcApjJD55k_"
      }
    },
    {
      "cell_type": "markdown",
      "source": [
        "## Difference"
      ],
      "metadata": {
        "id": "we6dwo7R6b1I"
      }
    },
    {
      "cell_type": "code",
      "source": [
        "set1 = {1, 2, 3, 4, 5, 6}\n",
        "set2 = {4, 5, 6, 7, 8, 9}\n",
        "\n",
        "print(set1.difference(set2))\n",
        "# set1 - set2"
      ],
      "metadata": {
        "colab": {
          "base_uri": "https://localhost:8080/"
        },
        "id": "e5cs5JMD56-u",
        "outputId": "95c07765-0a48-443a-9b3a-b5be61338938"
      },
      "execution_count": 72,
      "outputs": [
        {
          "output_type": "stream",
          "name": "stdout",
          "text": [
            "{1, 2, 3}\n"
          ]
        }
      ]
    },
    {
      "cell_type": "markdown",
      "source": [
        "## Symetric difference\n",
        "\n",
        "this exclueds the common elements and gives the rest"
      ],
      "metadata": {
        "id": "D5yPhjhh6wFX"
      }
    },
    {
      "cell_type": "code",
      "source": [
        "set1.symmetric_difference(set2)"
      ],
      "metadata": {
        "colab": {
          "base_uri": "https://localhost:8080/"
        },
        "id": "nbKg3rDH6yCd",
        "outputId": "fd930116-7310-4d4a-8525-33f15fc0a284"
      },
      "execution_count": 73,
      "outputs": [
        {
          "output_type": "execute_result",
          "data": {
            "text/plain": [
              "{1, 2, 3, 7, 8, 9}"
            ]
          },
          "metadata": {},
          "execution_count": 73
        }
      ]
    },
    {
      "cell_type": "markdown",
      "source": [
        "## is subset"
      ],
      "metadata": {
        "id": "T0SYDB4t7MAG"
      }
    },
    {
      "cell_type": "code",
      "source": [
        "set1 = {1, 2, 3, 4, 5, 6}\n",
        "set2 = {4, 5, 6}\n",
        "\n",
        "print(set1.issubset(set2))\n",
        "print(set1.issuperset(set2))"
      ],
      "metadata": {
        "colab": {
          "base_uri": "https://localhost:8080/"
        },
        "id": "mRfqPM2w7Poo",
        "outputId": "ca06a837-40cf-459b-b510-2833767a5c80"
      },
      "execution_count": 74,
      "outputs": [
        {
          "output_type": "stream",
          "name": "stdout",
          "text": [
            "False\n",
            "True\n"
          ]
        }
      ]
    },
    {
      "cell_type": "markdown",
      "source": [
        "## Counting unique words in text"
      ],
      "metadata": {
        "id": "N2ZC9C0-7vNz"
      }
    },
    {
      "cell_type": "code",
      "source": [
        "text = \"In this class we are discussing about sets\"\n",
        "text.split()\n",
        "\n",
        "words = text.split()\n",
        "\n",
        "# converting list of words to set to get unique words\n",
        "\n",
        "unique_words = set(words)\n",
        "print(unique_words)\n",
        "print(len(unique_words))"
      ],
      "metadata": {
        "colab": {
          "base_uri": "https://localhost:8080/"
        },
        "id": "_P2PjNVk70fX",
        "outputId": "0c3d2d53-ec64-4ab8-c007-4ddb52c0f410"
      },
      "execution_count": 75,
      "outputs": [
        {
          "output_type": "stream",
          "name": "stdout",
          "text": [
            "{'sets', 'this', 'are', 'discussing', 'we', 'class', 'about', 'In'}\n",
            "8\n"
          ]
        }
      ]
    },
    {
      "cell_type": "markdown",
      "source": [
        "# Dictionaries\n",
        "### Outline:\n",
        "\n",
        "1. Introduction to Dictionaries\n",
        "2. Creating Dictionaries\n",
        "3. Accessing Dictionary Elements\n",
        "4. Modifying Dictionary Elements\n",
        "5. Dictionary Methods\n",
        "6. Iterating Over Dictionaries\n",
        "7. Nested Dictionaries\n",
        "8. Dictionary Comprehensions\n",
        "9. Practical Examples and Common Errors"
      ],
      "metadata": {
        "id": "wvhARb9E8nuN"
      }
    },
    {
      "cell_type": "markdown",
      "source": [
        "# Introduction to Dictionaries\n",
        "Dictionaries are unordered collections of items. They store data in key-value pairs. Keys must be unique and immutable (e.g., strings, numbers, or tuples), while values can be of any type."
      ],
      "metadata": {
        "id": "uH-vARjv83HS"
      }
    },
    {
      "cell_type": "markdown",
      "source": [
        "## Creating a sictionary"
      ],
      "metadata": {
        "id": "S1245igM9Bsc"
      }
    },
    {
      "cell_type": "code",
      "source": [
        "empty_dict = {}\n",
        "print(type(empty_dict))"
      ],
      "metadata": {
        "colab": {
          "base_uri": "https://localhost:8080/"
        },
        "id": "HWL86Sew8_TW",
        "outputId": "7646683f-b0d1-4bdc-d6dc-016745352412"
      },
      "execution_count": 76,
      "outputs": [
        {
          "output_type": "stream",
          "name": "stdout",
          "text": [
            "<class 'dict'>\n"
          ]
        }
      ]
    },
    {
      "cell_type": "code",
      "source": [
        "empty_dict = dict()\n",
        "empty_dict"
      ],
      "metadata": {
        "colab": {
          "base_uri": "https://localhost:8080/"
        },
        "id": "t6WpHGmu9Q7w",
        "outputId": "fbed44c1-beff-491e-c87d-c6d87e52c27d"
      },
      "execution_count": 77,
      "outputs": [
        {
          "output_type": "execute_result",
          "data": {
            "text/plain": [
              "{}"
            ]
          },
          "metadata": {},
          "execution_count": 77
        }
      ]
    },
    {
      "cell_type": "code",
      "source": [
        "d = {'key':'value'}\n",
        "type(d)"
      ],
      "metadata": {
        "colab": {
          "base_uri": "https://localhost:8080/"
        },
        "id": "QGg9ysL09V8Q",
        "outputId": "3f32213b-6212-433c-c5a1-ca8af94c9422"
      },
      "execution_count": 78,
      "outputs": [
        {
          "output_type": "execute_result",
          "data": {
            "text/plain": [
              "dict"
            ]
          },
          "metadata": {},
          "execution_count": 78
        }
      ]
    },
    {
      "cell_type": "code",
      "source": [
        "student = {\"name\":\"Kruthi\", \"age\":27, \"grade\":\"B\"}\n",
        "print(student)\n",
        "print(type(student))"
      ],
      "metadata": {
        "colab": {
          "base_uri": "https://localhost:8080/"
        },
        "id": "-Adz8dGI9ddR",
        "outputId": "10e4e5c0-4f68-4b14-d87c-5135b1e90dc9"
      },
      "execution_count": 79,
      "outputs": [
        {
          "output_type": "stream",
          "name": "stdout",
          "text": [
            "{'name': 'Kruthi', 'age': 27, 'grade': 'B'}\n",
            "<class 'dict'>\n"
          ]
        }
      ]
    },
    {
      "cell_type": "markdown",
      "source": [
        "## accesing elements from a dictionary"
      ],
      "metadata": {
        "id": "K5Dgiww290eV"
      }
    },
    {
      "cell_type": "code",
      "source": [
        "print(student['grade'])\n",
        "print(student['age'])"
      ],
      "metadata": {
        "colab": {
          "base_uri": "https://localhost:8080/"
        },
        "id": "aj41PZCu93OR",
        "outputId": "c0f1a170-e170-40ef-df15-89e261d744da"
      },
      "execution_count": 80,
      "outputs": [
        {
          "output_type": "stream",
          "name": "stdout",
          "text": [
            "B\n",
            "27\n"
          ]
        }
      ]
    },
    {
      "cell_type": "markdown",
      "source": [
        "## accessing using get() method"
      ],
      "metadata": {
        "id": "QxdLfPnZ-HV1"
      }
    },
    {
      "cell_type": "code",
      "source": [
        "print(student.get('grade'))"
      ],
      "metadata": {
        "colab": {
          "base_uri": "https://localhost:8080/"
        },
        "id": "Gj-qiGHo-Ln2",
        "outputId": "0ce6c72b-64c1-489a-985d-1e39cfa917b2"
      },
      "execution_count": 81,
      "outputs": [
        {
          "output_type": "stream",
          "name": "stdout",
          "text": [
            "B\n"
          ]
        }
      ]
    },
    {
      "cell_type": "code",
      "source": [
        "print(student.get('last_name',\"Not Available\"))"
      ],
      "metadata": {
        "colab": {
          "base_uri": "https://localhost:8080/"
        },
        "id": "lquY_t3z-QnO",
        "outputId": "5a34f525-d8de-4d50-fe9b-a05d23a10154"
      },
      "execution_count": 82,
      "outputs": [
        {
          "output_type": "stream",
          "name": "stdout",
          "text": [
            "Not Available\n"
          ]
        }
      ]
    },
    {
      "cell_type": "markdown",
      "source": [
        "## Modifying dictionary elements\n",
        "\n",
        "doctionary are mutable, so you can add, update or delete elements"
      ],
      "metadata": {
        "id": "4yUZ5MnV4ewz"
      }
    },
    {
      "cell_type": "code",
      "source": [
        "print(student)"
      ],
      "metadata": {
        "colab": {
          "base_uri": "https://localhost:8080/"
        },
        "id": "LTUVJq0Y-mKx",
        "outputId": "dfa22ae7-e714-4070-ea61-c0e93c95e787"
      },
      "execution_count": 83,
      "outputs": [
        {
          "output_type": "stream",
          "name": "stdout",
          "text": [
            "{'name': 'Kruthi', 'age': 27, 'grade': 'B'}\n"
          ]
        }
      ]
    },
    {
      "cell_type": "code",
      "source": [
        "student[\"age\"] = 30  ##update value for the key\n",
        "print(student)\n",
        "student[\"address\"] = \"India\" ## added a new key and value\n",
        "print(student)"
      ],
      "metadata": {
        "colab": {
          "base_uri": "https://localhost:8080/"
        },
        "id": "WgTne6AK5Ufb",
        "outputId": "aef7e18f-c565-45fb-a3cb-f512b03955e5"
      },
      "execution_count": 84,
      "outputs": [
        {
          "output_type": "stream",
          "name": "stdout",
          "text": [
            "{'name': 'Kruthi', 'age': 30, 'grade': 'B'}\n",
            "{'name': 'Kruthi', 'age': 30, 'grade': 'B', 'address': 'India'}\n"
          ]
        }
      ]
    },
    {
      "cell_type": "code",
      "source": [
        "del student['grade'] ## delete key and value\n",
        "print(student)"
      ],
      "metadata": {
        "colab": {
          "base_uri": "https://localhost:8080/"
        },
        "id": "WtFV26eF55-p",
        "outputId": "7fd18034-1e0d-4f17-b99c-1023a6a04c1d"
      },
      "execution_count": 85,
      "outputs": [
        {
          "output_type": "stream",
          "name": "stdout",
          "text": [
            "{'name': 'Kruthi', 'age': 30, 'address': 'India'}\n"
          ]
        }
      ]
    },
    {
      "cell_type": "markdown",
      "source": [
        "## Dictionary methods"
      ],
      "metadata": {
        "id": "6xMDxQOq6G7J"
      }
    },
    {
      "cell_type": "code",
      "source": [
        "keys = student.keys() ## get all the keys\n",
        "print(keys)\n",
        "values = student.values() ## get all the values\n",
        "print(values)"
      ],
      "metadata": {
        "colab": {
          "base_uri": "https://localhost:8080/"
        },
        "id": "Vcc0P46t6EYa",
        "outputId": "01755177-c4ec-4dfc-9d6b-abc07dac050c"
      },
      "execution_count": 86,
      "outputs": [
        {
          "output_type": "stream",
          "name": "stdout",
          "text": [
            "dict_keys(['name', 'age', 'address'])\n",
            "dict_values(['Kruthi', 30, 'India'])\n"
          ]
        }
      ]
    },
    {
      "cell_type": "code",
      "source": [
        "items = student.items() ## get all key value pairs\n",
        "print(items)"
      ],
      "metadata": {
        "colab": {
          "base_uri": "https://localhost:8080/"
        },
        "id": "FJgjJv5j6XB_",
        "outputId": "859faa5c-4cd4-4bb0-fa43-f9f27d921e59"
      },
      "execution_count": 87,
      "outputs": [
        {
          "output_type": "stream",
          "name": "stdout",
          "text": [
            "dict_items([('name', 'Kruthi'), ('age', 30), ('address', 'India')])\n"
          ]
        }
      ]
    },
    {
      "cell_type": "code",
      "source": [
        "for key, value in student.items():\n",
        "  print(key, value)\n"
      ],
      "metadata": {
        "colab": {
          "base_uri": "https://localhost:8080/"
        },
        "id": "C6iL0den6j9z",
        "outputId": "5066e011-e1d9-47fa-ab05-eb5535088582"
      },
      "execution_count": 88,
      "outputs": [
        {
          "output_type": "stream",
          "name": "stdout",
          "text": [
            "name Kruthi\n",
            "age 30\n",
            "address India\n"
          ]
        }
      ]
    },
    {
      "cell_type": "markdown",
      "source": [
        "# Nested dictionaries"
      ],
      "metadata": {
        "id": "77ylGN8H6w7i"
      }
    },
    {
      "cell_type": "code",
      "source": [
        "students = {\n",
        "    \"student1\":{\"name\":\"Kruthi\",\"age\":27},\n",
        "    \"student2\":{\"name\":\"Abhi\",\"age\":24}\n",
        "}\n",
        "print(students)"
      ],
      "metadata": {
        "colab": {
          "base_uri": "https://localhost:8080/"
        },
        "id": "_P06Grlg61dv",
        "outputId": "e186a741-f2ab-4985-c137-256efb0234fb"
      },
      "execution_count": 89,
      "outputs": [
        {
          "output_type": "stream",
          "name": "stdout",
          "text": [
            "{'student1': {'name': 'Kruthi', 'age': 27}, 'student2': {'name': 'Abhi', 'age': 24}}\n"
          ]
        }
      ]
    },
    {
      "cell_type": "markdown",
      "source": [
        "# Dictionary comprehension"
      ],
      "metadata": {
        "id": "akIXWIPI7gTI"
      }
    },
    {
      "cell_type": "code",
      "source": [
        "squares = {x:x**2 for x in range(5)}\n",
        "print(squares)"
      ],
      "metadata": {
        "colab": {
          "base_uri": "https://localhost:8080/"
        },
        "id": "NC0iTqIw7kst",
        "outputId": "466a2788-35d7-4330-bdb1-d6410c02454a"
      },
      "execution_count": 90,
      "outputs": [
        {
          "output_type": "stream",
          "name": "stdout",
          "text": [
            "{0: 0, 1: 1, 2: 4, 3: 9, 4: 16}\n"
          ]
        }
      ]
    },
    {
      "cell_type": "markdown",
      "source": [
        "## practical examples"
      ],
      "metadata": {
        "id": "uUeCwv_77550"
      }
    },
    {
      "cell_type": "code",
      "source": [
        "## USe a dictionary to count he frequency of elements in list\n",
        "\n",
        "numbers=[1,2,2,3,3,3,4,4,4,4]\n",
        "frequency={}\n",
        "\n",
        "for number in numbers:\n",
        "    if number in frequency:\n",
        "        frequency[number]+=1\n",
        "    else:\n",
        "        frequency[number]=1\n",
        "print(frequency)\n"
      ],
      "metadata": {
        "colab": {
          "base_uri": "https://localhost:8080/"
        },
        "id": "kcIJfWqj8DCB",
        "outputId": "3d867213-df49-4aca-fe9a-89d7639b8f23"
      },
      "execution_count": 91,
      "outputs": [
        {
          "output_type": "stream",
          "name": "stdout",
          "text": [
            "{1: 1, 2: 2, 3: 3, 4: 4}\n"
          ]
        }
      ]
    },
    {
      "cell_type": "code",
      "source": [
        "def add(a,b):\n",
        "  return a+b"
      ],
      "metadata": {
        "id": "-UiOi5kd81D_"
      },
      "execution_count": 92,
      "outputs": []
    },
    {
      "cell_type": "code",
      "source": [
        "add(4,8)"
      ],
      "metadata": {
        "colab": {
          "base_uri": "https://localhost:8080/"
        },
        "id": "15I6vML-9Try",
        "outputId": "0f9b9759-83e5-4540-b79e-e0b61230c1ee"
      },
      "execution_count": 93,
      "outputs": [
        {
          "output_type": "execute_result",
          "data": {
            "text/plain": [
              "12"
            ]
          },
          "metadata": {},
          "execution_count": 93
        }
      ]
    }
  ]
}