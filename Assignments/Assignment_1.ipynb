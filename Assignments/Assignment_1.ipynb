{
  "nbformat": 4,
  "nbformat_minor": 0,
  "metadata": {
    "colab": {
      "provenance": [],
      "authorship_tag": "ABX9TyMp65/DR834o3HSeUR4l0F2",
      "include_colab_link": true
    },
    "kernelspec": {
      "name": "python3",
      "display_name": "Python 3"
    },
    "language_info": {
      "name": "python"
    }
  },
  "cells": [
    {
      "cell_type": "markdown",
      "metadata": {
        "id": "view-in-github",
        "colab_type": "text"
      },
      "source": [
        "<a href=\"https://colab.research.google.com/github/Kruthi-trip/Data_Engineering_2025/blob/main/Assignments/Assignment_1.ipynb\" target=\"_parent\"><img src=\"https://colab.research.google.com/assets/colab-badge.svg\" alt=\"Open In Colab\"/></a>"
      ]
    },
    {
      "cell_type": "markdown",
      "source": [
        "# Python Basics\n",
        "##Topics Covered:\n",
        "- Syntax and Semantics\n",
        "- Variables and Data Types\n",
        "- Basic Operators (Arithmetic, Comparison, Logical)\n"
      ],
      "metadata": {
        "id": "7NXFHvi496d-"
      }
    },
    {
      "cell_type": "markdown",
      "source": [
        "# 1. Syntax and Semantics"
      ],
      "metadata": {
        "id": "kkm-3SLi-Cee"
      }
    },
    {
      "cell_type": "markdown",
      "source": [
        "**Question 1:** Write a Python program to print \"Hello, World!\"."
      ],
      "metadata": {
        "id": "O7vIv0vv-L_x"
      }
    },
    {
      "cell_type": "code",
      "execution_count": 1,
      "metadata": {
        "colab": {
          "base_uri": "https://localhost:8080/"
        },
        "id": "TAo1Kmdc9hj4",
        "outputId": "62b57b9f-0011-4762-986d-6ff1d0516fcc"
      },
      "outputs": [
        {
          "output_type": "stream",
          "name": "stdout",
          "text": [
            "Hello, World!\n"
          ]
        }
      ],
      "source": [
        "print(\"Hello, World!\")"
      ]
    },
    {
      "cell_type": "markdown",
      "source": [
        "**Question 2:** Write a Python program that takes a user input and prints it."
      ],
      "metadata": {
        "id": "UEqPqjph-Wln"
      }
    },
    {
      "cell_type": "code",
      "source": [
        "name = input(\"Enter your name: \")\n",
        "print(\"My name is \", name)"
      ],
      "metadata": {
        "colab": {
          "base_uri": "https://localhost:8080/"
        },
        "id": "tCt5M8jh-U_Z",
        "outputId": "ccec5e08-dfe1-4f52-a445-e249075fa225"
      },
      "execution_count": 3,
      "outputs": [
        {
          "output_type": "stream",
          "name": "stdout",
          "text": [
            "Enter your name: Kruthi\n",
            "My name is  Kruthi\n"
          ]
        }
      ]
    },
    {
      "cell_type": "markdown",
      "source": [
        "**Question 3:** Write a Python program to check if a number is positive, negative, or zero."
      ],
      "metadata": {
        "id": "mKFBMXnu-yra"
      }
    },
    {
      "cell_type": "code",
      "source": [
        "number = int(input(\"Enter an integer: \"))\n",
        "if number > 0:\n",
        "  print(\"It is a positive number\")\n",
        "elif number < 0:\n",
        "  print(\"It is a negative number\")\n",
        "else:\n",
        "  print(\"It is zero\")\n"
      ],
      "metadata": {
        "colab": {
          "base_uri": "https://localhost:8080/"
        },
        "id": "_-lTXJhM-lzd",
        "outputId": "7f2b6386-9502-495a-8e2e-44b9a27f05d9"
      },
      "execution_count": 6,
      "outputs": [
        {
          "output_type": "stream",
          "name": "stdout",
          "text": [
            "Enter an integer: -56\n",
            "It is a negative number\n"
          ]
        }
      ]
    },
    {
      "cell_type": "markdown",
      "source": [
        "**Question 4:** Write a Python program to find the largest of three numbers."
      ],
      "metadata": {
        "id": "-W6ODlcX_j0P"
      }
    },
    {
      "cell_type": "code",
      "source": [
        "lst1 = [34,54,23]\n",
        "print(max(lst1))"
      ],
      "metadata": {
        "colab": {
          "base_uri": "https://localhost:8080/"
        },
        "id": "HznT_MAx_c7W",
        "outputId": "1736f137-3556-4211-f17b-3e154452d448"
      },
      "execution_count": 7,
      "outputs": [
        {
          "output_type": "stream",
          "name": "stdout",
          "text": [
            "54\n"
          ]
        }
      ]
    },
    {
      "cell_type": "markdown",
      "source": [
        "**Question 5:** Write a Python program to calculate the factorial of a number."
      ],
      "metadata": {
        "id": "tJZRTr4m_5JL"
      }
    },
    {
      "cell_type": "code",
      "source": [
        "fact_num = int(input(\"Enter a positive number: \"))\n",
        "factorial = 1\n",
        "for i in range(1,fact_num + 1):\n",
        "       factorial = factorial*i\n",
        "print(\"The factorial of\",fact_num,\"is\",factorial)"
      ],
      "metadata": {
        "colab": {
          "base_uri": "https://localhost:8080/"
        },
        "id": "lk9H6bmrAOcf",
        "outputId": "19653991-d5ef-48e1-d35f-9a8ccf955dc8"
      },
      "execution_count": 11,
      "outputs": [
        {
          "output_type": "stream",
          "name": "stdout",
          "text": [
            "Enter a positive number: 12\n",
            "The factorial of 12 is 479001600\n"
          ]
        }
      ]
    },
    {
      "cell_type": "markdown",
      "source": [
        "# 2. Variables and Data Types"
      ],
      "metadata": {
        "id": "A3bvNGflBQtF"
      }
    },
    {
      "cell_type": "markdown",
      "source": [
        "**Question 6:** Create variables of different data types: integer, float, string, and boolean. Print their values and types."
      ],
      "metadata": {
        "id": "Z4CvySOgBT4-"
      }
    },
    {
      "cell_type": "code",
      "source": [
        "var1 = 24\n",
        "var2 = 3.14\n",
        "var3 = \"Kruthi\"\n",
        "var4 = False\n",
        "print(var1,type(var1))\n",
        "print(var2,type(var2))\n",
        "print(var3,type(var3))\n",
        "print(var4,type(var4))"
      ],
      "metadata": {
        "colab": {
          "base_uri": "https://localhost:8080/"
        },
        "id": "dQT4_Ny7A6Rg",
        "outputId": "fdb86565-57af-4227-9bc4-4892dc6f2ac3"
      },
      "execution_count": 12,
      "outputs": [
        {
          "output_type": "stream",
          "name": "stdout",
          "text": [
            "24 <class 'int'>\n",
            "3.14 <class 'float'>\n",
            "Kruthi <class 'str'>\n",
            "False <class 'bool'>\n"
          ]
        }
      ]
    },
    {
      "cell_type": "markdown",
      "source": [
        "**Question 7:** Write a Python program to swap the values of two variables."
      ],
      "metadata": {
        "id": "L99dIP7FBuSA"
      }
    },
    {
      "cell_type": "code",
      "source": [
        "x = 24\n",
        "y = 27\n",
        "x,y = y,x\n",
        "\n",
        "print(x,y)"
      ],
      "metadata": {
        "colab": {
          "base_uri": "https://localhost:8080/"
        },
        "id": "bJYHndoDB-uC",
        "outputId": "4a9b846b-1a05-4818-a7bf-5d1648ebd1ac"
      },
      "execution_count": 13,
      "outputs": [
        {
          "output_type": "stream",
          "name": "stdout",
          "text": [
            "27 24\n"
          ]
        }
      ]
    },
    {
      "cell_type": "markdown",
      "source": [
        "**Question 8:** Write a Python program to convert Celsius to Fahrenheit."
      ],
      "metadata": {
        "id": "Lv98W6hSCLUT"
      }
    },
    {
      "cell_type": "code",
      "source": [
        "def celsius_to_fahrenheit(temp):\n",
        "    fahrenheit = (temp * 9/5) + 32\n",
        "    return (fahrenheit,\"Fahrenheit\")\n",
        "\n",
        "celsius_to_fahrenheit(36)\n"
      ],
      "metadata": {
        "colab": {
          "base_uri": "https://localhost:8080/"
        },
        "id": "O9F8gDX2CGJk",
        "outputId": "69e0b5af-79b4-4aea-de3a-ae403b323abc"
      },
      "execution_count": 19,
      "outputs": [
        {
          "output_type": "execute_result",
          "data": {
            "text/plain": [
              "(96.8, 'Fahrenheit')"
            ]
          },
          "metadata": {},
          "execution_count": 19
        }
      ]
    },
    {
      "cell_type": "markdown",
      "source": [
        "**Question 9:** Write a Python program to concatenate two strings."
      ],
      "metadata": {
        "id": "k88VGYAuDW8A"
      }
    },
    {
      "cell_type": "code",
      "source": [
        "str1 = \"Kruthi\"\n",
        "str2 = \"Tripuraneni\"\n",
        "\n",
        "print(str1, str2)"
      ],
      "metadata": {
        "colab": {
          "base_uri": "https://localhost:8080/"
        },
        "id": "NJjkpA-JCg2o",
        "outputId": "2a9fc084-6a7c-4d29-d32d-b77576cc628c"
      },
      "execution_count": 20,
      "outputs": [
        {
          "output_type": "stream",
          "name": "stdout",
          "text": [
            "Kruthi Tripuraneni\n"
          ]
        }
      ]
    },
    {
      "cell_type": "markdown",
      "source": [
        "**Question 10:** Write a Python program to check if a variable is of a specific data type."
      ],
      "metadata": {
        "id": "Wwu-3d8gDm-3"
      }
    },
    {
      "cell_type": "code",
      "source": [],
      "metadata": {
        "id": "G0poRGrNDkrU"
      },
      "execution_count": null,
      "outputs": []
    },
    {
      "cell_type": "markdown",
      "source": [
        "# 3. Basic Operators (Arithmetic, Comparison, Logical)"
      ],
      "metadata": {
        "id": "23jCHgjcExjK"
      }
    },
    {
      "cell_type": "markdown",
      "source": [
        "**Question 11:** Write a Python program to perform arithmetic operations: addition, subtraction, multiplication, and division."
      ],
      "metadata": {
        "id": "WcN9nPfbE0Zl"
      }
    },
    {
      "cell_type": "code",
      "source": [
        "a = 3\n",
        "b = 7\n",
        "print(f\"Addition: {a + b}\")\n",
        "print(f\"Subtraction: {a - b}\")\n",
        "print(f\"Multiplication: {a * b}\")\n",
        "print(f\"Division: {a / b}\")"
      ],
      "metadata": {
        "colab": {
          "base_uri": "https://localhost:8080/"
        },
        "id": "UisxkOB7E3X_",
        "outputId": "8d64826e-7c58-4907-c42c-e91c364ec552"
      },
      "execution_count": 21,
      "outputs": [
        {
          "output_type": "stream",
          "name": "stdout",
          "text": [
            "Addition: 10\n",
            "Subtraction: -4\n",
            "Multiplication: 21\n",
            "Division: 0.42857142857142855\n"
          ]
        }
      ]
    },
    {
      "cell_type": "markdown",
      "source": [
        "**Question 12:** Write a Python program to demonstrate comparison operators: equal to, not equal to, greater than, less than."
      ],
      "metadata": {
        "id": "cVlfQW4RFMbH"
      }
    },
    {
      "cell_type": "code",
      "source": [
        "num1 = input(\"Enter the first number: \")\n",
        "num2 = input(\"Enter the second number: \")\n",
        "if num1==num2:\n",
        "  print(\"They numbers are same\")\n",
        "else :\n",
        "  print(\"They numbers are not same\")\n",
        "\n",
        "if num1>num2:\n",
        "  print(\"First number is greater\")\n",
        "else:\n",
        "  print(\"Second number is greater\")"
      ],
      "metadata": {
        "colab": {
          "base_uri": "https://localhost:8080/"
        },
        "id": "Xf6-crHcFI3T",
        "outputId": "980c3b8d-230f-4ad3-8272-584213651cdb"
      },
      "execution_count": 31,
      "outputs": [
        {
          "output_type": "stream",
          "name": "stdout",
          "text": [
            "Enter the first number: 5\n",
            "Enter the second number: 5\n",
            "They numbers are same\n",
            "Second number is greater\n"
          ]
        }
      ]
    },
    {
      "cell_type": "code",
      "source": [],
      "metadata": {
        "id": "mkKbZBTpFwLY"
      },
      "execution_count": null,
      "outputs": []
    }
  ]
}