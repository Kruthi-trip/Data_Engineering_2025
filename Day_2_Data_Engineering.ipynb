{
  "nbformat": 4,
  "nbformat_minor": 0,
  "metadata": {
    "colab": {
      "provenance": [],
      "authorship_tag": "ABX9TyMH3xWYBNyeh+KGy2wpPg00",
      "include_colab_link": true
    },
    "kernelspec": {
      "name": "python3",
      "display_name": "Python 3"
    },
    "language_info": {
      "name": "python"
    }
  },
  "cells": [
    {
      "cell_type": "markdown",
      "metadata": {
        "id": "view-in-github",
        "colab_type": "text"
      },
      "source": [
        "<a href=\"https://colab.research.google.com/github/Kruthi-trip/Data_Engineering_2025/blob/main/Day_2_Data_Engineering.ipynb\" target=\"_parent\"><img src=\"https://colab.research.google.com/assets/colab-badge.svg\" alt=\"Open In Colab\"/></a>"
      ]
    },
    {
      "cell_type": "markdown",
      "source": [
        "## Python String Formatting\n",
        "\n",
        "String formatting in Python is a powerful way to create clean and readable output, especially when working with numbers, dates, and other data types. Python provides several methods for string formatting we will explore f-string (formatted string literals)"
      ],
      "metadata": {
        "id": "xhCLWPv_7djW"
      }
    },
    {
      "cell_type": "code",
      "source": [
        "# example1\n",
        "num1 = 10\n",
        "num2 = 20\n",
        "\n",
        "print(\"The first number is\", num1, \"and the second number is\", num2)\n",
        "\n"
      ],
      "metadata": {
        "colab": {
          "base_uri": "https://localhost:8080/"
        },
        "id": "HVNAfuoN8Ujh",
        "outputId": "70f7359c-9702-44af-d6a3-f535e849cfa7"
      },
      "execution_count": 1,
      "outputs": [
        {
          "output_type": "stream",
          "name": "stdout",
          "text": [
            "The first number is 10 and the second number is 20\n"
          ]
        }
      ]
    },
    {
      "cell_type": "code",
      "execution_count": 2,
      "metadata": {
        "colab": {
          "base_uri": "https://localhost:8080/"
        },
        "id": "QVgWMHcI9Map",
        "outputId": "1897478c-a85e-419c-ec4f-4540451db517"
      },
      "outputs": [
        {
          "output_type": "stream",
          "name": "stdout",
          "text": [
            "The first number is 10 and the second number is 20\n"
          ]
        }
      ],
      "source": [
        "#example2\n",
        "print(f\"The first number is {num1} and the second number is {num2}\")"
      ]
    },
    {
      "cell_type": "code",
      "source": [
        "name = input(\"Enter your name: \")\n",
        "age = input(\"Enter your age: \")\n",
        "print(f\"Hello, my name is {name} and I am {age}\")"
      ],
      "metadata": {
        "colab": {
          "base_uri": "https://localhost:8080/"
        },
        "id": "_uPIJ6Hw9Zs1",
        "outputId": "7e605b47-277d-4176-e52e-6e7b1e572086"
      },
      "execution_count": 7,
      "outputs": [
        {
          "output_type": "stream",
          "name": "stdout",
          "text": [
            "Enter your name: Kruthi\n",
            "Enter your age: 27\n",
            "Hello, my name is Kruthi and I am 27\n"
          ]
        }
      ]
    },
    {
      "cell_type": "markdown",
      "source": [
        "## 2. Number formatting in f-strings\n",
        "\n",
        "When dealing with numbers, f-strings allow precise contro over how they are formatted. You can specify the number of decimal places, padding, alignment, and more. This is controlled by the format specifiers.\n",
        "\n",
        "### 2.1 Integer Formatting\n",
        "Use the d format specifier to format integers.\n",
        "\n",
        "- This basically does not print the decimals in the output"
      ],
      "metadata": {
        "id": "ErH3ue9yAJsb"
      }
    },
    {
      "cell_type": "code",
      "source": [
        "number = 1234\n",
        "print(f\"Integer: {number:d}\")"
      ],
      "metadata": {
        "colab": {
          "base_uri": "https://localhost:8080/"
        },
        "id": "haRGM7KTAoGi",
        "outputId": "ee89a45e-ee90-443f-a79c-831baac4e822"
      },
      "execution_count": 8,
      "outputs": [
        {
          "output_type": "stream",
          "name": "stdout",
          "text": [
            "Integer: 1234\n"
          ]
        }
      ]
    },
    {
      "cell_type": "markdown",
      "source": [
        "### 2.2 Floating-point Formatting\n",
        "\n",
        "Use the f format specifier for floating-point numbers. You can control the number of decimal places."
      ],
      "metadata": {
        "id": "y1AgHcXbBfAn"
      }
    },
    {
      "cell_type": "code",
      "source": [
        "pi = 3.141592653589793\n",
        "print(f\"Pi rounded to 2 decimal places is : {pi:.2f}\")\n",
        "\n",
        "# ':.2f' rounds the number to 2 decimal places"
      ],
      "metadata": {
        "colab": {
          "base_uri": "https://localhost:8080/"
        },
        "id": "-lYlpbbuBuXK",
        "outputId": "b9d25005-89b2-41c7-d80a-2f595bb14682"
      },
      "execution_count": 9,
      "outputs": [
        {
          "output_type": "stream",
          "name": "stdout",
          "text": [
            "Pi rounded to 2 decimal places is : 3.14\n"
          ]
        }
      ]
    },
    {
      "cell_type": "markdown",
      "source": [
        "### 2.3 Scientific Notation\n",
        "\n",
        "Use the e format specifier for scientific notation."
      ],
      "metadata": {
        "id": "MA013sYLCMUi"
      }
    },
    {
      "cell_type": "code",
      "source": [
        "large_number = 1234567\n",
        "print(f\"Scientific Notation: {large_number:.2e}\")"
      ],
      "metadata": {
        "colab": {
          "base_uri": "https://localhost:8080/"
        },
        "id": "qf-Tgq0_CgXr",
        "outputId": "ba2ec7cb-3901-438b-9480-8eaa7354e2d3"
      },
      "execution_count": 10,
      "outputs": [
        {
          "output_type": "stream",
          "name": "stdout",
          "text": [
            "Scientific Notation: 1.23e+06\n"
          ]
        }
      ]
    },
    {
      "cell_type": "markdown",
      "source": [
        "### 2.4 General Format\n",
        "The g specifier is a general format specifier that uses either fixed-point or scientific notation, depending on the size of the number and the precesion.\n"
      ],
      "metadata": {
        "id": "4c5VTMD0DNsD"
      }
    },
    {
      "cell_type": "code",
      "source": [
        "value = 1234567.89\n",
        "print(f\"General Format: {value:.2g}\")"
      ],
      "metadata": {
        "colab": {
          "base_uri": "https://localhost:8080/"
        },
        "id": "NmfUUgdwDk95",
        "outputId": "14b87cb7-5b4a-4283-e936-a40d82b7b3a6"
      },
      "execution_count": 11,
      "outputs": [
        {
          "output_type": "stream",
          "name": "stdout",
          "text": [
            "General Format: 1.2e+06\n"
          ]
        }
      ]
    },
    {
      "cell_type": "markdown",
      "source": [
        "## 3. Controlling the width and Alignment\n",
        "\n",
        "You can specify the width of the formatted output and control alignment (left, right, or center). This is useful when you need to align data in tables or output that requires specific formatting.\n",
        "\n",
        "### 3.1 Setting Width\n",
        "The width specifies the minimum number of characters that the formatted output should occupy. If the number is smaller than the specified width, spaces will be added."
      ],
      "metadata": {
        "id": "zlahKMfOD85c"
      }
    },
    {
      "cell_type": "code",
      "source": [
        "number = 42\n",
        "print(f\"Width of 10: {number:10d}\")"
      ],
      "metadata": {
        "colab": {
          "base_uri": "https://localhost:8080/"
        },
        "id": "PCCwaJK4FL_X",
        "outputId": "268ca485-2680-40f9-a2a5-3b0ed8729aca"
      },
      "execution_count": 12,
      "outputs": [
        {
          "output_type": "stream",
          "name": "stdout",
          "text": [
            "Width of 10:         42\n"
          ]
        }
      ]
    },
    {
      "cell_type": "markdown",
      "source": [
        "### 3.2 Alignment\n",
        "\n",
        "You can align the formatted value within the available width using the following options:\n",
        "- ' <: ' Left aligns the value\n",
        "- ' >: ' Right aligns the value\n",
        "- ' ^: ' Centers the value"
      ],
      "metadata": {
        "id": "WieJeNo3Fb6N"
      }
    },
    {
      "cell_type": "code",
      "source": [
        "number = 42\n",
        "print(f\"Left Alignment: {number:<10d}\")\n",
        "print(f\"Right Alignment: {number:>10d}\")\n",
        "print(f\"Center Alignment: {number:^10d}\")"
      ],
      "metadata": {
        "colab": {
          "base_uri": "https://localhost:8080/"
        },
        "id": "u1gIfRmgFz1z",
        "outputId": "0d158c7e-de30-4410-8c8f-f1da6c4f2472"
      },
      "execution_count": 13,
      "outputs": [
        {
          "output_type": "stream",
          "name": "stdout",
          "text": [
            "Left Alignment: 42        \n",
            "Right Alignment:         42\n",
            "Center Alignment:     42    \n"
          ]
        }
      ]
    },
    {
      "cell_type": "markdown",
      "source": [
        " ### 3.3 Padding with Zeroes\n",
        " You can pad numbers with leaading zeroes using the 0 specifier"
      ],
      "metadata": {
        "id": "hzhCDpaeGA1L"
      }
    },
    {
      "cell_type": "code",
      "source": [
        "number = 42\n",
        "print(f\"Zero-padded: {number:05d}\")"
      ],
      "metadata": {
        "colab": {
          "base_uri": "https://localhost:8080/"
        },
        "id": "NBBmQtEbGvV6",
        "outputId": "b539e9b6-908d-412c-bdf4-e0919bba681c"
      },
      "execution_count": 14,
      "outputs": [
        {
          "output_type": "stream",
          "name": "stdout",
          "text": [
            "Zero-padded: 00042\n"
          ]
        }
      ]
    },
    {
      "cell_type": "markdown",
      "source": [
        "## 4. Sign Formatting\n",
        "You can control how the sign (positive or negative) is displayed with the following options:\n",
        "- ' +: ' Always displays the sign (positive or negative)\n",
        "- ' -: ' Displays the sign only for negative numbers (default)\n",
        "- ' : ' displays a space for positive numbers (optional)"
      ],
      "metadata": {
        "id": "6OnTIjFnHuB_"
      }
    },
    {
      "cell_type": "code",
      "source": [
        "positive_number = 42\n",
        "negative_number = -42\n",
        "\n",
        "print(f\"Positive with sign: {positive_number:+d}\")\n",
        "print(f\"Negative with sign: {negative_number:-d}\")\n",
        "print(f\"Positive with space: {positive_number: d}\")"
      ],
      "metadata": {
        "colab": {
          "base_uri": "https://localhost:8080/"
        },
        "id": "N1M4RChmHkcx",
        "outputId": "e2fb5485-229a-4e86-8e40-c0f416c226da"
      },
      "execution_count": 15,
      "outputs": [
        {
          "output_type": "stream",
          "name": "stdout",
          "text": [
            "Positive with sign: +42\n",
            "Negative with sign: -42\n",
            "Positive with space:  42\n"
          ]
        }
      ]
    },
    {
      "cell_type": "markdown",
      "source": [
        "## 5. Percentage Formatting\n",
        "To format a number as a percentage, use the % format specifier. This multiplies the value by 100 and appends a % symbol"
      ],
      "metadata": {
        "id": "nyLfPvu_JRhr"
      }
    },
    {
      "cell_type": "code",
      "source": [
        "value = 0.125\n",
        "print(f\"Percentage: {value:.2%}\")"
      ],
      "metadata": {
        "colab": {
          "base_uri": "https://localhost:8080/"
        },
        "id": "6usI88ggJobg",
        "outputId": "2bfdc67f-eb3b-4ccd-f3f6-c5d90327af4b"
      },
      "execution_count": 16,
      "outputs": [
        {
          "output_type": "stream",
          "name": "stdout",
          "text": [
            "Percentage: 12.50%\n"
          ]
        }
      ]
    },
    {
      "cell_type": "markdown",
      "source": [
        "## 6. Comma as Thousants seperator\n",
        "You can format numbers with commas as thousands seperator using the ' , ' specifier.\n"
      ],
      "metadata": {
        "id": "TkVW2lh0J04K"
      }
    },
    {
      "cell_type": "code",
      "source": [
        "large_number = 1234567890\n",
        "print(f\"With Commas: {large_number:,}\")"
      ],
      "metadata": {
        "colab": {
          "base_uri": "https://localhost:8080/"
        },
        "id": "L3Sh4Xc8KHHi",
        "outputId": "537d9286-5d82-4a04-ed66-ed2fc1400736"
      },
      "execution_count": 19,
      "outputs": [
        {
          "output_type": "stream",
          "name": "stdout",
          "text": [
            "With Commas: 1,234,567,890\n"
          ]
        }
      ]
    },
    {
      "cell_type": "markdown",
      "source": [
        "## 8. Date and Time Formatting\n",
        "Python's datetime module allows formatting dates and times. The strftime method is used to format datetime objects into readable strings."
      ],
      "metadata": {
        "id": "uN6CcdfAKV52"
      }
    },
    {
      "cell_type": "code",
      "source": [
        "from datetime import datetime\n",
        "\n",
        "now = datetime.now()\n",
        "print(f\"Current Date and Time: {now:'%Y-%m-%d %H:%M:%S'}\")\n"
      ],
      "metadata": {
        "colab": {
          "base_uri": "https://localhost:8080/"
        },
        "id": "TGag82FaK9cq",
        "outputId": "fa119643-2b96-4e5a-c9be-a92f8607b9fb"
      },
      "execution_count": 22,
      "outputs": [
        {
          "output_type": "stream",
          "name": "stdout",
          "text": [
            "Current Date and Time: '2025-06-09 14:52:25'\n"
          ]
        }
      ]
    },
    {
      "cell_type": "markdown",
      "source": [
        "## Common date-time format codes:\n",
        "- %Y : Year with century\n",
        "- %m : Month (2 digits)\n",
        "- %d : Day of the month (2 digits)\n",
        "- %H : Hour (24 - hout clock)\n",
        "- %M : Minute\n",
        "- %S : Second"
      ],
      "metadata": {
        "id": "5uph_qyyLek1"
      }
    },
    {
      "cell_type": "markdown",
      "source": [
        "## 9. strftime for Date and Time Formatting\n",
        "The strftime() method in Python is used to convert a datetime object into a string based on a specific format. It allows you to create custom date and time representations that fit your needs. This is especially useful when working with timestamps, logging, or presenting dates in different formats.\n",
        "\n",
        "To use strftime, you first need to import the datetime module and create a datetime object (or use datetime.now() for the current date and time).\n",
        "\n",
        "## Syntax:\n",
        "\n",
        "datetime_object.strftime(format_string)\n",
        "\n",
        "### Where:\n",
        "- datetime_object: A datetime object (eg. datetime.now() or any datetime object you create).\n",
        "- format_string: A string that contains format codes that specify how the date and time should be displayed.\n",
        "\n",
        "\n",
        "# stopped at 33 minutes"
      ],
      "metadata": {
        "id": "YbPUOfREMH1i"
      }
    },
    {
      "cell_type": "markdown",
      "source": [],
      "metadata": {
        "id": "QAdji8aJPTbC"
      }
    }
  ]
}